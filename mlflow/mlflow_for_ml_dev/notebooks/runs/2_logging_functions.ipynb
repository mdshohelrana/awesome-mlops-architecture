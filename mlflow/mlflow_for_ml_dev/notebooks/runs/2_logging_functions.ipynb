{
 "cells": [
  {
   "cell_type": "markdown",
   "metadata": {},
   "source": [
    "# Logging Metrics"
   ]
  },
  {
   "cell_type": "code",
   "execution_count": 21,
   "metadata": {},
   "outputs": [],
   "source": [
    "from mlflow_for_ml_dev.utils.utils import get_root_project\n",
    "import matplotlib.pyplot as plt\n",
    "import mlflow"
   ]
  },
  {
   "cell_type": "code",
   "execution_count": 22,
   "metadata": {},
   "outputs": [
    {
     "name": "stdout",
     "output_type": "stream",
     "text": [
      "C:\\Users\\manue\\projects\\mlflow_for_ml_dev\\runs\\mlruns\n"
     ]
    }
   ],
   "source": [
    "# Set the tracking uri to the mlruns folder in the root project\n",
    "# This will allow us to store run metadata in the mlruns folder in the root project\n",
    "artifact_location = get_root_project() / \"runs\" / \"mlruns\"\n",
    "\n",
    "mlflow.set_tracking_uri(artifact_location.as_uri())\n",
    "print(artifact_location)"
   ]
  },
  {
   "cell_type": "code",
   "execution_count": 23,
   "metadata": {},
   "outputs": [],
   "source": [
    "# creating experiments\n",
    "experiment_name = \"logging_function\"\n",
    "tags = {\n",
    "    \"project_name\":\"UNDEFINED\",\n",
    "    \"topic\":\"run_management\",\n",
    "    \"mlflow.note.content\":\"This experiment is used to test the logging function.\"\n",
    "}\n",
    "\n",
    "# Using try except to avoid error if the experiment already exists\n",
    "try:\n",
    "    experiment_id = mlflow.create_experiment(name = experiment_name, tags = tags)\n",
    "except:\n",
    "    print(\"Experiment already exists.\")    \n",
    "\n",
    "experiment = mlflow.set_experiment(experiment_name)"
   ]
  },
  {
   "cell_type": "code",
   "execution_count": null,
   "metadata": {},
   "outputs": [],
   "source": [
    "# logging metrics\n",
    "with mlflow.start_run(run_name=\"logging_metrics\", experiment_id=experiment.experiment_id) as run:\n",
    "    print(\"Run ID:\", run.info.run_id)\n",
    "\n",
    "    # logging a single metric\n",
    "    mlflow.log_metric(\"m1\", 2.0)\n",
    "\n",
    "    # logging multiple metrics as a dictionary\n",
    "    mlflow.log_metrics({\"m2\": 3.0, \"m3\": 4.0})"
   ]
  },
  {
   "cell_type": "markdown",
   "metadata": {},
   "source": [
    "### Using `step` parameter when logging metrics"
   ]
  },
  {
   "cell_type": "code",
   "execution_count": null,
   "metadata": {},
   "outputs": [],
   "source": [
    "# Training a deep learning model \n",
    "epochs = 100\n",
    "batch_size = 32\n",
    "# simulate training loop\n",
    "# in this case we are providing the run_id and experiment_id\n",
    "# this is useful when we want to log metrics to an existing run\n",
    "with mlflow.start_run(run_id=run.info.run_id, experiment_id=experiment.experiment_id) as run:\n",
    "    \n",
    "    # simulate training loop\n",
    "    for epoch in range(1,epochs+1):\n",
    "        acc = 1 - 2 ** -epoch - random.random() / epoch\n",
    "        loss = 2 ** -epoch + random.random() / epoch\n",
    "\n",
    "        # In this case every step represents an epoch\n",
    "        # since we have defined 100 epochs, we will have 100 steps\n",
    "        mlflow.log_metric(\"accuracy\", acc, step=epoch)\n",
    "        mlflow.log_metric(\"loss\",loss, step = epoch)\n",
    "\n",
    "    # logging a single metric\n",
    "    mlflow.log_metric(\"m1\", 4.0, step=1)\n",
    "\n",
    "    # logging multiple metrics\n",
    "    mlflow.log_metrics({\"m2\": 4.0, \"m3\": 7.0}, step=1)"
   ]
  },
  {
   "cell_type": "code",
   "execution_count": null,
   "metadata": {},
   "outputs": [],
   "source": [
    "client = mlflow.MlflowClient()"
   ]
  },
  {
   "cell_type": "code",
   "execution_count": null,
   "metadata": {},
   "outputs": [],
   "source": [
    "# use the client to get the metric history\n",
    "metric_history = client.get_metric_history(run_id = run.info.run_id, key=\"accuracy\")"
   ]
  },
  {
   "cell_type": "code",
   "execution_count": null,
   "metadata": {},
   "outputs": [],
   "source": [
    "metric_history"
   ]
  },
  {
   "cell_type": "code",
   "execution_count": null,
   "metadata": {},
   "outputs": [],
   "source": [
    "metric_value = [m.value for m in metric_history]\n",
    "plt.plot(range(1,epochs+1), metric_value)"
   ]
  },
  {
   "cell_type": "code",
   "execution_count": null,
   "metadata": {},
   "outputs": [],
   "source": [
    "# use the client to get the metric history\n",
    "metric_history = client.get_metric_history(run_id = run.info.run_id, key = \"m1\")\n",
    "metric_history"
   ]
  },
  {
   "cell_type": "markdown",
   "metadata": {},
   "source": [
    "# Logging Parameters"
   ]
  },
  {
   "cell_type": "code",
   "execution_count": null,
   "metadata": {},
   "outputs": [],
   "source": [
    "with mlflow.start_run(run_name=\"logging_params\", experiment_id=experiment.experiment_id) as run:\n",
    "    print(\"Run ID:\", run.info.run_id)\n",
    "\n",
    "    # logging a single parameter\n",
    "    mlflow.log_param(\"p1\", 2.0)\n",
    "\n",
    "    # logging multiple parameters\n",
    "    mlflow.log_params({\"p2\": 3.0, \"p3\": 4.0, \"p4\":\"This is a parameter.\"})"
   ]
  },
  {
   "cell_type": "markdown",
   "metadata": {},
   "source": [
    "# Logging Dict"
   ]
  },
  {
   "cell_type": "code",
   "execution_count": null,
   "metadata": {},
   "outputs": [],
   "source": [
    "with mlflow.start_run(run_name=\"logging_dict\", experiment_id=experiment.experiment_id) as run:\n",
    "    print(\"Run ID:\", run.info.run_id)\n",
    "\n",
    "    # logging a dictionary as json\n",
    "    mlflow.log_dict(dictionary={\"m1\": 2.0, \"m2\": 3.0, \"m3\": 4.0}, artifact_file=\"files/metrics.json\")\n",
    "\n",
    "    # logging a dictionary as yaml \n",
    "    config = {\n",
    "        \"dev\":{\n",
    "            \"epochs\": 100,\n",
    "            \"batch_size\": 32\n",
    "        },\n",
    "        \"test\":{\n",
    "            \"epochs\": 50,\n",
    "            \"batch_size\": 16\n",
    "        },\n",
    "        \"prod\":{\n",
    "            \"epochs\": 10,\n",
    "            \"batch_size\": 8\n",
    "        }\n",
    "    }\n",
    "    mlflow.log_dict(dictionary=config, artifact_file=\"files/config.yaml\")\n",
    "    mlflow.log_dict(dictionary=config, artifact_file=\"files/config.json\")\n"
   ]
  },
  {
   "cell_type": "markdown",
   "metadata": {},
   "source": [
    "# Logging Artifacts"
   ]
  },
  {
   "cell_type": "code",
   "execution_count": 24,
   "metadata": {},
   "outputs": [
    {
     "name": "stdout",
     "output_type": "stream",
     "text": [
      "Run ID: 98f9160b8ffa4af586291d650ea21918\n"
     ]
    }
   ],
   "source": [
    "#Log a single artifact (file)\n",
    "with mlflow.start_run(run_name=\"logging_artifact\", experiment_id=experiment.experiment_id) as run:\n",
    "    print(\"Run ID:\", run.info.run_id)\n",
    "\n",
    "    # logging an artifact\n",
    "    mlflow.log_artifact(local_path=\"./images/mlflow_run.jpeg\",artifact_path=\"images\")"
   ]
  },
  {
   "cell_type": "code",
   "execution_count": 25,
   "metadata": {},
   "outputs": [
    {
     "name": "stdout",
     "output_type": "stream",
     "text": [
      "Run ID: 09f99b35ec734fd2808608e16730304f\n"
     ]
    }
   ],
   "source": [
    "with mlflow.start_run(run_name=\"logging_artifacts\", experiment_id=experiment.experiment_id) as run:\n",
    "    print(\"Run ID:\", run.info.run_id)\n",
    "\n",
    "    # logging artifacts\n",
    "    mlflow.log_artifacts(local_dir=\"./images\",artifact_path=\"images\")"
   ]
  },
  {
   "cell_type": "markdown",
   "metadata": {},
   "source": [
    "# Logging Figure\n",
    "\n",
    "Log a figure as an artifact. The following figure objects are supported:\n",
    "\n",
    "* matplotlib.figure.Figure\n",
    "\n",
    "* plotly.graph_objects.Figure"
   ]
  },
  {
   "cell_type": "code",
   "execution_count": 26,
   "metadata": {},
   "outputs": [
    {
     "name": "stdout",
     "output_type": "stream",
     "text": [
      "Run ID: 237a9932e2cd4bf7aa836f2e4bac9190\n"
     ]
    },
    {
     "data": {
      "image/png": "[encoded data removed]",
      "text/plain": [
       "<Figure size 640x480 with 1 Axes>"
      ]
     },
     "metadata": {},
     "output_type": "display_data"
    }
   ],
   "source": [
    "import matplotlib.pyplot as plt\n",
    "\n",
    "fig, ax = plt.subplots()\n",
    "ax.plot([0, 1], [2, 3])\n",
    "\n",
    "with mlflow.start_run(run_name=\"logging_figure\", experiment_id=experiment.experiment_id) as run:\n",
    "    print(\"Run ID:\", run.info.run_id)\n",
    "\n",
    "    # logging a figure\n",
    "    mlflow.log_figure(fig, artifact_file=\"figures/figure.png\")"
   ]
  },
  {
   "cell_type": "markdown",
   "metadata": {},
   "source": [
    "# Logging Image\n",
    "\n",
    "Log an image as an artifact. The following image objects are supported:\n",
    "\n",
    "* numpy.ndarray\n",
    "\n",
    "* PIL.Image.Image"
   ]
  },
  {
   "cell_type": "code",
   "execution_count": 27,
   "metadata": {},
   "outputs": [
    {
     "name": "stdout",
     "output_type": "stream",
     "text": [
      "Run ID: 3e688d119a874402a235554df2736a14\n"
     ]
    }
   ],
   "source": [
    "import numpy as np\n",
    "\n",
    "image = np.random.randint(0, 256, size=(100, 100, 3), dtype=np.uint8)\n",
    "\n",
    "with mlflow.start_run(run_name=\"logging_image\", experiment_id=experiment.experiment_id) as run:\n",
    "    print(\"Run ID:\", run.info.run_id)\n",
    "\n",
    "    # logging an image\n",
    "    mlflow.log_image(image, artifact_file=\"image.png\")"
   ]
  },
  {
   "cell_type": "markdown",
   "metadata": {},
   "source": [
    "# Logging Table\n",
    "\n",
    "Log a table to MLflow Tracking as a JSON artifact. If the artifact_file already exists in the run, the data would be appended to the existing artifact_file.\n",
    "\n",
    "* data – Dictionary or pandas.DataFrame to log.\n",
    "\n",
    "* artifact_file – The run-relative artifact file path in posixpath format to which the table is saved (e.g. “dir/file.json”)."
   ]
  },
  {
   "cell_type": "code",
   "execution_count": 28,
   "metadata": {},
   "outputs": [
    {
     "name": "stdout",
     "output_type": "stream",
     "text": [
      "Run ID: e3bd8515879b45f6be138e2110860eea\n"
     ]
    }
   ],
   "source": [
    "import mlflow\n",
    "\n",
    "table_dict = {\n",
    "    \"inputs\": [\"What is MLflow?\", \"What is Databricks?\"],\n",
    "    \"outputs\": [\"MLflow is ...\", \"Databricks is ...\"],\n",
    "    \"toxicity\": [0.0, 0.0],\n",
    "}\n",
    "\n",
    "with mlflow.start_run(run_name=\"logging_table\", experiment_id=experiment.experiment_id) as run:\n",
    "    print(\"Run ID:\", run.info.run_id)\n",
    "\n",
    "    # Log the dictionary as a table\n",
    "    mlflow.log_table(data=table_dict, artifact_file=\"results.json\")"
   ]
  },
  {
   "cell_type": "code",
   "execution_count": 29,
   "metadata": {},
   "outputs": [
    {
     "name": "stdout",
     "output_type": "stream",
     "text": [
      "Run ID: e3bd8515879b45f6be138e2110860eea\n"
     ]
    },
    {
     "data": {
      "application/vnd.jupyter.widget-view+json": {
       "model_id": "839d04d0436347e998258944ba9946db",
       "version_major": 2,
       "version_minor": 0
      },
      "text/plain": [
       "Downloading artifacts:   0%|          | 0/1 [00:00<?, ?it/s]"
      ]
     },
     "metadata": {},
     "output_type": "display_data"
    },
    {
     "name": "stderr",
     "output_type": "stream",
     "text": [
      "2024/07/20 16:24:11 INFO mlflow.tracking.client: Appending new table to already existing artifact results.json for run e3bd8515879b45f6be138e2110860eea.\n"
     ]
    }
   ],
   "source": [
    "# Appending more info\n",
    "\n",
    "table_dict = {\n",
    "    \"inputs\": [\"This is a new input\"],\n",
    "    \"outputs\": [\"This is a new output\"],\n",
    "    \"toxicity\": [10.0],\n",
    "    \"new_column\": [\"This is a new column.\"],\n",
    "}\n",
    "\n",
    "with mlflow.start_run(run_id=run.info.run_id, experiment_id=experiment.experiment_id) as run:\n",
    "    print(\"Run ID:\", run.info.run_id)\n",
    "\n",
    "    # Log the dictionary as a table\n",
    "    mlflow.log_table(data=table_dict, artifact_file=\"results.json\")"
   ]
  },
  {
   "cell_type": "code",
   "execution_count": null,
   "metadata": {},
   "outputs": [],
   "source": [
    "import pandas as pd\n",
    "\n",
    "df = pd.DataFrame({\n",
    "    \"inputs\": [\"What is MLflow?\", \"What is Databricks?\"],\n",
    "    \"outputs\": [\"MLflow is ...\", \"Databricks is ...\"],\n",
    "    \"toxicity\": [0.0, 0.0],\n",
    "})\n",
    "\n",
    "with mlflow.start_run(run_name=\"logging_dataframe\", experiment_id=experiment.experiment_id) as run:\n",
    "    print(\"Run ID:\", run.info.run_id)\n",
    "\n",
    "    # Log the dictionary as a table\n",
    "    mlflow.log_table(data=df, artifact_file=\"results.json\")"
   ]
  },
  {
   "cell_type": "markdown",
   "metadata": {},
   "source": [
    "# Logging Text\n",
    "\n",
    "Log text as an artifact."
   ]
  },
  {
   "cell_type": "code",
   "execution_count": 31,
   "metadata": {},
   "outputs": [
    {
     "name": "stdout",
     "output_type": "stream",
     "text": [
      "Run ID: 11c0c48f6547474288bb62c1b088a7e5\n"
     ]
    }
   ],
   "source": [
    "with mlflow.start_run(run_name=\"logging_text\", experiment_id=experiment.experiment_id) as run:\n",
    "\n",
    "    print(\"Run ID:\", run.info.run_id)\n",
    "    # Log text to a file under the run's root artifact directory\n",
    "    mlflow.log_text(text = \"simple string\",artifact_file= \"file1.txt\")\n",
    "\n",
    "    # Log text in a subdirectory of the run's root artifact directory\n",
    "    mlflow.log_text(text = \"another simple string\", artifact_file= \"dir/file2.txt\")\n",
    "\n",
    "    # Log HTML text\n",
    "    mlflow.log_text(text = \"<h1>header</h1>\", artifact_file= \"index.html\")\n",
    "\n",
    "    mlflow.log_text(text = \"<h1>header</h1>\", artifact_file= \"index.txt\")"
   ]
  },
  {
   "cell_type": "code",
   "execution_count": null,
   "metadata": {},
   "outputs": [],
   "source": []
  }
 ],
 "metadata": {
  "kernelspec": {
   "display_name": ".venv",
   "language": "python",
   "name": "python3"
  },
  "language_info": {
   "codemirror_mode": {
    "name": "ipython",
    "version": 3
   },
   "file_extension": ".py",
   "mimetype": "text/x-python",
   "name": "python",
   "nbconvert_exporter": "python",
   "pygments_lexer": "ipython3",
   "version": "3.11.8"
  }
 },
 "nbformat": 4,
 "nbformat_minor": 2
}
