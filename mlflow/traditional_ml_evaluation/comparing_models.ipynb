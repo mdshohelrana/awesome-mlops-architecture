{
 "cells": [
  {
   "cell_type": "markdown",
   "metadata": {},
   "source": [
    "# Comparing ML models"
   ]
  },
  {
   "cell_type": "code",
   "execution_count": 1,
   "metadata": {},
   "outputs": [],
   "source": [
    "from mlflow_for_ml_dev.utils.utils import get_root_project\n",
    "\n",
    "import mlflow \n",
    "from mlflow.models.signature import infer_signature\n",
    "\n",
    "from sklearn.datasets import make_classification\n",
    "from sklearn.model_selection import train_test_split\n",
    "\n",
    "from sklearn.ensemble import RandomForestClassifier\n",
    "from sklearn.tree import DecisionTreeClassifier\n",
    "\n",
    "import pandas as pd\n",
    "import os \n"
   ]
  },
  {
   "cell_type": "code",
   "execution_count": 2,
   "metadata": {},
   "outputs": [],
   "source": [
    "tracking_server = get_root_project() / 'traditional_ml_evaluation' / 'mlruns'"
   ]
  },
  {
   "cell_type": "code",
   "execution_count": 3,
   "metadata": {},
   "outputs": [
    {
     "data": {
      "text/plain": [
       "WindowsPath('C:/Users/manue/projects/mlflow_for_ml_dev/traditional_ml_evaluation/mlruns')"
      ]
     },
     "execution_count": 3,
     "metadata": {},
     "output_type": "execute_result"
    }
   ],
   "source": [
    "tracking_server"
   ]
  },
  {
   "cell_type": "code",
   "execution_count": 4,
   "metadata": {},
   "outputs": [],
   "source": [
    "os.makedirs(tracking_server, exist_ok=True)\n",
    "mlflow.set_tracking_uri(tracking_server.as_uri())"
   ]
  },
  {
   "cell_type": "code",
   "execution_count": 5,
   "metadata": {},
   "outputs": [
    {
     "data": {
      "text/plain": [
       "<Experiment: artifact_location='file:///C:/Users/manue/projects/mlflow_for_ml_dev/traditional_ml_evaluation/mlruns/850915442498252700', creation_time=1724018384487, experiment_id='850915442498252700', last_update_time=1724018384487, lifecycle_stage='active', name='comparing_models', tags={}>"
      ]
     },
     "execution_count": 5,
     "metadata": {},
     "output_type": "execute_result"
    }
   ],
   "source": [
    "experiment_name = \"comparing_models\"\n",
    "try:\n",
    "    mlflow.create_experiment(name = experiment_name)\n",
    "except Exception as e:\n",
    "    print(e)\n",
    "\n",
    "mlflow.set_experiment(experiment_name=experiment_name)\n",
    "    "
   ]
  },
  {
   "cell_type": "markdown",
   "metadata": {},
   "source": [
    "## Data Generation"
   ]
  },
  {
   "cell_type": "code",
   "execution_count": 98,
   "metadata": {},
   "outputs": [
    {
     "name": "stdout",
     "output_type": "stream",
     "text": [
      "     feature_1  feature_2  feature_3  feature_4  feature_5\n",
      "29   -1.358062   0.388926  -2.219300   0.629189   0.502890\n",
      "535  -1.692785   0.161613  -0.451659   0.630933   1.416180\n",
      "695   3.291478  -0.557601  -0.580053  -1.342261  -2.159247\n",
      "557  -2.076136   1.416809  -0.181224   1.351993  -1.239513\n",
      "836  -1.348164   0.336725   0.038238   0.601181   0.619803\n",
      "     feature_1  feature_2  feature_3  feature_4  feature_5\n",
      "521   1.250932  -1.064291  -2.238231  -0.914547   1.261286\n",
      "737  -0.196283   0.190820  -0.243384   0.154804  -0.256094\n",
      "740   2.659138  -0.265773   1.072978  -0.996758  -2.195564\n",
      "660   0.087778  -0.021011  -0.667780  -0.038709  -0.042586\n",
      "411  -0.662457   0.741043  -0.358340   0.568499  -1.101298\n"
     ]
    },
    {
     "name": "stderr",
     "output_type": "stream",
     "text": [
      "c:\\Users\\manue\\projects\\mlflow_for_ml_dev\\.venv\\Lib\\site-packages\\mlflow\\types\\utils.py:406: UserWarning: Hint: Inferred schema contains integer column(s). Integer columns in Python cannot represent missing values. If your input data contains missing values at inference time, it will be encoded as floats and will cause a schema enforcement error. The best way to avoid this problem is to infer the model schema based on a realistic data sample (training dataset) that includes missing values. Alternatively, you can declare integer columns as doubles (float64) whenever these columns may have missing values. See `Handling Integers With Missing Values <https://www.mlflow.org/docs/latest/models.html#handling-integers-with-missing-values>`_ for more details.\n",
      "  warnings.warn(\n"
     ]
    }
   ],
   "source": [
    "x, y = make_classification(n_samples=1000, n_features=5, n_classes=2, random_state=42)\n",
    "\n",
    "x_df = pd.DataFrame(x, columns=[f\"feature_{i+1}\" for i in range(x.shape[1])])\n",
    "y_df = pd.DataFrame(y, columns=[\"target\"])\n",
    "feature_names = x_df.columns\n",
    "x_train, x_test, y_train, y_test = train_test_split(x_df, y_df, test_size=0.2, random_state=42)\n",
    "\n",
    "model_signature = infer_signature(x_train, y_train)\n",
    "\n",
    "print(x_train.head())\n",
    "print(x_test.head())"
   ]
  },
  {
   "cell_type": "markdown",
   "metadata": {},
   "source": [
    "## Training Baseling model"
   ]
  },
  {
   "cell_type": "code",
   "execution_count": 99,
   "metadata": {},
   "outputs": [
    {
     "name": "stderr",
     "output_type": "stream",
     "text": [
      "c:\\Users\\manue\\projects\\mlflow_for_ml_dev\\.venv\\Lib\\site-packages\\_distutils_hack\\__init__.py:11: UserWarning: Distutils was imported before Setuptools, but importing Setuptools also replaces the `distutils` module in `sys.modules`. This may lead to undesirable behaviors or errors. To avoid these issues, avoid using distutils directly, ensure that setuptools is installed in the traditional way (e.g. not an editable install), and/or make sure that setuptools is always imported before distutils.\n",
      "  warnings.warn(\n",
      "c:\\Users\\manue\\projects\\mlflow_for_ml_dev\\.venv\\Lib\\site-packages\\_distutils_hack\\__init__.py:26: UserWarning: Setuptools is replacing distutils.\n",
      "  warnings.warn(\"Setuptools is replacing distutils.\")\n"
     ]
    }
   ],
   "source": [
    "baseline_model = DecisionTreeClassifier(random_state=42)\n",
    "baseline_model.fit(x_train, y_train)\n",
    "\n",
    "baseline_predictions = baseline_model.predict(x_test)\n",
    "\n",
    "# log baseline model\n",
    "with mlflow.start_run(run_name=\"baseline\") as baseline_run:\n",
    "    \n",
    "    mlflow.log_params(baseline_model.get_params())\n",
    "\n",
    "    artifact_path = \"baseline_model\"\n",
    "    mlflow.sklearn.log_model(baseline_model, artifact_path, signature=model_signature)\n"
   ]
  },
  {
   "cell_type": "code",
   "execution_count": 100,
   "metadata": {},
   "outputs": [],
   "source": [
    "baseline_uri = f\"runs:/{baseline_run.info.run_id}/{artifact_path}\""
   ]
  },
  {
   "cell_type": "markdown",
   "metadata": {},
   "source": [
    "## Training Candidate Model"
   ]
  },
  {
   "cell_type": "code",
   "execution_count": 101,
   "metadata": {},
   "outputs": [
    {
     "name": "stderr",
     "output_type": "stream",
     "text": [
      "c:\\Users\\manue\\projects\\mlflow_for_ml_dev\\.venv\\Lib\\site-packages\\sklearn\\base.py:1473: DataConversionWarning: A column-vector y was passed when a 1d array was expected. Please change the shape of y to (n_samples,), for example using ravel().\n",
      "  return fit_method(estimator, *args, **kwargs)\n",
      "c:\\Users\\manue\\projects\\mlflow_for_ml_dev\\.venv\\Lib\\site-packages\\_distutils_hack\\__init__.py:11: UserWarning: Distutils was imported before Setuptools, but importing Setuptools also replaces the `distutils` module in `sys.modules`. This may lead to undesirable behaviors or errors. To avoid these issues, avoid using distutils directly, ensure that setuptools is installed in the traditional way (e.g. not an editable install), and/or make sure that setuptools is always imported before distutils.\n",
      "  warnings.warn(\n",
      "c:\\Users\\manue\\projects\\mlflow_for_ml_dev\\.venv\\Lib\\site-packages\\_distutils_hack\\__init__.py:26: UserWarning: Setuptools is replacing distutils.\n",
      "  warnings.warn(\"Setuptools is replacing distutils.\")\n"
     ]
    }
   ],
   "source": [
    "candidate = RandomForestClassifier(random_state=42)\n",
    "candidate.fit(x_train, y_train)\n",
    "\n",
    "candidate_predictions = candidate.predict(x_test)\n",
    "\n",
    "# log candidate model\n",
    "with mlflow.start_run(run_name=\"candidate\") as candidate_run:\n",
    "    \n",
    "    mlflow.log_params(candidate.get_params())\n",
    "\n",
    "    artifact_path = \"candidate_model\"\n",
    "    mlflow.sklearn.log_model(candidate, artifact_path, signature=model_signature)\n",
    "\n",
    "candidate_uri = f\"runs:/{candidate_run.info.run_id}/{artifact_path}\""
   ]
  },
  {
   "cell_type": "markdown",
   "metadata": {},
   "source": [
    "### Wrapping models"
   ]
  },
  {
   "cell_type": "code",
   "execution_count": 102,
   "metadata": {},
   "outputs": [],
   "source": [
    "def baseline_model_func(model_input):\n",
    "    return baseline_model.predict(model_input)\n",
    "\n",
    "def candidate_model_func(model_input):\n",
    "    return candidate.predict(model_input)"
   ]
  },
  {
   "cell_type": "markdown",
   "metadata": {},
   "source": [
    "### Comparing models"
   ]
  },
  {
   "cell_type": "code",
   "execution_count": 104,
   "metadata": {},
   "outputs": [
    {
     "name": "stdout",
     "output_type": "stream",
     "text": [
      "     feature_1  feature_2  feature_3  feature_4  feature_5  target\n",
      "521   1.250932  -1.064291  -2.238231  -0.914547   1.261286       1\n",
      "737  -0.196283   0.190820  -0.243384   0.154804  -0.256094       1\n",
      "740   2.659138  -0.265773   1.072978  -0.996758  -2.195564       1\n",
      "660   0.087778  -0.021011  -0.667780  -0.038709  -0.042586       1\n",
      "411  -0.662457   0.741043  -0.358340   0.568499  -1.101298       0\n",
      "     feature_1  feature_2  feature_3  feature_4  feature_5\n",
      "521   1.250932  -1.064291  -2.238231  -0.914547   1.261286\n",
      "737  -0.196283   0.190820  -0.243384   0.154804  -0.256094\n",
      "740   2.659138  -0.265773   1.072978  -0.996758  -2.195564\n",
      "660   0.087778  -0.021011  -0.667780  -0.038709  -0.042586\n",
      "411  -0.662457   0.741043  -0.358340   0.568499  -1.101298\n"
     ]
    }
   ],
   "source": [
    "eval_data_for_model = x_test.copy()\n",
    "eval_data_for_model[\"target\"] = y_test\n",
    "\n",
    "print(eval_data_for_model.head())\n",
    "print(x_test.head())"
   ]
  },
  {
   "cell_type": "markdown",
   "metadata": {},
   "source": [
    "### Creating Validation thresholds"
   ]
  },
  {
   "cell_type": "code",
   "execution_count": 105,
   "metadata": {},
   "outputs": [],
   "source": [
    "from mlflow.models import MetricThreshold\n",
    "\n",
    "f1_score_th = {\n",
    "    \"f1_score\": MetricThreshold(\n",
    "        threshold = 0.8,\n",
    "        min_absolute_change=0.01,\n",
    "        min_relative_change=0.01,\n",
    "        greater_is_better=True,\n",
    "    )\n",
    "}"
   ]
  },
  {
   "cell_type": "code",
   "execution_count": 106,
   "metadata": {},
   "outputs": [
    {
     "name": "stderr",
     "output_type": "stream",
     "text": [
      "c:\\Users\\manue\\projects\\mlflow_for_ml_dev\\.venv\\Lib\\site-packages\\mlflow\\types\\utils.py:406: UserWarning: Hint: Inferred schema contains integer column(s). Integer columns in Python cannot represent missing values. If your input data contains missing values at inference time, it will be encoded as floats and will cause a schema enforcement error. The best way to avoid this problem is to infer the model schema based on a realistic data sample (training dataset) that includes missing values. Alternatively, you can declare integer columns as doubles (float64) whenever these columns may have missing values. See `Handling Integers With Missing Values <https://www.mlflow.org/docs/latest/models.html#handling-integers-with-missing-values>`_ for more details.\n",
      "  warnings.warn(\n",
      "2024/08/18 18:56:46 INFO mlflow.models.evaluation.default_evaluator: Evaluating candidate model:\n",
      "2024/08/18 18:56:46 INFO mlflow.models.evaluation.default_evaluator: Computing model predictions.\n",
      "2024/08/18 18:56:46 INFO mlflow.models.evaluation.default_evaluator: The evaluation dataset is inferred as binary dataset, positive label is 1, negative label is 0.\n",
      "2024/08/18 18:56:46 INFO mlflow.models.evaluation.default_evaluator: Testing metrics on first row...\n",
      "2024/08/18 18:56:46 INFO mlflow.models.evaluation.default_evaluator: Shap explainer ExactExplainer is used.\n",
      "c:\\Users\\manue\\projects\\mlflow_for_ml_dev\\.venv\\Lib\\site-packages\\mlflow\\shap\\__init__.py:437: UserWarning: Unable to serialize underlying model using MLflow, will use SHAP serialization\n",
      "  warnings.warn(\n",
      "c:\\Users\\manue\\projects\\mlflow_for_ml_dev\\.venv\\Lib\\site-packages\\_distutils_hack\\__init__.py:11: UserWarning: Distutils was imported before Setuptools, but importing Setuptools also replaces the `distutils` module in `sys.modules`. This may lead to undesirable behaviors or errors. To avoid these issues, avoid using distutils directly, ensure that setuptools is installed in the traditional way (e.g. not an editable install), and/or make sure that setuptools is always imported before distutils.\n",
      "  warnings.warn(\n",
      "c:\\Users\\manue\\projects\\mlflow_for_ml_dev\\.venv\\Lib\\site-packages\\_distutils_hack\\__init__.py:26: UserWarning: Setuptools is replacing distutils.\n",
      "  warnings.warn(\"Setuptools is replacing distutils.\")\n",
      "2024/08/18 18:56:56 WARNING mlflow.models.model: Input example should be provided to infer model signature if the model signature is not provided when logging the model.\n",
      "2024/08/18 18:56:56 INFO mlflow.models.evaluation.default_evaluator: Evaluating baseline model:\n",
      "2024/08/18 18:56:56 INFO mlflow.models.evaluation.default_evaluator: Computing model predictions.\n",
      "2024/08/18 18:56:56 INFO mlflow.models.evaluation.default_evaluator: The evaluation dataset is inferred as binary dataset, positive label is 1, negative label is 0.\n",
      "2024/08/18 18:56:56 INFO mlflow.models.evaluation.default_evaluator: Testing metrics on first row...\n",
      "2024/08/18 18:56:56 INFO mlflow.models.evaluation.base: Validating generated model metrics\n",
      "2024/08/18 18:56:56 INFO mlflow.models.evaluation.base: Model validation passed!\n"
     ]
    }
   ],
   "source": [
    "with mlflow.start_run(run_name=\"comparing models\") as run:\n",
    "    results = mlflow.evaluate(\n",
    "        model = candidate_model_func,\n",
    "        baseline_model = baseline_uri,\n",
    "        data = eval_data_for_model,\n",
    "        targets=\"target\",\n",
    "        model_type = \"classifier\",\n",
    "        validation_thresholds=f1_score_th\n",
    "\n",
    "    )"
   ]
  },
  {
   "cell_type": "markdown",
   "metadata": {},
   "source": [
    "### Adding Custom Metrics"
   ]
  },
  {
   "cell_type": "code",
   "execution_count": 107,
   "metadata": {},
   "outputs": [],
   "source": [
    "\n",
    "from mlflow.metrics import make_metric\n",
    "from sklearn.metrics import f1_score\n",
    "\n",
    "def custom_accuracy(df, __builtin_metrics):\n",
    "    targets = df[\"target\"]\n",
    "    predictions = df[\"prediction\"]\n",
    "    return sum(targets == predictions) / len(targets)\n",
    "\n",
    "def custom_f1_score(df, __builtin_metrics):    \n",
    "    targets = df[\"target\"]\n",
    "    predictions = df[\"prediction\"]\n",
    "    return f1_score(targets, predictions, average=\"weighted\")\n",
    "\n",
    "custom_metric_accuracy = make_metric(\n",
    "    eval_fn = custom_accuracy,\n",
    "    name = \"custom_accuracy\",\n",
    "    greater_is_better=True,\n",
    ")\n",
    "\n",
    "custom_metric_f1_score = make_metric(\n",
    "    eval_fn = custom_f1_score,\n",
    "    name = \"custom_f1_score\",\n",
    "    greater_is_better=True,\n",
    ")"
   ]
  },
  {
   "cell_type": "code",
   "execution_count": 108,
   "metadata": {},
   "outputs": [
    {
     "name": "stderr",
     "output_type": "stream",
     "text": [
      "c:\\Users\\manue\\projects\\mlflow_for_ml_dev\\.venv\\Lib\\site-packages\\mlflow\\types\\utils.py:406: UserWarning: Hint: Inferred schema contains integer column(s). Integer columns in Python cannot represent missing values. If your input data contains missing values at inference time, it will be encoded as floats and will cause a schema enforcement error. The best way to avoid this problem is to infer the model schema based on a realistic data sample (training dataset) that includes missing values. Alternatively, you can declare integer columns as doubles (float64) whenever these columns may have missing values. See `Handling Integers With Missing Values <https://www.mlflow.org/docs/latest/models.html#handling-integers-with-missing-values>`_ for more details.\n",
      "  warnings.warn(\n",
      "2024/08/18 18:56:57 INFO mlflow.models.evaluation.default_evaluator: Evaluating candidate model:\n",
      "2024/08/18 18:56:57 INFO mlflow.models.evaluation.default_evaluator: Computing model predictions.\n",
      "2024/08/18 18:56:57 INFO mlflow.models.evaluation.default_evaluator: The evaluation dataset is inferred as binary dataset, positive label is 1, negative label is 0.\n",
      "2024/08/18 18:56:57 INFO mlflow.models.evaluation.default_evaluator: Testing metrics on first row...\n",
      "2024/08/18 18:56:57 INFO mlflow.models.evaluation.default_evaluator: Shap explainer ExactExplainer is used.\n",
      "c:\\Users\\manue\\projects\\mlflow_for_ml_dev\\.venv\\Lib\\site-packages\\mlflow\\shap\\__init__.py:437: UserWarning: Unable to serialize underlying model using MLflow, will use SHAP serialization\n",
      "  warnings.warn(\n",
      "c:\\Users\\manue\\projects\\mlflow_for_ml_dev\\.venv\\Lib\\site-packages\\_distutils_hack\\__init__.py:11: UserWarning: Distutils was imported before Setuptools, but importing Setuptools also replaces the `distutils` module in `sys.modules`. This may lead to undesirable behaviors or errors. To avoid these issues, avoid using distutils directly, ensure that setuptools is installed in the traditional way (e.g. not an editable install), and/or make sure that setuptools is always imported before distutils.\n",
      "  warnings.warn(\n",
      "c:\\Users\\manue\\projects\\mlflow_for_ml_dev\\.venv\\Lib\\site-packages\\_distutils_hack\\__init__.py:26: UserWarning: Setuptools is replacing distutils.\n",
      "  warnings.warn(\"Setuptools is replacing distutils.\")\n",
      "2024/08/18 18:57:05 WARNING mlflow.models.model: Input example should be provided to infer model signature if the model signature is not provided when logging the model.\n",
      "2024/08/18 18:57:06 INFO mlflow.models.evaluation.default_evaluator: Evaluating baseline model:\n",
      "2024/08/18 18:57:06 INFO mlflow.models.evaluation.default_evaluator: Computing model predictions.\n",
      "2024/08/18 18:57:06 INFO mlflow.models.evaluation.default_evaluator: The evaluation dataset is inferred as binary dataset, positive label is 1, negative label is 0.\n",
      "2024/08/18 18:57:06 INFO mlflow.models.evaluation.default_evaluator: Testing metrics on first row...\n",
      "2024/08/18 18:57:06 INFO mlflow.models.evaluation.base: Validating generated model metrics\n",
      "2024/08/18 18:57:06 INFO mlflow.models.evaluation.base: Model validation passed!\n"
     ]
    }
   ],
   "source": [
    "with mlflow.start_run(run_name=\"comparing models\") as run:\n",
    "    results = mlflow.evaluate(\n",
    "        model = candidate_model_func,\n",
    "        baseline_model = baseline_uri,\n",
    "        data = eval_data_for_model,\n",
    "        targets=\"target\",\n",
    "        model_type = \"classifier\",\n",
    "        validation_thresholds=f1_score_th,\n",
    "        extra_metrics=[custom_metric_accuracy, custom_metric_f1_score]\n",
    "    )"
   ]
  },
  {
   "cell_type": "code",
   "execution_count": null,
   "metadata": {},
   "outputs": [],
   "source": []
  }
 ],
 "metadata": {
  "kernelspec": {
   "display_name": ".venv",
   "language": "python",
   "name": "python3"
  },
  "language_info": {
   "codemirror_mode": {
    "name": "ipython",
    "version": 3
   },
   "file_extension": ".py",
   "mimetype": "text/x-python",
   "name": "python",
   "nbconvert_exporter": "python",
   "pygments_lexer": "ipython3",
   "version": "3.11.8"
  }
 },
 "nbformat": 4,
 "nbformat_minor": 2
}
