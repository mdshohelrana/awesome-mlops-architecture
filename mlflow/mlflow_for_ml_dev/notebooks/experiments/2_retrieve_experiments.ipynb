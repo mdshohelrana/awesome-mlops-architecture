{
 "cells": [
  {
   "cell_type": "markdown",
   "metadata": {},
   "source": [
    "# MLflow Experiments\n",
    "\n",
    "While MLflow does provide a default experiment, it primarily serves as a ‘catch-all’ safety net for runs initiated without a specified active experiment. However, it’s not recommended for regular use. Instead, creating unique experiments for specific collections of runs offers numerous advantages."
   ]
  },
  {
   "cell_type": "code",
   "execution_count": 7,
   "metadata": {},
   "outputs": [],
   "source": [
    "import mlflow\n",
    "from mlflow_for_ml_dev.utils.utils import get_root_project\n",
    "from mlflow_for_ml_dev.experiments.exp_utils import get_or_create_experiment"
   ]
  },
  {
   "cell_type": "code",
   "execution_count": 3,
   "metadata": {},
   "outputs": [],
   "source": [
    "experiment_name = \"02-mlflow_experiment_management\"\n",
    "tags = {\"project_name\":\"UNKNOWN\", \"topic\":\"experiment_management\"}\n",
    "experiment = get_or_create_experiment(experiment_name=experiment_name, tags= tags)"
   ]
  },
  {
   "cell_type": "code",
   "execution_count": 6,
   "metadata": {},
   "outputs": [
    {
     "name": "stdout",
     "output_type": "stream",
     "text": [
      "Name: 02-mlflow_experiment_management\n",
      "Artifact Location: file:///C:/Users/manue/projects/mlflow_for_ml_dev/mlruns/859199544496978940\n",
      "Tags: {'project_name': 'UNKNOWN', 'topic': 'experiment_management'}\n",
      "Lifecycle_stage: active\n",
      "Creation timestamp: 1726407486823\n"
     ]
    }
   ],
   "source": [
    "print(f\"Name: {experiment.name}\")\n",
    "print(f\"Artifact Location: {experiment.artifact_location}\")\n",
    "print(f\"Tags: {experiment.tags}\")\n",
    "print(f\"Lifecycle_stage: {experiment.lifecycle_stage}\")\n",
    "print(f\"Creation timestamp: {experiment.creation_time}\")"
   ]
  },
  {
   "cell_type": "markdown",
   "metadata": {},
   "source": [
    "## Retrieving Experiments"
   ]
  },
  {
   "cell_type": "markdown",
   "metadata": {},
   "source": [
    "### Get Experiment\n",
    "\n",
    "`get_experiment(experiment_id: str) → Experiment`\n",
    "\n",
    "Retrieve an experiment by experiment_id from the backend store\n",
    "\n",
    "Parameters:\n",
    "\n",
    "* experiment_id – The experiment ID returned from create_experiment.\n",
    "\n",
    "Returns:\n",
    "\n",
    "* mlflow.entities.Experiment\n"
   ]
  },
  {
   "cell_type": "code",
   "execution_count": 8,
   "metadata": {},
   "outputs": [],
   "source": [
    "experiment = mlflow.get_experiment(experiment_id=experiment.experiment_id)"
   ]
  },
  {
   "cell_type": "code",
   "execution_count": 9,
   "metadata": {},
   "outputs": [
    {
     "name": "stdout",
     "output_type": "stream",
     "text": [
      "Name: 02-mlflow_experiment_management\n",
      "Artifact Location: file:///C:/Users/manue/projects/mlflow_for_ml_dev/mlruns/859199544496978940\n",
      "Tags: {'project_name': 'UNKNOWN', 'topic': 'experiment_management'}\n",
      "Lifecycle_stage: active\n",
      "Creation timestamp: 1726407486823\n"
     ]
    }
   ],
   "source": [
    "print(f\"Name: {experiment.name}\")\n",
    "print(f\"Artifact Location: {experiment.artifact_location}\")\n",
    "print(f\"Tags: {experiment.tags}\")\n",
    "print(f\"Lifecycle_stage: {experiment.lifecycle_stage}\")\n",
    "print(f\"Creation timestamp: {experiment.creation_time}\")"
   ]
  },
  {
   "cell_type": "markdown",
   "metadata": {},
   "source": [
    "### If the experiment does not exist the method throws an error."
   ]
  },
  {
   "cell_type": "code",
   "execution_count": 10,
   "metadata": {},
   "outputs": [
    {
     "ename": "MlflowException",
     "evalue": "Could not find experiment with ID 8591995444969789403",
     "output_type": "error",
     "traceback": [
      "\u001b[1;31m---------------------------------------------------------------------------\u001b[0m",
      "\u001b[1;31mMlflowException\u001b[0m                           Traceback (most recent call last)",
      "Cell \u001b[1;32mIn[10], line 1\u001b[0m\n\u001b[1;32m----> 1\u001b[0m experiment \u001b[38;5;241m=\u001b[39m \u001b[43mmlflow\u001b[49m\u001b[38;5;241;43m.\u001b[39;49m\u001b[43mget_experiment\u001b[49m\u001b[43m(\u001b[49m\u001b[43mexperiment_id\u001b[49m\u001b[38;5;241;43m=\u001b[39;49m\u001b[43mexperiment\u001b[49m\u001b[38;5;241;43m.\u001b[39;49m\u001b[43mexperiment_id\u001b[49m\u001b[38;5;241;43m+\u001b[39;49m\u001b[38;5;124;43m\"\u001b[39;49m\u001b[38;5;124;43m3\u001b[39;49m\u001b[38;5;124;43m\"\u001b[39;49m\u001b[43m)\u001b[49m\n",
      "File \u001b[1;32mc:\\Users\\manue\\projects\\mlflow_for_ml_dev\\.venv\\Lib\\site-packages\\mlflow\\tracking\\fluent.py:1564\u001b[0m, in \u001b[0;36mget_experiment\u001b[1;34m(experiment_id)\u001b[0m\n\u001b[0;32m   1533\u001b[0m \u001b[38;5;28;01mdef\u001b[39;00m \u001b[38;5;21mget_experiment\u001b[39m(experiment_id: \u001b[38;5;28mstr\u001b[39m) \u001b[38;5;241m-\u001b[39m\u001b[38;5;241m>\u001b[39m Experiment:\n\u001b[0;32m   1534\u001b[0m \u001b[38;5;250m    \u001b[39m\u001b[38;5;124;03m\"\"\"Retrieve an experiment by experiment_id from the backend store\u001b[39;00m\n\u001b[0;32m   1535\u001b[0m \n\u001b[0;32m   1536\u001b[0m \u001b[38;5;124;03m    Args:\u001b[39;00m\n\u001b[1;32m   (...)\u001b[0m\n\u001b[0;32m   1562\u001b[0m \u001b[38;5;124;03m        Creation timestamp: 1662004217511\u001b[39;00m\n\u001b[0;32m   1563\u001b[0m \u001b[38;5;124;03m    \"\"\"\u001b[39;00m\n\u001b[1;32m-> 1564\u001b[0m     \u001b[38;5;28;01mreturn\u001b[39;00m \u001b[43mMlflowClient\u001b[49m\u001b[43m(\u001b[49m\u001b[43m)\u001b[49m\u001b[38;5;241;43m.\u001b[39;49m\u001b[43mget_experiment\u001b[49m\u001b[43m(\u001b[49m\u001b[43mexperiment_id\u001b[49m\u001b[43m)\u001b[49m\n",
      "File \u001b[1;32mc:\\Users\\manue\\projects\\mlflow_for_ml_dev\\.venv\\Lib\\site-packages\\mlflow\\tracking\\client.py:1206\u001b[0m, in \u001b[0;36mMlflowClient.get_experiment\u001b[1;34m(self, experiment_id)\u001b[0m\n\u001b[0;32m   1174\u001b[0m \u001b[38;5;28;01mdef\u001b[39;00m \u001b[38;5;21mget_experiment\u001b[39m(\u001b[38;5;28mself\u001b[39m, experiment_id: \u001b[38;5;28mstr\u001b[39m) \u001b[38;5;241m-\u001b[39m\u001b[38;5;241m>\u001b[39m Experiment:\n\u001b[0;32m   1175\u001b[0m \u001b[38;5;250m    \u001b[39m\u001b[38;5;124;03m\"\"\"Retrieve an experiment by experiment_id from the backend store\u001b[39;00m\n\u001b[0;32m   1176\u001b[0m \n\u001b[0;32m   1177\u001b[0m \u001b[38;5;124;03m    Args:\u001b[39;00m\n\u001b[1;32m   (...)\u001b[0m\n\u001b[0;32m   1204\u001b[0m \u001b[38;5;124;03m      Lifecycle_stage: active\u001b[39;00m\n\u001b[0;32m   1205\u001b[0m \u001b[38;5;124;03m    \"\"\"\u001b[39;00m\n\u001b[1;32m-> 1206\u001b[0m     \u001b[38;5;28;01mreturn\u001b[39;00m \u001b[38;5;28;43mself\u001b[39;49m\u001b[38;5;241;43m.\u001b[39;49m\u001b[43m_tracking_client\u001b[49m\u001b[38;5;241;43m.\u001b[39;49m\u001b[43mget_experiment\u001b[49m\u001b[43m(\u001b[49m\u001b[43mexperiment_id\u001b[49m\u001b[43m)\u001b[49m\n",
      "File \u001b[1;32mc:\\Users\\manue\\projects\\mlflow_for_ml_dev\\.venv\\Lib\\site-packages\\mlflow\\tracking\\_tracking_service\\client.py:474\u001b[0m, in \u001b[0;36mTrackingServiceClient.get_experiment\u001b[1;34m(self, experiment_id)\u001b[0m\n\u001b[0;32m    466\u001b[0m \u001b[38;5;28;01mdef\u001b[39;00m \u001b[38;5;21mget_experiment\u001b[39m(\u001b[38;5;28mself\u001b[39m, experiment_id):\n\u001b[0;32m    467\u001b[0m \u001b[38;5;250m    \u001b[39m\u001b[38;5;124;03m\"\"\"\u001b[39;00m\n\u001b[0;32m    468\u001b[0m \u001b[38;5;124;03m    Args:\u001b[39;00m\n\u001b[0;32m    469\u001b[0m \u001b[38;5;124;03m        experiment_id: The experiment ID returned from ``create_experiment``.\u001b[39;00m\n\u001b[1;32m   (...)\u001b[0m\n\u001b[0;32m    472\u001b[0m \u001b[38;5;124;03m        :py:class:`mlflow.entities.Experiment`\u001b[39;00m\n\u001b[0;32m    473\u001b[0m \u001b[38;5;124;03m    \"\"\"\u001b[39;00m\n\u001b[1;32m--> 474\u001b[0m     \u001b[38;5;28;01mreturn\u001b[39;00m \u001b[38;5;28;43mself\u001b[39;49m\u001b[38;5;241;43m.\u001b[39;49m\u001b[43mstore\u001b[49m\u001b[38;5;241;43m.\u001b[39;49m\u001b[43mget_experiment\u001b[49m\u001b[43m(\u001b[49m\u001b[43mexperiment_id\u001b[49m\u001b[43m)\u001b[49m\n",
      "File \u001b[1;32mc:\\Users\\manue\\projects\\mlflow_for_ml_dev\\.venv\\Lib\\site-packages\\mlflow\\store\\tracking\\file_store.py:436\u001b[0m, in \u001b[0;36mFileStore.get_experiment\u001b[1;34m(self, experiment_id)\u001b[0m\n\u001b[0;32m    425\u001b[0m \u001b[38;5;250m\u001b[39m\u001b[38;5;124;03m\"\"\"\u001b[39;00m\n\u001b[0;32m    426\u001b[0m \u001b[38;5;124;03mFetch the experiment.\u001b[39;00m\n\u001b[0;32m    427\u001b[0m \u001b[38;5;124;03mNote: This API will search for active as well as deleted experiments.\u001b[39;00m\n\u001b[1;32m   (...)\u001b[0m\n\u001b[0;32m    433\u001b[0m \u001b[38;5;124;03m    A single Experiment object if it exists, otherwise raises an Exception.\u001b[39;00m\n\u001b[0;32m    434\u001b[0m \u001b[38;5;124;03m\"\"\"\u001b[39;00m\n\u001b[0;32m    435\u001b[0m experiment_id \u001b[38;5;241m=\u001b[39m FileStore\u001b[38;5;241m.\u001b[39mDEFAULT_EXPERIMENT_ID \u001b[38;5;28;01mif\u001b[39;00m experiment_id \u001b[38;5;129;01mis\u001b[39;00m \u001b[38;5;28;01mNone\u001b[39;00m \u001b[38;5;28;01melse\u001b[39;00m experiment_id\n\u001b[1;32m--> 436\u001b[0m experiment \u001b[38;5;241m=\u001b[39m \u001b[38;5;28;43mself\u001b[39;49m\u001b[38;5;241;43m.\u001b[39;49m\u001b[43m_get_experiment\u001b[49m\u001b[43m(\u001b[49m\u001b[43mexperiment_id\u001b[49m\u001b[43m)\u001b[49m\n\u001b[0;32m    437\u001b[0m \u001b[38;5;28;01mif\u001b[39;00m experiment \u001b[38;5;129;01mis\u001b[39;00m \u001b[38;5;28;01mNone\u001b[39;00m:\n\u001b[0;32m    438\u001b[0m     \u001b[38;5;28;01mraise\u001b[39;00m MlflowException(\n\u001b[0;32m    439\u001b[0m         \u001b[38;5;124mf\u001b[39m\u001b[38;5;124m\"\u001b[39m\u001b[38;5;124mExperiment \u001b[39m\u001b[38;5;124m'\u001b[39m\u001b[38;5;132;01m{\u001b[39;00mexperiment_id\u001b[38;5;132;01m}\u001b[39;00m\u001b[38;5;124m'\u001b[39m\u001b[38;5;124m does not exist.\u001b[39m\u001b[38;5;124m\"\u001b[39m,\n\u001b[0;32m    440\u001b[0m         databricks_pb2\u001b[38;5;241m.\u001b[39mRESOURCE_DOES_NOT_EXIST,\n\u001b[0;32m    441\u001b[0m     )\n",
      "File \u001b[1;32mc:\\Users\\manue\\projects\\mlflow_for_ml_dev\\.venv\\Lib\\site-packages\\mlflow\\store\\tracking\\file_store.py:406\u001b[0m, in \u001b[0;36mFileStore._get_experiment\u001b[1;34m(self, experiment_id, view_type)\u001b[0m\n\u001b[0;32m    404\u001b[0m experiment_dir \u001b[38;5;241m=\u001b[39m \u001b[38;5;28mself\u001b[39m\u001b[38;5;241m.\u001b[39m_get_experiment_path(experiment_id, view_type)\n\u001b[0;32m    405\u001b[0m \u001b[38;5;28;01mif\u001b[39;00m experiment_dir \u001b[38;5;129;01mis\u001b[39;00m \u001b[38;5;28;01mNone\u001b[39;00m:\n\u001b[1;32m--> 406\u001b[0m     \u001b[38;5;28;01mraise\u001b[39;00m MlflowException(\n\u001b[0;32m    407\u001b[0m         \u001b[38;5;124mf\u001b[39m\u001b[38;5;124m\"\u001b[39m\u001b[38;5;124mCould not find experiment with ID \u001b[39m\u001b[38;5;132;01m{\u001b[39;00mexperiment_id\u001b[38;5;132;01m}\u001b[39;00m\u001b[38;5;124m\"\u001b[39m,\n\u001b[0;32m    408\u001b[0m         databricks_pb2\u001b[38;5;241m.\u001b[39mRESOURCE_DOES_NOT_EXIST,\n\u001b[0;32m    409\u001b[0m     )\n\u001b[0;32m    410\u001b[0m meta \u001b[38;5;241m=\u001b[39m FileStore\u001b[38;5;241m.\u001b[39m_read_yaml(experiment_dir, FileStore\u001b[38;5;241m.\u001b[39mMETA_DATA_FILE_NAME)\n\u001b[0;32m    411\u001b[0m meta[\u001b[38;5;124m\"\u001b[39m\u001b[38;5;124mtags\u001b[39m\u001b[38;5;124m\"\u001b[39m] \u001b[38;5;241m=\u001b[39m \u001b[38;5;28mself\u001b[39m\u001b[38;5;241m.\u001b[39mget_all_experiment_tags(experiment_id)\n",
      "\u001b[1;31mMlflowException\u001b[0m: Could not find experiment with ID 8591995444969789403"
     ]
    }
   ],
   "source": [
    "experiment = mlflow.get_experiment(experiment_id=experiment.experiment_id+\"3\")"
   ]
  },
  {
   "cell_type": "code",
   "execution_count": 11,
   "metadata": {},
   "outputs": [
    {
     "name": "stdout",
     "output_type": "stream",
     "text": [
      "Could not find experiment with ID 8591995444969789403\n"
     ]
    }
   ],
   "source": [
    "try:\n",
    "    experiment = mlflow.get_experiment(experiment_id=experiment.experiment_id+\"3\")\n",
    "except mlflow.exceptions.MlflowException as e:\n",
    "    print(e)"
   ]
  },
  {
   "cell_type": "markdown",
   "metadata": {},
   "source": [
    "### Get Experiment by name\n",
    "\n",
    "`get_experiment_by_name(name: str) → Optional[Experiment]`\n",
    "\n",
    "Retrieve an experiment by experiment name from the backend store\n",
    "\n",
    "Parameters:\n",
    "\n",
    "* name – The case sensitive experiment name.\n",
    "\n",
    "Returns:\n",
    "\n",
    "* An instance of mlflow.entities.Experiment if an experiment with the specified name exists, otherwise None.\n"
   ]
  },
  {
   "cell_type": "code",
   "execution_count": 12,
   "metadata": {},
   "outputs": [],
   "source": [
    "experiment = mlflow.get_experiment_by_name(name=experiment_name)"
   ]
  },
  {
   "cell_type": "code",
   "execution_count": 13,
   "metadata": {},
   "outputs": [
    {
     "name": "stdout",
     "output_type": "stream",
     "text": [
      "Name: 02-mlflow_experiment_management\n",
      "Artifact Location: file:///C:/Users/manue/projects/mlflow_for_ml_dev/mlruns/859199544496978940\n",
      "Tags: {'project_name': 'UNKNOWN', 'topic': 'experiment_management'}\n",
      "Lifecycle_stage: active\n",
      "Creation timestamp: 1726407486823\n"
     ]
    }
   ],
   "source": [
    "print(f\"Name: {experiment.name}\")\n",
    "print(f\"Artifact Location: {experiment.artifact_location}\")\n",
    "print(f\"Tags: {experiment.tags}\")\n",
    "print(f\"Lifecycle_stage: {experiment.lifecycle_stage}\")\n",
    "print(f\"Creation timestamp: {experiment.creation_time}\")"
   ]
  },
  {
   "cell_type": "code",
   "execution_count": 14,
   "metadata": {},
   "outputs": [],
   "source": [
    "experiment = mlflow.get_experiment_by_name(name=experiment_name+\"str\")"
   ]
  },
  {
   "cell_type": "code",
   "execution_count": 15,
   "metadata": {},
   "outputs": [
    {
     "name": "stdout",
     "output_type": "stream",
     "text": [
      "None\n"
     ]
    }
   ],
   "source": [
    "print(experiment)"
   ]
  },
  {
   "cell_type": "code",
   "execution_count": 16,
   "metadata": {},
   "outputs": [
    {
     "name": "stdout",
     "output_type": "stream",
     "text": [
      "Experiment not found\n"
     ]
    }
   ],
   "source": [
    "if experiment:\n",
    "    print(f\"Name: {experiment.name}\")\n",
    "    print(f\"Artifact Location: {experiment.artifact_location}\")\n",
    "    print(f\"Tags: {experiment.tags}\")\n",
    "    print(f\"Lifecycle_stage: {experiment.lifecycle_stage}\")\n",
    "    print(f\"Creation timestamp: {experiment.creation_time}\")\n",
    "else:\n",
    "    print(\"Experiment not found\")"
   ]
  },
  {
   "cell_type": "markdown",
   "metadata": {},
   "source": [
    "## Clean Up"
   ]
  },
  {
   "cell_type": "code",
   "execution_count": 17,
   "metadata": {},
   "outputs": [
    {
     "name": "stdout",
     "output_type": "stream",
     "text": [
      "Deleting: 02-mlflow_experiment_management\n"
     ]
    }
   ],
   "source": [
    "experiments = mlflow.search_experiments(filter_string=\"name LIKE '02-mlflow%'\")\n",
    "for experiment in experiments:\n",
    "    print(f\"Deleting: {experiment.name}\")\n",
    "    mlflow.delete_experiment(experiment.experiment_id)\n"
   ]
  },
  {
   "cell_type": "code",
   "execution_count": null,
   "metadata": {},
   "outputs": [],
   "source": []
  }
 ],
 "metadata": {
  "kernelspec": {
   "display_name": ".venv",
   "language": "python",
   "name": "python3"
  },
  "language_info": {
   "codemirror_mode": {
    "name": "ipython",
    "version": 3
   },
   "file_extension": ".py",
   "mimetype": "text/x-python",
   "name": "python",
   "nbconvert_exporter": "python",
   "pygments_lexer": "ipython3",
   "version": "3.11.8"
  }
 },
 "nbformat": 4,
 "nbformat_minor": 2
}
