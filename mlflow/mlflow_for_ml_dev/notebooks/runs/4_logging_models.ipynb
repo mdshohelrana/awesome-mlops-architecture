{
 "cells": [
  {
   "cell_type": "markdown",
   "metadata": {},
   "source": [
    "# MLflow Models:\n",
    "\n",
    "An MLflow Model is a standard format for packaging machine learning models that can be used in a variety of downstream tools. It lets you save a model in different “flavors” that can be understood by different downstream tools.\n",
    "\n",
    "## What is a MLflow Flavor?\n",
    "\n",
    "Flavors are the key concept that makes MLflow Models powerful: they are a convention that deployment tools can use to understand the model, which makes it possible to write tools that work with models from any ML library without having to integrate each tool with each library. \n",
    "\n",
    "## Built-In Model Flavors\n",
    "\n",
    "* Python Function (python_function)\n",
    "\n",
    "* R Function (crate)\n",
    "\n",
    "* H2O (h2o)\n",
    "\n",
    "* Keras (keras)\n",
    "\n",
    "* MLeap (mleap)\n",
    "\n",
    "* PyTorch (pytorch)\n",
    "\n",
    "* Scikit-learn (sklearn)\n",
    "\n",
    "* Spark MLlib (spark)\n",
    "\n",
    "* TensorFlow (tensorflow)\n",
    "\n",
    "* ONNX (onnx)\n",
    "\n",
    "* MXNet Gluon (gluon)\n",
    "\n",
    "* XGBoost (xgboost)\n",
    "\n",
    "* LightGBM (lightgbm)\n",
    "\n",
    "* CatBoost (catboost)\n",
    "\n",
    "* Spacy(spaCy)\n",
    "\n",
    "* Fastai(fastai)\n",
    "\n",
    "* Statsmodels (statsmodels)\n",
    "\n",
    "* Prophet (prophet)\n",
    "\n",
    "* Pmdarima (pmdarima)\n",
    "\n",
    "* OpenAI (openai) (Experimental)\n",
    "\n",
    "* LangChain (langchain) (Experimental)\n",
    "\n",
    "* John Snow Labs (johnsnowlabs) (Experimental)\n",
    "\n",
    "* Diviner (diviner)\n",
    "\n",
    "* Transformers (transformers) (Experimental)\n",
    "\n",
    "* SentenceTransformers (sentence_transformers) (Experimental)\n",
    "\n",
    "* Promptflow (promptflow) (Experimental)\n",
    "\n",
    "\n",
    "\n",
    "## MLmodel file\n",
    "\n",
    "```python\n",
    "# Directory written by mlflow.sklearn.save_model(model, \"my_model\")\n",
    "my_model/\n",
    "├── MLmodel\n",
    "├── model.pkl\n",
    "├── conda.yaml\n",
    "├── python_env.yaml\n",
    "└── requirements.txt\n",
    "```\n",
    "\n",
    "## Sklearn Flavor\n",
    "\n",
    "The mlflow.sklearn module provides an API for logging and loading scikit-learn models. This module exports scikit-learn models with the following flavors:"
   ]
  },
  {
   "cell_type": "code",
   "execution_count": 1,
   "metadata": {},
   "outputs": [],
   "source": [
    "# Create experiment\n",
    "import mlflow \n",
    "from mlflow_for_ml_dev.experiments.exp_utils import get_or_create_experiment\n",
    "\n",
    "name = \"mlflow-flavors\"\n",
    "tags={\n",
    "        \"project_name\": \"logging_models\",\n",
    "        \"topic\":\"run_management\",\n",
    "        \"mlflow.note.content\": \"This experiment is used to log sklearn models\"\n",
    "    }\n",
    "\n",
    "experiment = get_or_create_experiment(experiment_name=name, tags=tags)"
   ]
  },
  {
   "cell_type": "code",
   "execution_count": 2,
   "metadata": {},
   "outputs": [],
   "source": [
    "from sklearn.ensemble import RandomForestClassifier\n",
    "\n",
    "rfc = RandomForestClassifier(n_estimators=10)\n",
    "\n",
    "with mlflow.start_run(run_name=\"logging-random-forest\") as run:\n",
    "    mlflow.sklearn.log_model(sk_model = rfc, artifact_path = \"random-forest-model\")"
   ]
  },
  {
   "cell_type": "markdown",
   "metadata": {},
   "source": [
    "## Model With Signature"
   ]
  },
  {
   "cell_type": "code",
   "execution_count": 3,
   "metadata": {},
   "outputs": [],
   "source": [
    "from sklearn.ensemble import RandomForestClassifier\n",
    "from sklearn.datasets import load_iris\n",
    "from mlflow.models.signature import infer_signature\n",
    "import mlflow "
   ]
  },
  {
   "cell_type": "code",
   "execution_count": 4,
   "metadata": {},
   "outputs": [
    {
     "name": "stderr",
     "output_type": "stream",
     "text": [
      "c:\\Users\\manue\\projects\\mlflow_for_ml_dev\\.venv\\Lib\\site-packages\\mlflow\\types\\utils.py:394: UserWarning: Hint: Inferred schema contains integer column(s). Integer columns in Python cannot represent missing values. If your input data contains missing values at inference time, it will be encoded as floats and will cause a schema enforcement error. The best way to avoid this problem is to infer the model schema based on a realistic data sample (training dataset) that includes missing values. Alternatively, you can declare integer columns as doubles (float64) whenever these columns may have missing values. See `Handling Integers With Missing Values <https://www.mlflow.org/docs/latest/models.html#handling-integers-with-missing-values>`_ for more details.\n",
      "  warnings.warn(\n"
     ]
    }
   ],
   "source": [
    "# load the iris dataset\n",
    "iris = load_iris(as_frame=True)\n",
    "x = iris.data\n",
    "y = iris.target\n",
    "\n",
    "# infer signature\n",
    "signature = infer_signature(model_input=x, model_output=y)"
   ]
  },
  {
   "cell_type": "code",
   "execution_count": 5,
   "metadata": {},
   "outputs": [
    {
     "name": "stdout",
     "output_type": "stream",
     "text": [
      "'sepal length (cm)': double (required)\n",
      "'sepal width (cm)': double (required)\n",
      "'petal length (cm)': double (required)\n",
      "'petal width (cm)': double (required)\n"
     ]
    }
   ],
   "source": [
    "for input in signature.inputs:\n",
    "    print(input)"
   ]
  },
  {
   "cell_type": "code",
   "execution_count": 6,
   "metadata": {},
   "outputs": [
    {
     "name": "stdout",
     "output_type": "stream",
     "text": [
      "'target': integer (required)\n"
     ]
    }
   ],
   "source": [
    "for input in signature.outputs:\n",
    "    print(input)"
   ]
  },
  {
   "cell_type": "code",
   "execution_count": 7,
   "metadata": {},
   "outputs": [
    {
     "name": "stderr",
     "output_type": "stream",
     "text": [
      "c:\\Users\\manue\\projects\\mlflow_for_ml_dev\\.venv\\Lib\\site-packages\\_distutils_hack\\__init__.py:11: UserWarning: Distutils was imported before Setuptools, but importing Setuptools also replaces the `distutils` module in `sys.modules`. This may lead to undesirable behaviors or errors. To avoid these issues, avoid using distutils directly, ensure that setuptools is installed in the traditional way (e.g. not an editable install), and/or make sure that setuptools is always imported before distutils.\n",
      "  warnings.warn(\n",
      "c:\\Users\\manue\\projects\\mlflow_for_ml_dev\\.venv\\Lib\\site-packages\\_distutils_hack\\__init__.py:26: UserWarning: Setuptools is replacing distutils.\n",
      "  warnings.warn(\"Setuptools is replacing distutils.\")\n"
     ]
    }
   ],
   "source": [
    "rfc = RandomForestClassifier()\n",
    "\n",
    "rfc.fit(x, y)\n",
    "\n",
    "with mlflow.start_run(run_name=\"logging_with_signature\", experiment_id=experiment.experiment_id):\n",
    "    # Log the model\n",
    "    mlflow.sklearn.log_model(sk_model=rfc, artifact_path = rfc.__class__.__name__, signature=signature)"
   ]
  },
  {
   "cell_type": "markdown",
   "metadata": {},
   "source": [
    "## Logging with input example"
   ]
  },
  {
   "cell_type": "code",
   "execution_count": 9,
   "metadata": {},
   "outputs": [
    {
     "name": "stdout",
     "output_type": "stream",
     "text": [
      "   sepal length (cm)  sepal width (cm)  petal length (cm)  petal width (cm)\n",
      "0                5.1               3.5                1.4               0.2\n",
      "1                4.9               3.0                1.4               0.2\n",
      "2                4.7               3.2                1.3               0.2\n",
      "3                4.6               3.1                1.5               0.2\n",
      "4                5.0               3.6                1.4               0.2\n",
      "5                5.4               3.9                1.7               0.4\n",
      "6                4.6               3.4                1.4               0.3\n",
      "7                5.0               3.4                1.5               0.2\n",
      "8                4.4               2.9                1.4               0.2\n",
      "9                4.9               3.1                1.5               0.1\n"
     ]
    }
   ],
   "source": [
    "# get a sample input\n",
    "input_example = x.iloc[0:10]\n",
    "print(input_example)"
   ]
  },
  {
   "cell_type": "code",
   "execution_count": 13,
   "metadata": {},
   "outputs": [
    {
     "name": "stderr",
     "output_type": "stream",
     "text": [
      "c:\\Users\\manue\\projects\\mlflow_for_ml_dev\\.venv\\Lib\\site-packages\\_distutils_hack\\__init__.py:11: UserWarning: Distutils was imported before Setuptools, but importing Setuptools also replaces the `distutils` module in `sys.modules`. This may lead to undesirable behaviors or errors. To avoid these issues, avoid using distutils directly, ensure that setuptools is installed in the traditional way (e.g. not an editable install), and/or make sure that setuptools is always imported before distutils.\n",
      "  warnings.warn(\n",
      "c:\\Users\\manue\\projects\\mlflow_for_ml_dev\\.venv\\Lib\\site-packages\\_distutils_hack\\__init__.py:26: UserWarning: Setuptools is replacing distutils.\n",
      "  warnings.warn(\"Setuptools is replacing distutils.\")\n"
     ]
    }
   ],
   "source": [
    "rfc = RandomForestClassifier()\n",
    "\n",
    "with mlflow.start_run(run_name=\"logging_with_input_example\", experiment_id=experiment.experiment_id): \n",
    "    # Log the model\n",
    "    mlflow.sklearn.log_model(\n",
    "        sk_model = rfc,\n",
    "        artifact_path = rfc.__class__.__name__,\n",
    "        signature = signature,\n",
    "        input_example = input_example\n",
    "    )"
   ]
  },
  {
   "cell_type": "markdown",
   "metadata": {},
   "source": [
    "## Logging with code paths "
   ]
  },
  {
   "cell_type": "code",
   "execution_count": 27,
   "metadata": {},
   "outputs": [
    {
     "name": "stdout",
     "output_type": "stream",
     "text": [
      "C:/Users/manue/projects/mlflow_for_ml_dev/mlflow_for_ml_dev\n"
     ]
    },
    {
     "name": "stderr",
     "output_type": "stream",
     "text": [
      "c:\\Users\\manue\\projects\\mlflow_for_ml_dev\\.venv\\Lib\\site-packages\\_distutils_hack\\__init__.py:11: UserWarning: Distutils was imported before Setuptools, but importing Setuptools also replaces the `distutils` module in `sys.modules`. This may lead to undesirable behaviors or errors. To avoid these issues, avoid using distutils directly, ensure that setuptools is installed in the traditional way (e.g. not an editable install), and/or make sure that setuptools is always imported before distutils.\n",
      "  warnings.warn(\n",
      "c:\\Users\\manue\\projects\\mlflow_for_ml_dev\\.venv\\Lib\\site-packages\\_distutils_hack\\__init__.py:26: UserWarning: Setuptools is replacing distutils.\n",
      "  warnings.warn(\"Setuptools is replacing distutils.\")\n"
     ]
    }
   ],
   "source": [
    "from mlflow_for_ml_dev.utils.utils import get_root_project\n",
    "# get a sample input\n",
    "input_example = x.iloc[0:10]\n",
    "project_path = get_root_project()\n",
    "rfc = RandomForestClassifier()\n",
    "print((project_path / \"mlflow_for_ml_dev\").as_posix())\n",
    "with mlflow.start_run(run_name=\"logging_with_code_paths\", experiment_id=experiment.experiment_id):\n",
    "    # Log the model\n",
    "    mlflow.sklearn.log_model(\n",
    "        sk_model=rfc,\n",
    "        artifact_path = rfc.__class__.__name__,  \n",
    "        signature=signature,\n",
    "        input_example=input_example,\n",
    "        code_paths=[(project_path / \"mlflow_for_ml_dev\" / \"experiments\" /\"exp_utils.py\").as_posix()]\n",
    "    )"
   ]
  },
  {
   "cell_type": "markdown",
   "metadata": {},
   "source": [
    "## Registering the Model"
   ]
  },
  {
   "cell_type": "code",
   "execution_count": null,
   "metadata": {},
   "outputs": [],
   "source": [
    "registered_model_name = \"iris_rfc\"\n",
    "\n",
    "# get a sample input\n",
    "input_example = x.iloc[0:10]\n",
    "rfc = RandomForestClassifier()\n",
    "\n",
    "with mlflow.start_run(run_name=\"logging_and_registering\", experiment_id=experiment.experiment_id):\n",
    "\n",
    "    # Log the model\n",
    "    mlflow.sklearn.log_model(\n",
    "        sk_model=rfc,\n",
    "        artifact_path = rfc.__class__.__name__,\n",
    "        signature=signature,\n",
    "        input_example=input_example,\n",
    "        code_paths=[(project_path / \"mlflow_for_ml_dev\").as_posix()],\n",
    "        registered_model_name=registered_model_name\n",
    "    )"
   ]
  }
 ],
 "metadata": {
  "kernelspec": {
   "display_name": ".venv",
   "language": "python",
   "name": "python3"
  },
  "language_info": {
   "codemirror_mode": {
    "name": "ipython",
    "version": 3
   },
   "file_extension": ".py",
   "mimetype": "text/x-python",
   "name": "python",
   "nbconvert_exporter": "python",
   "pygments_lexer": "ipython3",
   "version": "3.11.8"
  }
 },
 "nbformat": 4,
 "nbformat_minor": 2
}
