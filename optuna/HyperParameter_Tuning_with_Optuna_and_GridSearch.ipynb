{
  "cells": [
    {
      "metadata": {
        "papermill": {
          "duration": 0.065739,
          "end_time": "2021-01-24T08:28:54.445117",
          "exception": false,
          "start_time": "2021-01-24T08:28:54.379378",
          "status": "completed"
        },
        "tags": [],
        "id": "fOlbSigvxAQk"
      },
      "cell_type": "markdown",
      "source": [
        "## Objectives\n",
        "\n",
        "The main objective of this notebook is to present some hyper parameter tuning techniques in an approachable way to beginners, using both GridSearchCV and Optuna library which is becoming quite popular for performing optimization.. we will optimizing XGBRegressor using optuna and will also check out some cool inbuilt plots that library provides to give deeper insights into the parameter selection and optimization process.\n",
        "* Optuna\n",
        "* GridSearchCV\n",
        "\n",
        "\n",
        "This notebook also serves as a beginner tutorial for implementing a feature engineering class to grid search the feature space using a linear model through a pipeline. The best set of features hence found will then be used to search the best parameters,\n",
        "validated using learning curve, for base models to make predictions used for trainig meta model in stacking ensemble. We will\n",
        "also look at the diminishing returns in the case of gradient boosting algorithms and how to use this knowledge to improve our\n",
        "stacking results. the objectives are laid down below:\n",
        "\n",
        "#### I - To create a Feature Engineering class whose parameters can be grid searched to find the features which helps achieve lowest loss, the class has following features:\n",
        "\n",
        " 1. add or not to add features which are combined using multiple features.\n",
        "\n",
        " 2. add or not to add polynomials of features most correlated with the target, if yes then how many features to select.\n",
        "\n",
        " 3. drop or not to drop features with lowest correlation with target, if yes then what should be the threshold.\n",
        "\n",
        " 4. remove or not to remove outliers from features, if yes than what should be the threshold.\n",
        "\n",
        " 5. to drop or not drop one hot encoded columns which are too sparse, if yes than what should be the threshold.\n",
        "\n",
        "#### II - To fine tune base model parameters with help of learning curves.\n",
        "\n",
        "#### III - To understand diminishing returns point for gradient boosting algortihms.\n",
        "\n",
        "#### IV - Use stacking to combine the predictions of our models."
      ]
    },
    {
      "metadata": {
        "execution": {
          "iopub.execute_input": "2021-01-24T08:28:54.578737Z",
          "iopub.status.busy": "2021-01-24T08:28:54.577679Z",
          "iopub.status.idle": "2021-01-24T08:28:56.921927Z",
          "shell.execute_reply": "2021-01-24T08:28:56.922477Z"
        },
        "papermill": {
          "duration": 2.41311,
          "end_time": "2021-01-24T08:28:56.922674",
          "exception": false,
          "start_time": "2021-01-24T08:28:54.509564",
          "status": "completed"
        },
        "tags": [],
        "trusted": true,
        "id": "7-uSgJR3xAQm"
      },
      "cell_type": "code",
      "source": [
        "import pandas as pd\n",
        "import numpy as np\n",
        "import matplotlib.pyplot as plt\n",
        "\n",
        "from sklearn.preprocessing import PowerTransformer, MinMaxScaler\n",
        "from sklearn.pipeline import Pipeline\n",
        "from sklearn.compose import ColumnTransformer\n",
        "from sklearn.metrics import mean_squared_error\n",
        "from sklearn.model_selection import GridSearchCV, train_test_split, RepeatedKFold, train_test_split, KFold\n",
        "from sklearn.model_selection import cross_val_score, RandomizedSearchCV\n",
        "from sklearn.ensemble import RandomForestRegressor, GradientBoostingRegressor, ExtraTreesRegressor\n",
        "from sklearn.ensemble import StackingRegressor\n",
        "from sklearn.linear_model import LinearRegression, Lasso, Ridge, ElasticNet\n",
        "from sklearn.svm import SVR\n",
        "from xgboost import XGBRegressor\n",
        "\n",
        "from sklearn.base import BaseEstimator, TransformerMixin\n",
        "from sklearn.metrics import mean_squared_error\n",
        "\n",
        "pd.options.display.max_rows=200\n",
        "pd.set_option('mode.chained_assignment', None)\n",
        "\n",
        "from warnings import simplefilter\n",
        "from sklearn.exceptions import ConvergenceWarning\n",
        "simplefilter(\"ignore\", category=ConvergenceWarning)\n",
        "simplefilter(\"ignore\", category=RuntimeWarning)\n",
        "\n",
        "import optuna\n",
        "from functools import partial\n",
        "\n",
        "plt.style.use('fivethirtyeight')"
      ],
      "execution_count": null,
      "outputs": []
    },
    {
      "metadata": {
        "execution": {
          "iopub.execute_input": "2021-01-24T08:28:57.055005Z",
          "iopub.status.busy": "2021-01-24T08:28:57.054294Z",
          "iopub.status.idle": "2021-01-24T08:28:57.143136Z",
          "shell.execute_reply": "2021-01-24T08:28:57.142466Z"
        },
        "papermill": {
          "duration": 0.156373,
          "end_time": "2021-01-24T08:28:57.143259",
          "exception": false,
          "start_time": "2021-01-24T08:28:56.986886",
          "status": "completed"
        },
        "tags": [],
        "trusted": true,
        "id": "2eDPtVaZxAQn"
      },
      "cell_type": "code",
      "source": [
        "train = pd.read_csv('/kaggle/input/house-prices-advanced-regression-techniques/train.csv')\n",
        "test = pd.read_csv('/kaggle/input/house-prices-advanced-regression-techniques/test.csv')"
      ],
      "execution_count": null,
      "outputs": []
    },
    {
      "metadata": {
        "execution": {
          "iopub.execute_input": "2021-01-24T08:28:57.284223Z",
          "iopub.status.busy": "2021-01-24T08:28:57.283526Z",
          "iopub.status.idle": "2021-01-24T08:28:57.294151Z",
          "shell.execute_reply": "2021-01-24T08:28:57.293539Z"
        },
        "papermill": {
          "duration": 0.085982,
          "end_time": "2021-01-24T08:28:57.294259",
          "exception": false,
          "start_time": "2021-01-24T08:28:57.208277",
          "status": "completed"
        },
        "tags": [],
        "trusted": true,
        "id": "YfTSryF9xAQn"
      },
      "cell_type": "code",
      "source": [
        "train.drop('Id', axis=1, inplace=True)\n",
        "test.drop('Id', axis=1, inplace=True)"
      ],
      "execution_count": null,
      "outputs": []
    },
    {
      "metadata": {
        "execution": {
          "iopub.execute_input": "2021-01-24T08:28:57.456114Z",
          "iopub.status.busy": "2021-01-24T08:28:57.454842Z",
          "iopub.status.idle": "2021-01-24T08:28:57.459939Z",
          "shell.execute_reply": "2021-01-24T08:28:57.460606Z"
        },
        "papermill": {
          "duration": 0.090449,
          "end_time": "2021-01-24T08:28:57.460755",
          "exception": false,
          "start_time": "2021-01-24T08:28:57.370306",
          "status": "completed"
        },
        "tags": [],
        "trusted": true,
        "id": "W0_Mx5HJxAQn"
      },
      "cell_type": "code",
      "source": [
        "X_train = train.drop('SalePrice', axis=1)\n",
        "y_train = np.log1p(train.SalePrice)\n",
        "X_test = test"
      ],
      "execution_count": null,
      "outputs": []
    },
    {
      "metadata": {
        "execution": {
          "iopub.execute_input": "2021-01-24T08:28:57.595038Z",
          "iopub.status.busy": "2021-01-24T08:28:57.59388Z",
          "iopub.status.idle": "2021-01-24T08:28:57.704919Z",
          "shell.execute_reply": "2021-01-24T08:28:57.70542Z"
        },
        "papermill": {
          "duration": 0.179888,
          "end_time": "2021-01-24T08:28:57.705571",
          "exception": false,
          "start_time": "2021-01-24T08:28:57.525683",
          "status": "completed"
        },
        "tags": [],
        "trusted": true,
        "id": "GFML7hGfxAQn"
      },
      "cell_type": "code",
      "source": [
        "def missing_value_imputation(X):\n",
        "\n",
        "    numerical_features = [feature for feature in X.columns if X[feature].dtype !='O']\n",
        "\n",
        "    ordinal_features = ['LotShape', 'LandSlope', 'ExterQual', 'ExterCond', 'BsmtQual', 'BsmtCond', 'BsmtExposure',\n",
        "                        'BsmtFinType1', 'BsmtFinType2', 'HeatingQC', 'KitchenQual', 'Functional', 'FireplaceQu',\n",
        "                        'GarageFinish', 'GarageQual', 'GarageCond', 'PoolQC']\n",
        "\n",
        "    categorical_features = [feature for feature in X.columns if feature not in ordinal_features and\n",
        "                           feature not in numerical_features]\n",
        "\n",
        "    # Numerical feature imputation\n",
        "\n",
        "    # we have selected Neighborhood feature as the feature to group by the data set to impute\n",
        "    # the other numerical feature on the basis of Neighborhood because it is quite common to have similar types of houses\n",
        "    # within a Neighborhood for eg:- a Neighborhood may have Expensive yet houses with small floor area, but on the other\n",
        "    # hand there might be houses in a Neighborhood where houses have lower prices yet they have larger total sq ft. area.\n",
        "    # hence this feature may help us to capture better median values for the missing value imputation.\n",
        "\n",
        "    for feature in numerical_features:\n",
        "        X[feature] = X[feature].fillna(X.groupby('Neighborhood')[feature].transform('median'))\n",
        "\n",
        "\n",
        "    # Simplifying Categorical features and combining rare types\n",
        "\n",
        "    X['MSZoning'].replace({'RL':'R', 'RM':'R', 'RP':'R', 'RM':'R', 'I':'O', 'A':'O', 'C (all)':'O', 'FV':'O'}, inplace=True)\n",
        "\n",
        "    X['Alley'].replace({np.nan : 'No', 'Grvl':'Yes', 'Pave':'Yes'}, inplace=True)\n",
        "\n",
        "    X['LandContour'].replace({'Lvl':'Lvl', 'HLS':'Slope', 'Bnk':'Slope', 'Low':'Slope'}, inplace=True)\n",
        "\n",
        "    X['Condition1'].where(X['Condition1'] == 'Norm', 'Other', inplace=True)\n",
        "\n",
        "    X['HouseStyle'].where((X['HouseStyle'] == '1Story') | (X['HouseStyle'] == '2Story') | (X['HouseStyle'] == '1.5Fin'),\n",
        "                          'rare', inplace=True)\n",
        "\n",
        "    X['RoofStyle'].where((X['RoofStyle'] == 'Gable') | (X['RoofStyle'] == 'Hip'), 'rare', inplace=True)\n",
        "\n",
        "    X['MasVnrType'].where(X['MasVnrType'] == 'None', 'yes', inplace=True)\n",
        "\n",
        "    X['MasVnrType'].replace({np.nan : 'None'}, inplace=True)\n",
        "\n",
        "    X['Exterior1st'].where((X['Exterior1st'] == 'VinylSd') |  (X['Exterior1st'] == 'HdBoard') |\n",
        "                           (X['Exterior1st'] == 'MetalSd') | (X['Exterior1st'] == 'Wd Sdng') |\n",
        "                           (X['Exterior1st'] == 'Plywood'), 'rare', inplace=True)\n",
        "\n",
        "    X['PavedDrive'].where(X['PavedDrive'] == 'Y', 'N', inplace=True)\n",
        "\n",
        "    X['Fence'].replace({'MnPrv':'Yes', 'GdPrv':'Yes', 'GdWo':'Yes', 'MnWw':'Yes', np.nan:'No'}, inplace=True)\n",
        "\n",
        "    X['SaleType'].where(X['SaleType'] == 'WD', 'other', inplace=True)\n",
        "\n",
        "    X['SaleCondition'].where((X['SaleCondition'] == 'Normal') | (X['SaleCondition'] == 'Partial') |\n",
        "                             (X['SaleCondition'] == 'Abnorml'), 'other', inplace=True)\n",
        "\n",
        "    X['Neighborhood'].replace({'Blmngtn':'rare', 'BrDale':'rare', 'Veenker':'rare', 'NPkVill':'rare',\n",
        "                               'Blueste':'rare', 'ClearCr':'rare'},\n",
        "                              inplace=True)\n",
        "\n",
        "\n",
        "    # for missing values still left\n",
        "\n",
        "    for feature in categorical_features:\n",
        "        val = X[feature].value_counts().index[0]\n",
        "        X[feature] = X[feature].fillna(val)\n",
        "\n",
        "\n",
        "    # Ordinal feature encoding\n",
        "\n",
        "    # you should not use LabelEncoder() as label encoder will not preserve the order!!\n",
        "\n",
        "    X['LotShape'].replace({'Reg':1, 'IR1':0, 'IR2':0, 'IR3':0}, inplace=True)\n",
        "    X['LandSlope'].replace({'Gtl':3, 'Mod':2, 'Sev':1}, inplace=True)\n",
        "    X['ExterQual'].replace({'Po':1, 'Fa':2, 'TA':3, 'Gd':4, 'Ex':5}, inplace=True)\n",
        "    X['ExterCond'].replace({'Po':1, 'Fa':2, 'TA':3, 'Gd':4, 'Ex':5}, inplace=True)\n",
        "    X['BsmtQual'].replace({np.nan:0, 'Po':1, 'Fa':2, 'TA':3, 'Gd':4, 'Ex':5}, inplace=True)\n",
        "    X['BsmtCond'].replace({np.nan:0, 'Po':1, 'Fa':2, 'TA':3, 'Gd':4, 'Ex':5}, inplace=True)\n",
        "    X['BsmtExposure'].replace({np.nan:0, 'No':1, 'Mn':2, 'Av':3, 'Gd':4}, inplace=True)\n",
        "    X['BsmtFinType1'].replace({np.nan:0, 'Unf':1, 'LwQ':2, 'Rec':3, 'BLQ':4, 'ALQ':5, 'GLQ':6}, inplace=True)\n",
        "    X['BsmtFinType2'].replace({np.nan:0, 'Unf':1, 'LwQ':2, 'Rec':3, 'BLQ':4, 'ALQ':5, 'GLQ':6}, inplace=True)\n",
        "    X['HeatingQC'].replace({'Po':1, 'Fa':2, 'TA':3, 'Gd':4, 'Ex':5}, inplace=True)\n",
        "    X['KitchenQual'].replace({np.nan:3, 'Po':1, 'Fa':2, 'TA':3, 'Gd':4, 'Ex':5}, inplace=True)\n",
        "    X['Functional'].replace({np.nan:8, 'Sal':1, 'Sev':2, 'Maj2':3, 'Maj1':4,\n",
        "                              'Mod':5, 'Min2':6, 'Min1':7, 'Typ':8}, inplace=True)\n",
        "    X['FireplaceQu'].replace({np.nan:0, 'Po':1, 'Fa':2, 'TA':3, 'Gd':4, 'Ex':5}, inplace=True)\n",
        "    X['GarageFinish'].replace({np.nan:0, 'Unf':1, 'RFn':2, 'Fin':3}, inplace=True)\n",
        "    X['GarageQual'].replace({np.nan:0, 'Po':1, 'Fa':2, 'TA':3, 'Gd':4, 'Ex':5}, inplace=True)\n",
        "    X['GarageCond'].replace({np.nan:0, 'Po':1, 'Fa':2, 'TA':3, 'Gd':4, 'Ex':5}, inplace=True)\n",
        "    X['PoolQC'].replace({np.nan:0, 'Fa': 1, 'Gd':2, 'Ex':3}, inplace=True)\n",
        "\n",
        "    categorical_features = [feature for feature in X.columns if X[feature].dtype == 'O']\n",
        "\n",
        "    for feature in categorical_features:\n",
        "        value_counts = X[feature].value_counts()\n",
        "        for val in value_counts[value_counts / len(X) < 0.015].index:\n",
        "            X[feature].loc[X[feature] == val] = 'rare'\n",
        "\n",
        "    # the problem of many rare features in categorical columns is solved only to some extent with the above practice,\n",
        "    # if you experiment with different rare feature threshold, you will find that there will be still few categories,\n",
        "    # which were categorized as 'rare' in training set, but not in test set, hence the one hot encoded columns will\n",
        "    # not be same across the final training and test sets.\n",
        "\n",
        "    return X\n",
        "\n",
        "\n",
        "\n",
        "class FeatureEngineering(BaseEstimator, TransformerMixin):\n",
        "\n",
        "    # you have to inherit from the BaseEstimator and TransformerMixin classes if you want to grid search the class params\n",
        "    # using grid search through a pipeline.\n",
        "\n",
        "    def __init__(self, combined_features=True, drop_underlying_features=True, drop_features=True, correlation_threshold=0.05,\n",
        "                 polynomial_features=True, outlier_threshold=1.5,  empty_column_dropping_threshold=0.99,\n",
        "                 final_correlation_threshold=0.05, test=False):\n",
        "\n",
        "        self.combined_features = combined_features\n",
        "        self.drop_underlying_features = drop_underlying_features\n",
        "        self.drop_features = drop_features\n",
        "        self.correlation_threshold = correlation_threshold\n",
        "        self.polynomial_features = polynomial_features\n",
        "        self.polynomial_features_list = []\n",
        "        self.outlier_threshold = outlier_threshold\n",
        "        self.empty_column_dropping_threshold = empty_column_dropping_threshold\n",
        "        self.low_correlation_drop_list = []\n",
        "        self.one_hot_features_to_drop = []\n",
        "        self.final_low_correlation_drop_list = []\n",
        "        self.final_correlation_threshold = final_correlation_threshold\n",
        "        self.test = test\n",
        "\n",
        "    def fit(self, X, y=None):\n",
        "        return self\n",
        "\n",
        "    def transform(self, X, y=None):\n",
        "\n",
        "        ordinal_features = ['LotShape', 'LandSlope', 'ExterQual', 'ExterCond', 'BsmtQual', 'BsmtCond', 'BsmtExposure',\n",
        "                            'BsmtFinType1', 'BsmtFinType2', 'HeatingQC', 'KitchenQual', 'Functional', 'FireplaceQu',\n",
        "                            'GarageFinish', 'GarageQual', 'GarageCond', 'PoolQC']\n",
        "\n",
        "        numerical_features = [feature for feature in X.columns if X[feature].dtype !='O' and feature not in ordinal_features]\n",
        "\n",
        "        categorical_features = [feature for feature in X.columns if feature not in ordinal_features and\n",
        "                               feature not in numerical_features]\n",
        "\n",
        "\n",
        "        # Converting temporal features to more useful values which is year past till present year.\n",
        "        X['GarageYrBlt'] = 2020 - X['GarageYrBlt']\n",
        "        X['YrSold'] = 2020 - X['YrSold']\n",
        "        X['YearBuilt'] = 2020 - X['YearBuilt']\n",
        "        X['YearRemodAdd'] = 2020 - X['YearRemodAdd']\n",
        "\n",
        "\n",
        "\n",
        "        if self.combined_features:\n",
        "\n",
        "            X['OverallGrade'] =  X['OverallQual'] * X['OverallCond']\n",
        "            X['ExterGrade'] =  X['ExterQual'] * X['ExterCond']\n",
        "            X['BsmtGrade'] = X['BsmtQual'] * X['BsmtCond']\n",
        "            X['BsmtFinType'] = X['BsmtFinType1'] + X['BsmtFinType2']\n",
        "            X['BsmtFinSF'] = X['BsmtFinSF1'] + X['BsmtFinSF2']\n",
        "            X['FlrSF'] = X['1stFlrSF'] + X['2ndFlrSF']\n",
        "            X['BsmtBath'] = X['BsmtFullBath'] + X['BsmtHalfBath']\n",
        "            X['Bath'] = X['FullBath'] + X['HalfBath']\n",
        "            X['GarageGrade'] = X['GarageQual'] * X['GarageCond']\n",
        "            X['Porch'] = X['OpenPorchSF'] + X['EnclosedPorch'] + X['3SsnPorch'] + X['ScreenPorch']\n",
        "\n",
        "            numerical_features.extend(['OverallGrade', 'ExterGrade', 'BsmtGrade', 'BsmtFinType', 'BsmtFinSF', 'FlrSF',\n",
        "                                       'BsmtBath', 'Bath', 'GarageGrade', 'Porch'])\n",
        "\n",
        "\n",
        "\n",
        "        if self.combined_features and self.drop_underlying_features: # do not wish to drop these features if we have not created\n",
        "                                                                     # any features using them.\n",
        "            to_drop = [ 'BsmtFinType1','BsmtFinType2', 'BsmtFinSF1', '1stFlrSF', 'BsmtFullBath',\n",
        "                       'BsmtHalfBath', 'FullBath', 'HalfBath', 'GarageCond',\n",
        "                       'OpenPorchSF', 'BsmtFinSF2', '2ndFlrSF', 'EnclosedPorch',\n",
        "                       '3SsnPorch', 'ScreenPorch']\n",
        "\n",
        "\n",
        "            X.drop(to_drop, axis=1, inplace=True)\n",
        "\n",
        "\n",
        "        if self.drop_features:\n",
        "\n",
        "            to_drop = ['Utilities', 'PoolQC', 'MiscFeature', 'Street',\n",
        "                       'Condition2', 'MasVnrType', 'LowQualFinSF', 'Alley', 'MiscVal', 'Fence',\n",
        "                   'KitchenAbvGr', 'PoolArea', 'Street', 'RoofMatl', 'Exterior2nd', 'Heating']\n",
        "\n",
        "            X.drop(to_drop, axis=1, inplace=True)\n",
        "\n",
        "        ordinal_features = [feature for feature in X.columns if X[feature].dtype != 'O' and feature not in numerical_features]\n",
        "        numerical_features = [feature for feature in X.columns if X[feature].dtype != 'O' and feature not in ordinal_features]\n",
        "        categorical_features = [feature for feature in X.columns if X[feature].dtype == 'O']\n",
        "        # we are refreshing our list of features names in ordinal and numerical lists because we have dropped few features\n",
        "        # from ordinal and numerical feature lists.\n",
        "\n",
        "\n",
        "\n",
        "        if self.polynomial_features:\n",
        "\n",
        "            if len(X) > 800 and not self.test:\n",
        "                y = train['SalePrice'].iloc[X.index].to_frame()\n",
        "                saleprice = pd.concat([X, y], axis=1).corr()['SalePrice']\n",
        "                self.polynomial_features_list = list(saleprice.sort_values(ascending=False).index[1:self.polynomial_features + 2])\n",
        "\n",
        "                for feature in self.polynomial_features_list:\n",
        "                    for i in [2, 3]:\n",
        "                        X[f'{feature} - sq{i}'] = X[feature] ** i\n",
        "\n",
        "            else: # test sets should add those polynomial features which were found worthy while going through training set.\n",
        "                for feature in self.polynomial_features_list:\n",
        "                    for i in [2, 3]:\n",
        "                        X[f'{feature} - sq{i}'] = X[feature] ** i\n",
        "\n",
        "\n",
        "\n",
        "\n",
        "        if self.outlier_threshold:\n",
        "\n",
        "            numerical_features = [feature for feature in X.columns\n",
        "                              if feature not in ordinal_features and X[feature].dtype != 'O' ]\n",
        "            # again we have to refresh the list because we might have generated a lot of numerical features if the execution\n",
        "            # went through the polynomial feature \"if statement\" above.\n",
        "\n",
        "            for feature in numerical_features:\n",
        "                unique_vals = X[feature].nunique()\n",
        "                # if we look at the data set we can observe that generally numerical features with less than 10 unique values\n",
        "                # do not have any outliers, what they have is majority of only one value across instances, so it will be better\n",
        "                # and all the other distinct values are quite close magnitude wise to the value in majority, so i am not\n",
        "                # considering such features for outlier removal.\n",
        "                if unique_vals > 10:\n",
        "                    q1 = np.percentile(X[feature], 25)\n",
        "                    q3 = np.percentile(X[feature], 75)\n",
        "                    iqr = q3 - q1\n",
        "                    if not iqr:  # will be executed if iqr = 0, to prevent creation of constant data columns\n",
        "                        iqr = 1\n",
        "                    cut_off = iqr * self.outlier_threshold\n",
        "                    lower, upper = q1 - cut_off, q3 + cut_off\n",
        "                    X[feature].where(~(X[feature] > upper), upper, inplace=True)\n",
        "                    X[feature].where(~(X[feature] < lower), lower, inplace=True)\n",
        "\n",
        "\n",
        "\n",
        "        if self.correlation_threshold:\n",
        "\n",
        "            if len(X) > 800 and not self.test:\n",
        "\n",
        "                # cannot allow test set to pass through this code block, we will drop those columns in test set too which\n",
        "                # were found less correlated with target in training set\n",
        "\n",
        "                self.low_correlation_drop_list = []\n",
        "                y = train['SalePrice'].iloc[X.index].to_frame()\n",
        "                saleprice = pd.concat([X, y], axis=1).corr()['SalePrice']\n",
        "                corr_dict = saleprice.sort_values(ascending=False).to_frame().to_dict()['SalePrice']\n",
        "\n",
        "                for key, value in corr_dict.items():\n",
        "                    if value < self.correlation_threshold and value > - self.correlation_threshold:\n",
        "                        self.low_correlation_drop_list.append(key)\n",
        "\n",
        "                X = X.drop(self.low_correlation_drop_list, axis=1)\n",
        "\n",
        "            else:\n",
        "                X = X.drop(self.low_correlation_drop_list, axis=1)\n",
        "\n",
        "\n",
        "        numerical_features = [feature for feature in X.columns if X[feature].dtype != 'O']\n",
        "        # now we do not have to separate ordinal features from numerical features\n",
        "        # all numeric types go for power transformation!!\n",
        "\n",
        "        categorical_features = [feature for feature in X.columns if feature not in numerical_features]\n",
        "\n",
        "        X.replace({0 : 1e-5}, inplace=True) # values for box-cox should be strictly positive.\n",
        "        X_index = X.index\n",
        "\n",
        "        num_pipeline = Pipeline([('scale', MinMaxScaler(feature_range=(1e-5, 1))),\n",
        "                                 ('power_transform', PowerTransformer(method='box-cox'))])\n",
        "\n",
        "        transformer = ColumnTransformer([('num_pipeline', num_pipeline, numerical_features)])\n",
        "\n",
        "        numerical_features_transformed = transformer.fit_transform(X)\n",
        "\n",
        "        numerical_df = pd.DataFrame(numerical_features_transformed, columns=numerical_features, index=X.index)\n",
        "\n",
        "        X = pd.concat([numerical_df, X.loc[:, categorical_features]], axis=1)\n",
        "\n",
        "        if not self.test:\n",
        "            X_total = pd.concat([X, X_train_imputed.loc[:, categorical_features].loc[~(X_train_imputed.index.isin(X.index))]])\n",
        "            X_total = pd.get_dummies(X_total)\n",
        "            one_hot_features = [feature for feature in X_total.columns if feature not in numerical_features]\n",
        "\n",
        "        # while cross validation it might be the case that some rare categories in categorical features might get\n",
        "        # concentrated in just the training set of the cross validation and test fold might not have even a single occurence\n",
        "        # this will cause the test and training sets to be of different column sizes after one hot encoding, to circumvent\n",
        "        # this issue i had to use only the categorical portion of those rows in main training set which are not present in the\n",
        "        # cross val training set. This is not the best way to avoid the problem and is somewhat controversial as test should not\n",
        "        # be exposed to the training set. any suggestions with regards to this problem will be highly appreciated.\n",
        "\n",
        "\n",
        "        else:\n",
        "            X = pd.get_dummies(X)\n",
        "\n",
        "\n",
        "        if self.empty_column_dropping_threshold:\n",
        "            if len(X) > 800 and not self.test:\n",
        "                self.one_hot_features_to_drop = []\n",
        "                for feature in one_hot_features:\n",
        "                    zero_count = X_total[feature].value_counts()[0] / len(X_total)\n",
        "\n",
        "                    if zero_count > self.empty_column_dropping_threshold:\n",
        "                        self.one_hot_features_to_drop.append(feature)\n",
        "                        X_total.drop(feature, axis=1, inplace=True)\n",
        "\n",
        "\n",
        "\n",
        "            elif not self.test: # exclusively for test set of cross validation...\n",
        "                X_total.drop(self.one_hot_features_to_drop, axis=1, inplace=True)\n",
        "\n",
        "\n",
        "\n",
        "            else: # for the final test set\n",
        "                X.drop(self.one_hot_features_to_drop, axis=1, inplace=True)\n",
        "\n",
        "        if not self.test:\n",
        "            X = X_total.dropna() # drop the rows added for one hot encoding, those rows have nan values in numerical columns\n",
        "\n",
        "\n",
        "        if self.final_correlation_threshold:\n",
        "\n",
        "            # lets just let the model decide if it finds dropping any more features less correlated with target useful or not!!\n",
        "\n",
        "            if len(X) > 800 and not self.test:\n",
        "\n",
        "                self.final_low_correlation_drop_list = []\n",
        "                y = train['SalePrice'].iloc[X.index].to_frame()\n",
        "                saleprice = pd.concat([X, y], axis=1).corr()['SalePrice']\n",
        "                corr_dict = saleprice.sort_values(ascending=False).to_frame().to_dict()['SalePrice']\n",
        "\n",
        "                for key, value in corr_dict.items():\n",
        "                    if value < self.final_correlation_threshold and value > - self.final_correlation_threshold:\n",
        "                        self.final_low_correlation_drop_list.append(key)\n",
        "\n",
        "                X = X.drop(self.final_low_correlation_drop_list, axis=1)\n",
        "\n",
        "            else:\n",
        "                X = X.drop(self.final_low_correlation_drop_list, axis=1)\n",
        "\n",
        "        # finally, we can also add more functionality, such as dimensionality reduction using pca, lle.. but for the\n",
        "        # present dataset these were not useful so i did not add them, but there will be occasions where dimensionality\n",
        "        # reduction can help, but searching feature space will take a lot more time, if it does, than it would be better to\n",
        "        # find the best feature set and then see if reducing dimensions just only reduces training time or if it also helps\n",
        "        # boost score(which it generally does not!!)\n",
        "\n",
        "        return X"
      ],
      "execution_count": null,
      "outputs": []
    },
    {
      "metadata": {
        "papermill": {
          "duration": 0.064365,
          "end_time": "2021-01-24T08:28:57.837306",
          "exception": false,
          "start_time": "2021-01-24T08:28:57.772941",
          "status": "completed"
        },
        "tags": [],
        "id": "QK5u-0qlxAQo"
      },
      "cell_type": "markdown",
      "source": [
        "## Feature Space Search"
      ]
    },
    {
      "metadata": {
        "execution": {
          "iopub.execute_input": "2021-01-24T08:28:57.969673Z",
          "iopub.status.busy": "2021-01-24T08:28:57.968983Z",
          "iopub.status.idle": "2021-01-24T08:28:58.207084Z",
          "shell.execute_reply": "2021-01-24T08:28:58.207655Z"
        },
        "papermill": {
          "duration": 0.306082,
          "end_time": "2021-01-24T08:28:58.207799",
          "exception": false,
          "start_time": "2021-01-24T08:28:57.901717",
          "status": "completed"
        },
        "tags": [],
        "trusted": true,
        "id": "NV_kuNWBxAQo"
      },
      "cell_type": "code",
      "source": [
        "X_train_imputed = missing_value_imputation(X_train.copy())"
      ],
      "execution_count": null,
      "outputs": []
    },
    {
      "metadata": {
        "execution": {
          "iopub.execute_input": "2021-01-24T08:28:58.346611Z",
          "iopub.status.busy": "2021-01-24T08:28:58.34593Z",
          "iopub.status.idle": "2021-01-24T08:28:58.347873Z",
          "shell.execute_reply": "2021-01-24T08:28:58.348455Z"
        },
        "papermill": {
          "duration": 0.073676,
          "end_time": "2021-01-24T08:28:58.348603",
          "exception": false,
          "start_time": "2021-01-24T08:28:58.274927",
          "status": "completed"
        },
        "tags": [],
        "trusted": true,
        "id": "zG4IWBXDxAQo"
      },
      "cell_type": "code",
      "source": [
        "param_grid = {'feature_engineering__combined_features':[True],\n",
        "              'feature_engineering__drop_features':[True],\n",
        "              'feature_engineering__drop_underlying_features':[True],\n",
        "              'feature_engineering__polynomial_features':[9],\n",
        "              'feature_engineering__correlation_threshold': [0.07],\n",
        "              'feature_engineering__outlier_threshold':[1.5],\n",
        "              'feature_engineering__empty_column_dropping_threshold':[0.99],\n",
        "              'feature_engineering__final_correlation_threshold':[False]\n",
        "              }\n",
        "#these are the parameters that i found to be the best"
      ],
      "execution_count": null,
      "outputs": []
    },
    {
      "metadata": {
        "_kg_hide-output": true,
        "execution": {
          "iopub.execute_input": "2021-01-24T08:28:58.482129Z",
          "iopub.status.busy": "2021-01-24T08:28:58.481411Z",
          "iopub.status.idle": "2021-01-24T08:29:03.226213Z",
          "shell.execute_reply": "2021-01-24T08:29:03.226935Z"
        },
        "papermill": {
          "duration": 4.813077,
          "end_time": "2021-01-24T08:29:03.227109",
          "exception": false,
          "start_time": "2021-01-24T08:28:58.414032",
          "status": "completed"
        },
        "tags": [],
        "trusted": true,
        "id": "6jUvgYcAxAQo"
      },
      "cell_type": "code",
      "source": [
        "linreg = Pipeline([('feature_engineering', FeatureEngineering()),\n",
        "                   ('linreg', Ridge())])\n",
        "\n",
        "grid = GridSearchCV(linreg, param_grid, cv=5, scoring='neg_mean_squared_error', verbose=2, n_jobs=-1)\n",
        "grid.fit(X_train_imputed.copy(), y_train)"
      ],
      "execution_count": null,
      "outputs": []
    },
    {
      "metadata": {
        "execution": {
          "iopub.execute_input": "2021-01-24T08:29:03.367847Z",
          "iopub.status.busy": "2021-01-24T08:29:03.366848Z",
          "iopub.status.idle": "2021-01-24T08:29:03.37273Z",
          "shell.execute_reply": "2021-01-24T08:29:03.373234Z"
        },
        "papermill": {
          "duration": 0.075622,
          "end_time": "2021-01-24T08:29:03.373364",
          "exception": false,
          "start_time": "2021-01-24T08:29:03.297742",
          "status": "completed"
        },
        "tags": [],
        "trusted": true,
        "id": "TvlBWeWYxAQo"
      },
      "cell_type": "code",
      "source": [
        "grid.best_params_"
      ],
      "execution_count": null,
      "outputs": []
    },
    {
      "metadata": {
        "papermill": {
          "duration": 0.066052,
          "end_time": "2021-01-24T08:29:03.506125",
          "exception": false,
          "start_time": "2021-01-24T08:29:03.440073",
          "status": "completed"
        },
        "tags": [],
        "id": "WrB2oYP8xAQo"
      },
      "cell_type": "markdown",
      "source": [
        "## Final Data set creation"
      ]
    },
    {
      "metadata": {
        "execution": {
          "iopub.execute_input": "2021-01-24T08:29:03.644743Z",
          "iopub.status.busy": "2021-01-24T08:29:03.643662Z",
          "iopub.status.idle": "2021-01-24T08:29:03.649873Z",
          "shell.execute_reply": "2021-01-24T08:29:03.649345Z"
        },
        "papermill": {
          "duration": 0.076241,
          "end_time": "2021-01-24T08:29:03.649984",
          "exception": false,
          "start_time": "2021-01-24T08:29:03.573743",
          "status": "completed"
        },
        "tags": [],
        "trusted": true,
        "id": "ul50a5n6xAQp"
      },
      "cell_type": "code",
      "source": [
        "fe = FeatureEngineering(**{'combined_features': True,\n",
        "                             'correlation_threshold': 0.07,\n",
        "                             'drop_features': True,\n",
        "                             'drop_underlying_features': True,\n",
        "                             'empty_column_dropping_threshold': 0.99,\n",
        "                             'final_correlation_threshold':False,\n",
        "                             'outlier_threshold': 1.5,\n",
        "                             'polynomial_features': 9})"
      ],
      "execution_count": null,
      "outputs": []
    },
    {
      "metadata": {
        "execution": {
          "iopub.execute_input": "2021-01-24T08:29:03.790903Z",
          "iopub.status.busy": "2021-01-24T08:29:03.790158Z",
          "iopub.status.idle": "2021-01-24T08:29:04.249512Z",
          "shell.execute_reply": "2021-01-24T08:29:04.250101Z"
        },
        "papermill": {
          "duration": 0.533339,
          "end_time": "2021-01-24T08:29:04.250268",
          "exception": false,
          "start_time": "2021-01-24T08:29:03.716929",
          "status": "completed"
        },
        "tags": [],
        "trusted": true,
        "id": "GuGu-P9pxAQp"
      },
      "cell_type": "code",
      "source": [
        "X_train_imputed = missing_value_imputation(X_train.copy())\n",
        "X_test_imputed = missing_value_imputation(X_test.copy())"
      ],
      "execution_count": null,
      "outputs": []
    },
    {
      "metadata": {
        "execution": {
          "iopub.execute_input": "2021-01-24T08:29:04.389533Z",
          "iopub.status.busy": "2021-01-24T08:29:04.388866Z",
          "iopub.status.idle": "2021-01-24T08:29:04.393841Z",
          "shell.execute_reply": "2021-01-24T08:29:04.394413Z"
        },
        "papermill": {
          "duration": 0.075722,
          "end_time": "2021-01-24T08:29:04.394562",
          "exception": false,
          "start_time": "2021-01-24T08:29:04.31884",
          "status": "completed"
        },
        "tags": [],
        "trusted": true,
        "id": "kG4ZMg-exAQp"
      },
      "cell_type": "code",
      "source": [
        "X_train_imputed.shape, X_test_imputed.shape"
      ],
      "execution_count": null,
      "outputs": []
    },
    {
      "metadata": {
        "execution": {
          "iopub.execute_input": "2021-01-24T08:29:04.534202Z",
          "iopub.status.busy": "2021-01-24T08:29:04.533488Z",
          "iopub.status.idle": "2021-01-24T08:29:05.035528Z",
          "shell.execute_reply": "2021-01-24T08:29:05.036078Z"
        },
        "papermill": {
          "duration": 0.573836,
          "end_time": "2021-01-24T08:29:05.036239",
          "exception": false,
          "start_time": "2021-01-24T08:29:04.462403",
          "status": "completed"
        },
        "tags": [],
        "trusted": true,
        "id": "gVp9udxvxAQp"
      },
      "cell_type": "code",
      "source": [
        "X_train_fe = fe.transform(X_train_imputed.copy())"
      ],
      "execution_count": null,
      "outputs": []
    },
    {
      "metadata": {
        "execution": {
          "iopub.execute_input": "2021-01-24T08:29:05.176912Z",
          "iopub.status.busy": "2021-01-24T08:29:05.176253Z",
          "iopub.status.idle": "2021-01-24T08:29:05.180617Z",
          "shell.execute_reply": "2021-01-24T08:29:05.181124Z"
        },
        "papermill": {
          "duration": 0.076875,
          "end_time": "2021-01-24T08:29:05.181271",
          "exception": false,
          "start_time": "2021-01-24T08:29:05.104396",
          "status": "completed"
        },
        "tags": [],
        "trusted": true,
        "id": "VliamtnCxAQp"
      },
      "cell_type": "code",
      "source": [
        "X_train_fe.shape"
      ],
      "execution_count": null,
      "outputs": []
    },
    {
      "metadata": {
        "execution": {
          "iopub.execute_input": "2021-01-24T08:29:05.325742Z",
          "iopub.status.busy": "2021-01-24T08:29:05.325087Z",
          "iopub.status.idle": "2021-01-24T08:29:05.328383Z",
          "shell.execute_reply": "2021-01-24T08:29:05.328937Z"
        },
        "papermill": {
          "duration": 0.079583,
          "end_time": "2021-01-24T08:29:05.32909",
          "exception": false,
          "start_time": "2021-01-24T08:29:05.249507",
          "status": "completed"
        },
        "tags": [],
        "trusted": true,
        "id": "mngnTRW8xAQp"
      },
      "cell_type": "code",
      "source": [
        "fe.test = True"
      ],
      "execution_count": null,
      "outputs": []
    },
    {
      "metadata": {
        "execution": {
          "iopub.execute_input": "2021-01-24T08:29:05.469871Z",
          "iopub.status.busy": "2021-01-24T08:29:05.469167Z",
          "iopub.status.idle": "2021-01-24T08:29:05.895709Z",
          "shell.execute_reply": "2021-01-24T08:29:05.896244Z"
        },
        "papermill": {
          "duration": 0.498533,
          "end_time": "2021-01-24T08:29:05.896406",
          "exception": false,
          "start_time": "2021-01-24T08:29:05.397873",
          "status": "completed"
        },
        "tags": [],
        "trusted": true,
        "id": "cFrXr1r8xAQp"
      },
      "cell_type": "code",
      "source": [
        "X_test_fe = fe.transform(X_test_imputed.copy())"
      ],
      "execution_count": null,
      "outputs": []
    },
    {
      "metadata": {
        "execution": {
          "iopub.execute_input": "2021-01-24T08:29:06.03879Z",
          "iopub.status.busy": "2021-01-24T08:29:06.038114Z",
          "iopub.status.idle": "2021-01-24T08:29:06.042465Z",
          "shell.execute_reply": "2021-01-24T08:29:06.042954Z"
        },
        "papermill": {
          "duration": 0.076935,
          "end_time": "2021-01-24T08:29:06.043101",
          "exception": false,
          "start_time": "2021-01-24T08:29:05.966166",
          "status": "completed"
        },
        "tags": [],
        "trusted": true,
        "id": "d6STDOJ8xAQp"
      },
      "cell_type": "code",
      "source": [
        "X_test_fe.shape"
      ],
      "execution_count": null,
      "outputs": []
    },
    {
      "metadata": {
        "execution": {
          "iopub.execute_input": "2021-01-24T08:29:06.18607Z",
          "iopub.status.busy": "2021-01-24T08:29:06.185375Z",
          "iopub.status.idle": "2021-01-24T08:29:06.189027Z",
          "shell.execute_reply": "2021-01-24T08:29:06.189545Z"
        },
        "papermill": {
          "duration": 0.076937,
          "end_time": "2021-01-24T08:29:06.189723",
          "exception": false,
          "start_time": "2021-01-24T08:29:06.112786",
          "status": "completed"
        },
        "tags": [],
        "trusted": true,
        "id": "BvIeZ84mxAQp"
      },
      "cell_type": "code",
      "source": [
        "fe.test = False"
      ],
      "execution_count": null,
      "outputs": []
    },
    {
      "metadata": {
        "execution": {
          "iopub.execute_input": "2021-01-24T08:29:06.334461Z",
          "iopub.status.busy": "2021-01-24T08:29:06.333785Z",
          "iopub.status.idle": "2021-01-24T08:29:06.388057Z",
          "shell.execute_reply": "2021-01-24T08:29:06.388603Z"
        },
        "papermill": {
          "duration": 0.129061,
          "end_time": "2021-01-24T08:29:06.388767",
          "exception": false,
          "start_time": "2021-01-24T08:29:06.259706",
          "status": "completed"
        },
        "tags": [],
        "trusted": true,
        "id": "lgidh_orxAQp"
      },
      "cell_type": "code",
      "source": [
        "corr_sale = pd.concat([X_train_fe, y_train], axis=1).corr()['SalePrice']"
      ],
      "execution_count": null,
      "outputs": []
    },
    {
      "metadata": {
        "execution": {
          "iopub.execute_input": "2021-01-24T08:29:06.537998Z",
          "iopub.status.busy": "2021-01-24T08:29:06.537251Z",
          "iopub.status.idle": "2021-01-24T08:29:06.54013Z",
          "shell.execute_reply": "2021-01-24T08:29:06.540765Z"
        },
        "papermill": {
          "duration": 0.082548,
          "end_time": "2021-01-24T08:29:06.540924",
          "exception": false,
          "start_time": "2021-01-24T08:29:06.458376",
          "status": "completed"
        },
        "scrolled": false,
        "tags": [],
        "_kg_hide-output": true,
        "trusted": true,
        "id": "DD9-1JFcxAQp"
      },
      "cell_type": "code",
      "source": [
        "corr_sale.sort_values(ascending=False)"
      ],
      "execution_count": null,
      "outputs": []
    },
    {
      "metadata": {
        "execution": {
          "iopub.execute_input": "2021-01-24T08:29:06.685722Z",
          "iopub.status.busy": "2021-01-24T08:29:06.685087Z",
          "iopub.status.idle": "2021-01-24T08:29:06.692126Z",
          "shell.execute_reply": "2021-01-24T08:29:06.691532Z"
        },
        "papermill": {
          "duration": 0.080214,
          "end_time": "2021-01-24T08:29:06.692247",
          "exception": false,
          "start_time": "2021-01-24T08:29:06.612033",
          "status": "completed"
        },
        "tags": [],
        "_kg_hide-output": true,
        "trusted": true,
        "id": "Ivs9ktxmxAQp"
      },
      "cell_type": "code",
      "source": [
        "X_train_fe.columns == X_test_fe.columns"
      ],
      "execution_count": null,
      "outputs": []
    },
    {
      "metadata": {
        "papermill": {
          "duration": 0.071336,
          "end_time": "2021-01-24T08:29:06.835158",
          "exception": false,
          "start_time": "2021-01-24T08:29:06.763822",
          "status": "completed"
        },
        "tags": [],
        "id": "_sq74e_hxAQp"
      },
      "cell_type": "markdown",
      "source": [
        "## Model Selection"
      ]
    },
    {
      "metadata": {
        "execution": {
          "iopub.execute_input": "2021-01-24T08:29:06.984388Z",
          "iopub.status.busy": "2021-01-24T08:29:06.983489Z",
          "iopub.status.idle": "2021-01-24T08:29:06.986717Z",
          "shell.execute_reply": "2021-01-24T08:29:06.985964Z"
        },
        "papermill": {
          "duration": 0.08043,
          "end_time": "2021-01-24T08:29:06.986839",
          "exception": false,
          "start_time": "2021-01-24T08:29:06.906409",
          "status": "completed"
        },
        "tags": [],
        "trusted": true,
        "id": "kjF3cS67xAQp"
      },
      "cell_type": "code",
      "source": [
        "def results(cv_results_, n):\n",
        "    df = pd.DataFrame(cv_results_)[['params', 'mean_test_score']].nlargest(n, columns='mean_test_score')\n",
        "    for i in range(len(df)):\n",
        "        print(f'{df.iloc[i, 0]} : {df.iloc[i, 1]}')"
      ],
      "execution_count": null,
      "outputs": []
    },
    {
      "metadata": {
        "execution": {
          "iopub.execute_input": "2021-01-24T08:29:07.141684Z",
          "iopub.status.busy": "2021-01-24T08:29:07.140839Z",
          "iopub.status.idle": "2021-01-24T08:29:07.144009Z",
          "shell.execute_reply": "2021-01-24T08:29:07.143463Z"
        },
        "papermill": {
          "duration": 0.0859,
          "end_time": "2021-01-24T08:29:07.144127",
          "exception": false,
          "start_time": "2021-01-24T08:29:07.058227",
          "status": "completed"
        },
        "tags": [],
        "trusted": true,
        "id": "lHR7JGyLxAQq"
      },
      "cell_type": "code",
      "source": [
        "def parameter_plot(model, X, y, n_estimators=[100, 200, 300, 400, 600, 900, 1300], hyper_param=None, **kwargs):\n",
        "    param_name, param_vals = hyper_param\n",
        "    param_grid = {'n_estimators':n_estimators,\n",
        "                  f'{param_name}':param_vals}\n",
        "\n",
        "    grid = GridSearchCV(model(**kwargs), param_grid,\n",
        "                        cv=RepeatedKFold(n_splits=8, n_repeats=1, random_state=42),\n",
        "                        scoring='neg_root_mean_squared_error', n_jobs=-1, verbose=2)\n",
        "    grid.fit(X, y)\n",
        "    results = pd.DataFrame(grid.cv_results_)['mean_test_score'].values\n",
        "    results = results.reshape(len(param_vals), len(n_estimators))\n",
        "\n",
        "    plt.figure(figsize=(15, 9))\n",
        "    for i in range(1, len(param_vals) + 1):\n",
        "        plt.plot(n_estimators, results[i-1], label=f'{param_name} - {param_vals[i-1]}')\n",
        "\n",
        "    plt.legend()\n",
        "    plt.show()"
      ],
      "execution_count": null,
      "outputs": []
    },
    {
      "metadata": {
        "execution": {
          "iopub.execute_input": "2021-01-24T08:29:07.307451Z",
          "iopub.status.busy": "2021-01-24T08:29:07.306462Z",
          "iopub.status.idle": "2021-01-24T08:29:07.31026Z",
          "shell.execute_reply": "2021-01-24T08:29:07.309733Z"
        },
        "papermill": {
          "duration": 0.094642,
          "end_time": "2021-01-24T08:29:07.310385",
          "exception": false,
          "start_time": "2021-01-24T08:29:07.215743",
          "status": "completed"
        },
        "tags": [],
        "trusted": true,
        "id": "ByPYOE94xAQq"
      },
      "cell_type": "code",
      "source": [
        "def learning_curve_plotter(Model, X, y, params_1, params_2, step=50):\n",
        "\n",
        "    X_train, X_test, y_train, y_test = train_test_split(X, y, test_size=0.1, random_state=42)\n",
        "\n",
        "    fig, ax = plt.subplots(1, 2, sharey=True, figsize=(16, 7))\n",
        "    for i, (name, params) in enumerate([params_1, params_2]):\n",
        "        train_score = []\n",
        "        val_score = []\n",
        "        for j in range(100, len(X_train), step):\n",
        "            model = Model(**params).fit(X_train[:j], y_train[:j])\n",
        "            y_train_preds = model.predict(X_train[:j])\n",
        "            y_test_preds = model.predict(X_test)\n",
        "            train_score.append(np.sqrt(mean_squared_error(y_train[:j], y_train_preds)))\n",
        "            val_score.append(np.sqrt(mean_squared_error(y_test, y_test_preds)))\n",
        "\n",
        "        ax[i].plot(train_score, 'r-', label='Training error')\n",
        "        ax[i].plot(val_score, 'b-', label='Validation error')\n",
        "        ax[i].set_title(f'{name}', fontsize=18)\n",
        "        ax[i].set_xlabel('Training set size', fontsize=15, labelpad=10)\n",
        "        ax[i].set_ylabel('Root mean squared log error', fontsize=15, labelpad=10)\n",
        "        ax[i].legend()\n",
        "\n",
        "    plt.show()"
      ],
      "execution_count": null,
      "outputs": []
    },
    {
      "metadata": {
        "papermill": {
          "duration": 0.070842,
          "end_time": "2021-01-24T08:29:07.454903",
          "exception": false,
          "start_time": "2021-01-24T08:29:07.384061",
          "status": "completed"
        },
        "tags": [],
        "id": "g1yAVj-GxAQq"
      },
      "cell_type": "markdown",
      "source": [
        "### Ridge"
      ]
    },
    {
      "metadata": {
        "execution": {
          "iopub.execute_input": "2021-01-24T08:29:07.603178Z",
          "iopub.status.busy": "2021-01-24T08:29:07.602172Z",
          "iopub.status.idle": "2021-01-24T08:29:07.605368Z",
          "shell.execute_reply": "2021-01-24T08:29:07.605879Z"
        },
        "papermill": {
          "duration": 0.079985,
          "end_time": "2021-01-24T08:29:07.606027",
          "exception": false,
          "start_time": "2021-01-24T08:29:07.526042",
          "status": "completed"
        },
        "tags": [],
        "trusted": false,
        "id": "PatOMpd3xAQq"
      },
      "cell_type": "code",
      "source": [
        "param_grid_ridge = {'alpha':0.1 * np.arange(1, 70)}"
      ],
      "execution_count": null,
      "outputs": []
    },
    {
      "metadata": {
        "execution": {
          "iopub.execute_input": "2021-01-24T08:29:07.755288Z",
          "iopub.status.busy": "2021-01-24T08:29:07.7545Z",
          "iopub.status.idle": "2021-01-24T08:29:07.757066Z",
          "shell.execute_reply": "2021-01-24T08:29:07.756402Z"
        },
        "papermill": {
          "duration": 0.079146,
          "end_time": "2021-01-24T08:29:07.757181",
          "exception": false,
          "start_time": "2021-01-24T08:29:07.678035",
          "status": "completed"
        },
        "tags": [],
        "trusted": false,
        "id": "OMm94DuQxAQq"
      },
      "cell_type": "code",
      "source": [
        "grid_ridge = GridSearchCV(Ridge(), param_grid_ridge,\n",
        "                        cv=RepeatedKFold(n_splits=10, n_repeats=2, random_state=42),\n",
        "                              scoring='neg_root_mean_squared_error', verbose=2, n_jobs=-1)"
      ],
      "execution_count": null,
      "outputs": []
    },
    {
      "metadata": {
        "_kg_hide-output": true,
        "execution": {
          "iopub.execute_input": "2021-01-24T08:29:07.90683Z",
          "iopub.status.busy": "2021-01-24T08:29:07.906133Z",
          "iopub.status.idle": "2021-01-24T08:29:15.205841Z",
          "shell.execute_reply": "2021-01-24T08:29:15.20637Z"
        },
        "papermill": {
          "duration": 7.377953,
          "end_time": "2021-01-24T08:29:15.206513",
          "exception": false,
          "start_time": "2021-01-24T08:29:07.82856",
          "status": "completed"
        },
        "tags": [],
        "trusted": false,
        "id": "QxeaaCUlxAQq"
      },
      "cell_type": "code",
      "source": [
        "grid_ridge.fit(X_train_fe, y_train)"
      ],
      "execution_count": null,
      "outputs": []
    },
    {
      "metadata": {
        "_kg_hide-output": true,
        "execution": {
          "iopub.execute_input": "2021-01-24T08:29:15.374135Z",
          "iopub.status.busy": "2021-01-24T08:29:15.37308Z",
          "iopub.status.idle": "2021-01-24T08:29:15.398242Z",
          "shell.execute_reply": "2021-01-24T08:29:15.397443Z"
        },
        "papermill": {
          "duration": 0.114986,
          "end_time": "2021-01-24T08:29:15.398363",
          "exception": false,
          "start_time": "2021-01-24T08:29:15.283377",
          "status": "completed"
        },
        "tags": [],
        "trusted": false,
        "id": "17DbFvZ2xAQq"
      },
      "cell_type": "code",
      "source": [
        "results(grid_ridge.cv_results_, n=40)"
      ],
      "execution_count": null,
      "outputs": []
    },
    {
      "metadata": {
        "execution": {
          "iopub.execute_input": "2021-01-24T08:29:15.557055Z",
          "iopub.status.busy": "2021-01-24T08:29:15.555996Z",
          "iopub.status.idle": "2021-01-24T08:29:15.560397Z",
          "shell.execute_reply": "2021-01-24T08:29:15.561039Z"
        },
        "papermill": {
          "duration": 0.086131,
          "end_time": "2021-01-24T08:29:15.561191",
          "exception": false,
          "start_time": "2021-01-24T08:29:15.47506",
          "status": "completed"
        },
        "tags": [],
        "trusted": false,
        "id": "tcPXDUwpxAQq"
      },
      "cell_type": "code",
      "source": [
        "best_params_ridge = {'alpha': 3.8000000000000003}"
      ],
      "execution_count": null,
      "outputs": []
    },
    {
      "metadata": {
        "papermill": {
          "duration": 0.076432,
          "end_time": "2021-01-24T08:29:15.72122",
          "exception": false,
          "start_time": "2021-01-24T08:29:15.644788",
          "status": "completed"
        },
        "tags": [],
        "id": "26qwPOCaxAQr"
      },
      "cell_type": "markdown",
      "source": [
        "### Lasso"
      ]
    },
    {
      "metadata": {
        "execution": {
          "iopub.execute_input": "2021-01-24T08:29:15.895975Z",
          "iopub.status.busy": "2021-01-24T08:29:15.894862Z",
          "iopub.status.idle": "2021-01-24T08:29:15.900194Z",
          "shell.execute_reply": "2021-01-24T08:29:15.90084Z"
        },
        "papermill": {
          "duration": 0.093797,
          "end_time": "2021-01-24T08:29:15.900997",
          "exception": false,
          "start_time": "2021-01-24T08:29:15.8072",
          "status": "completed"
        },
        "tags": [],
        "trusted": false,
        "id": "ewy45m8LxAQr"
      },
      "cell_type": "code",
      "source": [
        "param_grid_lasso = {'alpha': 0.0001 * np.arange(1, 100)}"
      ],
      "execution_count": null,
      "outputs": []
    },
    {
      "metadata": {
        "execution": {
          "iopub.execute_input": "2021-01-24T08:29:16.062296Z",
          "iopub.status.busy": "2021-01-24T08:29:16.061608Z",
          "iopub.status.idle": "2021-01-24T08:29:16.068695Z",
          "shell.execute_reply": "2021-01-24T08:29:16.069271Z"
        },
        "papermill": {
          "duration": 0.089073,
          "end_time": "2021-01-24T08:29:16.069412",
          "exception": false,
          "start_time": "2021-01-24T08:29:15.980339",
          "status": "completed"
        },
        "tags": [],
        "trusted": false,
        "id": "qwo_-HebxAQr"
      },
      "cell_type": "code",
      "source": [
        "grid_lasso = GridSearchCV(Lasso(), param_grid_lasso,\n",
        "                        cv=RepeatedKFold(n_splits=10, n_repeats=2, random_state=42),\n",
        "                              scoring='neg_root_mean_squared_error', verbose=2, n_jobs=-1)"
      ],
      "execution_count": null,
      "outputs": []
    },
    {
      "metadata": {
        "_kg_hide-output": true,
        "execution": {
          "iopub.execute_input": "2021-01-24T08:29:16.233337Z",
          "iopub.status.busy": "2021-01-24T08:29:16.231463Z",
          "iopub.status.idle": "2021-01-24T08:30:22.278897Z",
          "shell.execute_reply": "2021-01-24T08:30:22.277708Z"
        },
        "papermill": {
          "duration": 66.133516,
          "end_time": "2021-01-24T08:30:22.279056",
          "exception": false,
          "start_time": "2021-01-24T08:29:16.14554",
          "status": "completed"
        },
        "tags": [],
        "trusted": false,
        "id": "S0zqLe51xAQr"
      },
      "cell_type": "code",
      "source": [
        "grid_lasso.fit(X_train_fe, y_train)"
      ],
      "execution_count": null,
      "outputs": []
    },
    {
      "metadata": {
        "_kg_hide-output": true,
        "execution": {
          "iopub.execute_input": "2021-01-24T08:30:22.454749Z",
          "iopub.status.busy": "2021-01-24T08:30:22.449238Z",
          "iopub.status.idle": "2021-01-24T08:30:22.46839Z",
          "shell.execute_reply": "2021-01-24T08:30:22.467761Z"
        },
        "papermill": {
          "duration": 0.104732,
          "end_time": "2021-01-24T08:30:22.468518",
          "exception": false,
          "start_time": "2021-01-24T08:30:22.363786",
          "status": "completed"
        },
        "scrolled": true,
        "tags": [],
        "trusted": false,
        "id": "sIC_oKXnxAQr"
      },
      "cell_type": "code",
      "source": [
        "results(grid_lasso.cv_results_, n=40)"
      ],
      "execution_count": null,
      "outputs": []
    },
    {
      "metadata": {
        "execution": {
          "iopub.execute_input": "2021-01-24T08:30:22.631521Z",
          "iopub.status.busy": "2021-01-24T08:30:22.630634Z",
          "iopub.status.idle": "2021-01-24T08:30:22.633641Z",
          "shell.execute_reply": "2021-01-24T08:30:22.633097Z"
        },
        "papermill": {
          "duration": 0.086454,
          "end_time": "2021-01-24T08:30:22.633758",
          "exception": false,
          "start_time": "2021-01-24T08:30:22.547304",
          "status": "completed"
        },
        "tags": [],
        "trusted": false,
        "id": "cVltF9u9xAQs"
      },
      "cell_type": "code",
      "source": [
        "best_params_lasso = {'alpha': 0.0002}"
      ],
      "execution_count": null,
      "outputs": []
    },
    {
      "metadata": {
        "papermill": {
          "duration": 0.079353,
          "end_time": "2021-01-24T08:30:22.795174",
          "exception": false,
          "start_time": "2021-01-24T08:30:22.715821",
          "status": "completed"
        },
        "tags": [],
        "id": "JMoM6xIbxAQs"
      },
      "cell_type": "markdown",
      "source": [
        "### Elastic"
      ]
    },
    {
      "metadata": {
        "execution": {
          "iopub.execute_input": "2021-01-24T08:30:22.962563Z",
          "iopub.status.busy": "2021-01-24T08:30:22.961698Z",
          "iopub.status.idle": "2021-01-24T08:30:22.964702Z",
          "shell.execute_reply": "2021-01-24T08:30:22.964143Z"
        },
        "papermill": {
          "duration": 0.090176,
          "end_time": "2021-01-24T08:30:22.964824",
          "exception": false,
          "start_time": "2021-01-24T08:30:22.874648",
          "status": "completed"
        },
        "tags": [],
        "trusted": false,
        "id": "M8TVfPiwxAQs"
      },
      "cell_type": "code",
      "source": [
        "param_grid_elastic = {'alpha': [0.0001, 0.001, 0.01, 0.1, 0.5, 1, 5, 10],\n",
        "                      'l1_ratio':0.01 * np.arange(10)}"
      ],
      "execution_count": null,
      "outputs": []
    },
    {
      "metadata": {
        "execution": {
          "iopub.execute_input": "2021-01-24T08:30:23.128954Z",
          "iopub.status.busy": "2021-01-24T08:30:23.128228Z",
          "iopub.status.idle": "2021-01-24T08:30:23.131526Z",
          "shell.execute_reply": "2021-01-24T08:30:23.130993Z"
        },
        "papermill": {
          "duration": 0.087835,
          "end_time": "2021-01-24T08:30:23.131694",
          "exception": false,
          "start_time": "2021-01-24T08:30:23.043859",
          "status": "completed"
        },
        "tags": [],
        "trusted": false,
        "id": "bA3f5c2vxAQs"
      },
      "cell_type": "code",
      "source": [
        "grid_elastic = GridSearchCV(ElasticNet(), param_grid_elastic,\n",
        "                        cv=RepeatedKFold(n_splits=10, n_repeats=2, random_state=42),\n",
        "                              scoring='neg_root_mean_squared_error', verbose=2, n_jobs=-1)"
      ],
      "execution_count": null,
      "outputs": []
    },
    {
      "metadata": {
        "_kg_hide-output": true,
        "execution": {
          "iopub.execute_input": "2021-01-24T08:30:23.297932Z",
          "iopub.status.busy": "2021-01-24T08:30:23.296911Z",
          "iopub.status.idle": "2021-01-24T08:31:26.194274Z",
          "shell.execute_reply": "2021-01-24T08:31:26.194763Z"
        },
        "papermill": {
          "duration": 62.983956,
          "end_time": "2021-01-24T08:31:26.194917",
          "exception": false,
          "start_time": "2021-01-24T08:30:23.210961",
          "status": "completed"
        },
        "tags": [],
        "trusted": false,
        "id": "LXx5aP48xAQs"
      },
      "cell_type": "code",
      "source": [
        "grid_elastic.fit(X_train_fe, y_train)"
      ],
      "execution_count": null,
      "outputs": []
    },
    {
      "metadata": {
        "_kg_hide-output": true,
        "execution": {
          "iopub.execute_input": "2021-01-24T08:31:26.364074Z",
          "iopub.status.busy": "2021-01-24T08:31:26.363031Z",
          "iopub.status.idle": "2021-01-24T08:31:26.382759Z",
          "shell.execute_reply": "2021-01-24T08:31:26.383399Z"
        },
        "papermill": {
          "duration": 0.106764,
          "end_time": "2021-01-24T08:31:26.383538",
          "exception": false,
          "start_time": "2021-01-24T08:31:26.276774",
          "status": "completed"
        },
        "tags": [],
        "trusted": false,
        "id": "5pKC4FNixAQs"
      },
      "cell_type": "code",
      "source": [
        "results(grid_elastic.cv_results_, n=40)"
      ],
      "execution_count": null,
      "outputs": []
    },
    {
      "metadata": {
        "execution": {
          "iopub.execute_input": "2021-01-24T08:31:26.553612Z",
          "iopub.status.busy": "2021-01-24T08:31:26.552952Z",
          "iopub.status.idle": "2021-01-24T08:31:26.555123Z",
          "shell.execute_reply": "2021-01-24T08:31:26.555662Z"
        },
        "papermill": {
          "duration": 0.089473,
          "end_time": "2021-01-24T08:31:26.555809",
          "exception": false,
          "start_time": "2021-01-24T08:31:26.466336",
          "status": "completed"
        },
        "tags": [],
        "trusted": false,
        "id": "ke8txNuMxAQs"
      },
      "cell_type": "code",
      "source": [
        "best_params_elastic = {'alpha': 0.001, 'l1_ratio': 0.09}"
      ],
      "execution_count": null,
      "outputs": []
    },
    {
      "metadata": {
        "papermill": {
          "duration": 0.081995,
          "end_time": "2021-01-24T08:31:26.720157",
          "exception": false,
          "start_time": "2021-01-24T08:31:26.638162",
          "status": "completed"
        },
        "tags": [],
        "id": "VLSq6T5sxAQs"
      },
      "cell_type": "markdown",
      "source": [
        "### SVR"
      ]
    },
    {
      "metadata": {
        "execution": {
          "iopub.execute_input": "2021-01-24T08:31:26.887335Z",
          "iopub.status.busy": "2021-01-24T08:31:26.886682Z",
          "iopub.status.idle": "2021-01-24T08:31:26.892089Z",
          "shell.execute_reply": "2021-01-24T08:31:26.892649Z"
        },
        "papermill": {
          "duration": 0.090371,
          "end_time": "2021-01-24T08:31:26.892793",
          "exception": false,
          "start_time": "2021-01-24T08:31:26.802422",
          "status": "completed"
        },
        "tags": [],
        "trusted": false,
        "id": "btSz_mx9xAQs"
      },
      "cell_type": "code",
      "source": [
        "param_grid_svr = {'kernel': ['rbf'],\n",
        "                  'degree':[1],\n",
        "                  'epsilon':[0.001, 0.01, 0.008, 0.013],\n",
        "                  'C':[0.1, 0.5, 1,  20, 25],\n",
        "                  'gamma':[0.0004, 0.0006, 0.0007, 0.0008]}"
      ],
      "execution_count": null,
      "outputs": []
    },
    {
      "metadata": {
        "execution": {
          "iopub.execute_input": "2021-01-24T08:31:27.062467Z",
          "iopub.status.busy": "2021-01-24T08:31:27.061697Z",
          "iopub.status.idle": "2021-01-24T08:31:27.066885Z",
          "shell.execute_reply": "2021-01-24T08:31:27.067412Z"
        },
        "papermill": {
          "duration": 0.091572,
          "end_time": "2021-01-24T08:31:27.067557",
          "exception": false,
          "start_time": "2021-01-24T08:31:26.975985",
          "status": "completed"
        },
        "scrolled": true,
        "tags": [],
        "trusted": false,
        "id": "NalRFwX5xAQs"
      },
      "cell_type": "code",
      "source": [
        "grid_svr = GridSearchCV(SVR(), param_grid_svr,\n",
        "                        cv=RepeatedKFold(n_splits=10, n_repeats=2, random_state=42),\n",
        "                              scoring='neg_root_mean_squared_error', verbose=2, n_jobs=-1)"
      ],
      "execution_count": null,
      "outputs": []
    },
    {
      "metadata": {
        "_kg_hide-output": true,
        "execution": {
          "iopub.execute_input": "2021-01-24T08:31:27.236323Z",
          "iopub.status.busy": "2021-01-24T08:31:27.235638Z",
          "iopub.status.idle": "2021-01-24T08:36:35.539191Z",
          "shell.execute_reply": "2021-01-24T08:36:35.538635Z"
        },
        "papermill": {
          "duration": 308.389248,
          "end_time": "2021-01-24T08:36:35.539313",
          "exception": false,
          "start_time": "2021-01-24T08:31:27.150065",
          "status": "completed"
        },
        "tags": [],
        "trusted": false,
        "id": "WAqZsBFdxAQs"
      },
      "cell_type": "code",
      "source": [
        "grid_svr.fit(X_train_fe, y_train)"
      ],
      "execution_count": null,
      "outputs": []
    },
    {
      "metadata": {
        "_kg_hide-output": true,
        "execution": {
          "iopub.execute_input": "2021-01-24T08:36:35.731716Z",
          "iopub.status.busy": "2021-01-24T08:36:35.730493Z",
          "iopub.status.idle": "2021-01-24T08:36:35.743369Z",
          "shell.execute_reply": "2021-01-24T08:36:35.742142Z"
        },
        "papermill": {
          "duration": 0.116946,
          "end_time": "2021-01-24T08:36:35.743579",
          "exception": false,
          "start_time": "2021-01-24T08:36:35.626633",
          "status": "completed"
        },
        "tags": [],
        "trusted": false,
        "id": "9zvacHuqxAQs"
      },
      "cell_type": "code",
      "source": [
        "results(grid_svr.cv_results_, n=60)"
      ],
      "execution_count": null,
      "outputs": []
    },
    {
      "metadata": {
        "execution": {
          "iopub.execute_input": "2021-01-24T08:36:35.930724Z",
          "iopub.status.busy": "2021-01-24T08:36:35.929899Z",
          "iopub.status.idle": "2021-01-24T08:36:54.100574Z",
          "shell.execute_reply": "2021-01-24T08:36:54.101197Z"
        },
        "papermill": {
          "duration": 18.267097,
          "end_time": "2021-01-24T08:36:54.10138",
          "exception": false,
          "start_time": "2021-01-24T08:36:35.834283",
          "status": "completed"
        },
        "tags": [],
        "trusted": false,
        "id": "Vg9ANja9xAQs"
      },
      "cell_type": "code",
      "source": [
        "regularized_params = ('Regularized Model', {'C': 1, 'degree': 1, 'epsilon': 0.013, 'gamma': 0.0008, 'kernel': 'rbf'} )\n",
        "best_params = ('Best Model from Grid Search', {'C': 25, 'degree': 1, 'epsilon': 0.008, 'gamma': 0.0004, 'kernel': 'rbf'})\n",
        "learning_curve_plotter(SVR, X_train_fe, y_train, regularized_params, best_params)"
      ],
      "execution_count": null,
      "outputs": []
    },
    {
      "metadata": {
        "papermill": {
          "duration": 0.089639,
          "end_time": "2021-01-24T08:36:54.284283",
          "exception": false,
          "start_time": "2021-01-24T08:36:54.194644",
          "status": "completed"
        },
        "tags": [],
        "id": "O1LHfQipxAQs"
      },
      "cell_type": "markdown",
      "source": [
        "Best model looks good, the difference between training loss and validation loss for both of them is equal, plus regularized model is underfitting the data, so lets go with The best model!!"
      ]
    },
    {
      "metadata": {
        "execution": {
          "iopub.execute_input": "2021-01-24T08:36:54.474536Z",
          "iopub.status.busy": "2021-01-24T08:36:54.47191Z",
          "iopub.status.idle": "2021-01-24T08:36:54.476661Z",
          "shell.execute_reply": "2021-01-24T08:36:54.477167Z"
        },
        "papermill": {
          "duration": 0.100239,
          "end_time": "2021-01-24T08:36:54.477324",
          "exception": false,
          "start_time": "2021-01-24T08:36:54.377085",
          "status": "completed"
        },
        "tags": [],
        "trusted": false,
        "id": "klZAGUX2xAQt"
      },
      "cell_type": "code",
      "source": [
        "best_params_svr = {'C': 25, 'degree': 1, 'epsilon': 0.008, 'gamma': 0.0004, 'kernel': 'rbf'}"
      ],
      "execution_count": null,
      "outputs": []
    },
    {
      "metadata": {
        "papermill": {
          "duration": 0.091603,
          "end_time": "2021-01-24T08:36:54.662373",
          "exception": false,
          "start_time": "2021-01-24T08:36:54.57077",
          "status": "completed"
        },
        "tags": [],
        "id": "_e7fzUvQxAQt"
      },
      "cell_type": "markdown",
      "source": [
        "### ExtraTreesRegressor"
      ]
    },
    {
      "metadata": {
        "papermill": {
          "duration": 0.095099,
          "end_time": "2021-01-24T08:36:54.85003",
          "exception": false,
          "start_time": "2021-01-24T08:36:54.754931",
          "status": "completed"
        },
        "tags": [],
        "id": "wAKdjyzfxAQt"
      },
      "cell_type": "markdown",
      "source": [
        "create a regularized model with params such as max depth, max features and max samples, then start tweeking the estimators."
      ]
    },
    {
      "metadata": {
        "_kg_hide-input": false,
        "execution": {
          "iopub.execute_input": "2021-01-24T08:36:55.043739Z",
          "iopub.status.busy": "2021-01-24T08:36:55.042608Z",
          "iopub.status.idle": "2021-01-24T08:55:33.779654Z",
          "shell.execute_reply": "2021-01-24T08:55:33.778913Z"
        },
        "papermill": {
          "duration": 1118.834283,
          "end_time": "2021-01-24T08:55:33.779781",
          "exception": false,
          "start_time": "2021-01-24T08:36:54.945498",
          "status": "completed"
        },
        "tags": [],
        "trusted": false,
        "id": "4lczGWZsxAQt"
      },
      "cell_type": "code",
      "source": [
        "parameter_plot(ExtraTreesRegressor, X_train_fe, y_train, hyper_param=('max_depth', [3, 5, 7, 11, 13, 15, None]))"
      ],
      "execution_count": null,
      "outputs": []
    },
    {
      "metadata": {
        "execution": {
          "iopub.execute_input": "2021-01-24T08:55:33.975832Z",
          "iopub.status.busy": "2021-01-24T08:55:33.974813Z",
          "iopub.status.idle": "2021-01-24T08:55:33.982068Z",
          "shell.execute_reply": "2021-01-24T08:55:33.981486Z"
        },
        "papermill": {
          "duration": 0.107368,
          "end_time": "2021-01-24T08:55:33.982185",
          "exception": false,
          "start_time": "2021-01-24T08:55:33.874817",
          "status": "completed"
        },
        "tags": [],
        "trusted": false,
        "id": "4-qtCn0PxAQt"
      },
      "cell_type": "code",
      "source": [
        "param_grid_extra = {'max_depth': [8, 11],\n",
        "                    'max_samples':[0.6, 0.8, None],\n",
        "                    'max_features':[0.5, 0.8, None],\n",
        "                    'n_estimators': [200, 600, 1000]}"
      ],
      "execution_count": null,
      "outputs": []
    },
    {
      "metadata": {
        "execution": {
          "iopub.execute_input": "2021-01-24T08:55:34.171699Z",
          "iopub.status.busy": "2021-01-24T08:55:34.170964Z",
          "iopub.status.idle": "2021-01-24T08:55:34.176817Z",
          "shell.execute_reply": "2021-01-24T08:55:34.176259Z"
        },
        "papermill": {
          "duration": 0.101226,
          "end_time": "2021-01-24T08:55:34.176932",
          "exception": false,
          "start_time": "2021-01-24T08:55:34.075706",
          "status": "completed"
        },
        "tags": [],
        "trusted": false,
        "id": "2kzHznRbxAQt"
      },
      "cell_type": "code",
      "source": [
        "grid_extra = GridSearchCV(ExtraTreesRegressor(), param_grid_extra,\n",
        "                        cv=RepeatedKFold(n_splits=10, n_repeats=2, random_state=42),\n",
        "                              scoring='neg_root_mean_squared_error', verbose=2, n_jobs=-1)"
      ],
      "execution_count": null,
      "outputs": []
    },
    {
      "metadata": {
        "_kg_hide-output": true,
        "execution": {
          "iopub.execute_input": "2021-01-24T08:55:34.370035Z",
          "iopub.status.busy": "2021-01-24T08:55:34.369254Z",
          "iopub.status.idle": "2021-01-24T09:39:16.121117Z",
          "shell.execute_reply": "2021-01-24T09:39:16.121789Z"
        },
        "papermill": {
          "duration": 2621.852152,
          "end_time": "2021-01-24T09:39:16.12196",
          "exception": false,
          "start_time": "2021-01-24T08:55:34.269808",
          "status": "completed"
        },
        "tags": [],
        "trusted": false,
        "id": "VWPpRSH9xAQt"
      },
      "cell_type": "code",
      "source": [
        "grid_extra.fit(X_train_fe, y_train)"
      ],
      "execution_count": null,
      "outputs": []
    },
    {
      "metadata": {
        "_kg_hide-output": true,
        "execution": {
          "iopub.execute_input": "2021-01-24T09:39:16.336057Z",
          "iopub.status.busy": "2021-01-24T09:39:16.334986Z",
          "iopub.status.idle": "2021-01-24T09:39:16.343204Z",
          "shell.execute_reply": "2021-01-24T09:39:16.3425Z"
        },
        "papermill": {
          "duration": 0.123654,
          "end_time": "2021-01-24T09:39:16.343315",
          "exception": false,
          "start_time": "2021-01-24T09:39:16.219661",
          "status": "completed"
        },
        "tags": [],
        "trusted": false,
        "id": "jUTREcR4xAQt"
      },
      "cell_type": "code",
      "source": [
        "results(grid_extra.cv_results_, n=40)"
      ],
      "execution_count": null,
      "outputs": []
    },
    {
      "metadata": {
        "execution": {
          "iopub.execute_input": "2021-01-24T09:39:16.57422Z",
          "iopub.status.busy": "2021-01-24T09:39:16.573495Z",
          "iopub.status.idle": "2021-01-24T09:42:04.343359Z",
          "shell.execute_reply": "2021-01-24T09:42:04.343921Z"
        },
        "papermill": {
          "duration": 167.885936,
          "end_time": "2021-01-24T09:42:04.34409",
          "exception": false,
          "start_time": "2021-01-24T09:39:16.458154",
          "status": "completed"
        },
        "tags": [],
        "trusted": false,
        "id": "vK3QBilNxAQt"
      },
      "cell_type": "code",
      "source": [
        "regularized_params = ('Regularized Model', {'max_depth': 8, 'max_features': 0.5, 'max_samples': 0.8, 'n_estimators': 200} )\n",
        "best_params = ('Best Model from Grid Search', {'max_depth': 11, 'max_features': 0.5, 'max_samples': None, 'n_estimators': 1000})\n",
        "learning_curve_plotter(ExtraTreesRegressor, X_train_fe, y_train, regularized_params, best_params)"
      ],
      "execution_count": null,
      "outputs": []
    },
    {
      "metadata": {
        "papermill": {
          "duration": 0.098297,
          "end_time": "2021-01-24T09:42:04.541007",
          "exception": false,
          "start_time": "2021-01-24T09:42:04.44271",
          "status": "completed"
        },
        "tags": [],
        "id": "xu9VwtNAxAQt"
      },
      "cell_type": "markdown",
      "source": [
        "This looks tricky, both models are horribly overfitting the training data, regularized model is a little better but the difference between the too model is not great, we will have to test both of them to find out which one works the best."
      ]
    },
    {
      "metadata": {
        "execution": {
          "iopub.execute_input": "2021-01-24T09:42:04.743932Z",
          "iopub.status.busy": "2021-01-24T09:42:04.742882Z",
          "iopub.status.idle": "2021-01-24T09:42:04.747754Z",
          "shell.execute_reply": "2021-01-24T09:42:04.748313Z"
        },
        "papermill": {
          "duration": 0.107976,
          "end_time": "2021-01-24T09:42:04.74845",
          "exception": false,
          "start_time": "2021-01-24T09:42:04.640474",
          "status": "completed"
        },
        "tags": [],
        "trusted": false,
        "id": "ddHG7qk4xAQt"
      },
      "cell_type": "code",
      "source": [
        "best_params_extra = {'max_depth': 8, 'max_features': 0.5, 'max_samples': 0.8, 'n_estimators': 200}"
      ],
      "execution_count": null,
      "outputs": []
    },
    {
      "metadata": {
        "papermill": {
          "duration": 0.0985,
          "end_time": "2021-01-24T09:42:04.945842",
          "exception": false,
          "start_time": "2021-01-24T09:42:04.847342",
          "status": "completed"
        },
        "tags": [],
        "id": "VxxZYqjqxAQt"
      },
      "cell_type": "markdown",
      "source": [
        "### RandomForestRegressor"
      ]
    },
    {
      "metadata": {
        "execution": {
          "iopub.execute_input": "2021-01-24T09:42:05.150863Z",
          "iopub.status.busy": "2021-01-24T09:42:05.149841Z",
          "iopub.status.idle": "2021-01-24T10:10:50.263608Z",
          "shell.execute_reply": "2021-01-24T10:10:50.262909Z"
        },
        "papermill": {
          "duration": 1725.219845,
          "end_time": "2021-01-24T10:10:50.263725",
          "exception": false,
          "start_time": "2021-01-24T09:42:05.04388",
          "status": "completed"
        },
        "tags": [],
        "trusted": false,
        "id": "g4XyYzEJxAQt"
      },
      "cell_type": "code",
      "source": [
        "parameter_plot(RandomForestRegressor, X_train_fe, y_train, hyper_param=('max_depth', [3, 5, 7, 11, 13, 15, None]))"
      ],
      "execution_count": null,
      "outputs": []
    },
    {
      "metadata": {
        "execution": {
          "iopub.execute_input": "2021-01-24T10:10:50.474272Z",
          "iopub.status.busy": "2021-01-24T10:10:50.47364Z",
          "iopub.status.idle": "2021-01-24T10:10:50.476412Z",
          "shell.execute_reply": "2021-01-24T10:10:50.475878Z"
        },
        "papermill": {
          "duration": 0.110383,
          "end_time": "2021-01-24T10:10:50.476519",
          "exception": false,
          "start_time": "2021-01-24T10:10:50.366136",
          "status": "completed"
        },
        "tags": [],
        "trusted": false,
        "id": "Yn9fMmDJxAQt"
      },
      "cell_type": "code",
      "source": [
        "param_grid_random = {'max_depth': [8, 11],\n",
        "                     'max_samples':[0.6, 0.8, None],\n",
        "                     'max_features':[0.5, 0.7, None],\n",
        "                    'n_estimators': [200, 500, 1000]}"
      ],
      "execution_count": null,
      "outputs": []
    },
    {
      "metadata": {
        "execution": {
          "iopub.execute_input": "2021-01-24T10:10:50.687279Z",
          "iopub.status.busy": "2021-01-24T10:10:50.686207Z",
          "iopub.status.idle": "2021-01-24T10:10:50.691538Z",
          "shell.execute_reply": "2021-01-24T10:10:50.692075Z"
        },
        "papermill": {
          "duration": 0.112534,
          "end_time": "2021-01-24T10:10:50.692224",
          "exception": false,
          "start_time": "2021-01-24T10:10:50.57969",
          "status": "completed"
        },
        "tags": [],
        "trusted": false,
        "id": "4mcJS_nOxAQt"
      },
      "cell_type": "code",
      "source": [
        "grid_random = GridSearchCV(RandomForestRegressor(), param_grid_random,\n",
        "                        cv=RepeatedKFold(n_splits=10, n_repeats=2, random_state=42),\n",
        "                              scoring='neg_root_mean_squared_error', verbose=2, n_jobs=-1)"
      ],
      "execution_count": null,
      "outputs": []
    },
    {
      "metadata": {
        "_kg_hide-output": true,
        "execution": {
          "iopub.execute_input": "2021-01-24T10:10:50.901955Z",
          "iopub.status.busy": "2021-01-24T10:10:50.900777Z",
          "iopub.status.idle": "2021-01-24T11:10:10.341866Z",
          "shell.execute_reply": "2021-01-24T11:10:10.342525Z"
        },
        "papermill": {
          "duration": 3559.547305,
          "end_time": "2021-01-24T11:10:10.342701",
          "exception": false,
          "start_time": "2021-01-24T10:10:50.795396",
          "status": "completed"
        },
        "tags": [],
        "trusted": false,
        "id": "ag7TBEYsxAQt"
      },
      "cell_type": "code",
      "source": [
        "grid_random.fit(X_train_fe, y_train)"
      ],
      "execution_count": null,
      "outputs": []
    },
    {
      "metadata": {
        "_kg_hide-output": true,
        "execution": {
          "iopub.execute_input": "2021-01-24T11:10:10.55892Z",
          "iopub.status.busy": "2021-01-24T11:10:10.557891Z",
          "iopub.status.idle": "2021-01-24T11:10:10.576035Z",
          "shell.execute_reply": "2021-01-24T11:10:10.575336Z"
        },
        "papermill": {
          "duration": 0.127028,
          "end_time": "2021-01-24T11:10:10.576158",
          "exception": false,
          "start_time": "2021-01-24T11:10:10.44913",
          "status": "completed"
        },
        "tags": [],
        "trusted": false,
        "id": "kbd195RpxAQu"
      },
      "cell_type": "code",
      "source": [
        "results(grid_random.cv_results_, n=40)"
      ],
      "execution_count": null,
      "outputs": []
    },
    {
      "metadata": {
        "execution": {
          "iopub.execute_input": "2021-01-24T11:10:10.803818Z",
          "iopub.status.busy": "2021-01-24T11:10:10.802689Z",
          "iopub.status.idle": "2021-01-24T11:14:36.032064Z",
          "shell.execute_reply": "2021-01-24T11:14:36.03265Z"
        },
        "papermill": {
          "duration": 265.348554,
          "end_time": "2021-01-24T11:14:36.032815",
          "exception": false,
          "start_time": "2021-01-24T11:10:10.684261",
          "status": "completed"
        },
        "tags": [],
        "trusted": false,
        "id": "OD4mJ-lTxAQu"
      },
      "cell_type": "code",
      "source": [
        "regularized_params = ('Regularized Model', {'max_depth': 8, 'max_features': 0.5, 'max_samples': 0.8, 'n_estimators': 1000} )\n",
        "best_params = ('Best Model from Grid Search', {'max_depth': 11, 'max_features': 0.5, 'max_samples': None, 'n_estimators': 500})\n",
        "learning_curve_plotter(RandomForestRegressor, X_train_fe, y_train, regularized_params, best_params)"
      ],
      "execution_count": null,
      "outputs": []
    },
    {
      "metadata": {
        "papermill": {
          "duration": 0.130989,
          "end_time": "2021-01-24T11:14:36.273258",
          "exception": false,
          "start_time": "2021-01-24T11:14:36.142269",
          "status": "completed"
        },
        "tags": [],
        "id": "saK_StO7xAQu"
      },
      "cell_type": "markdown",
      "source": [
        "RandomForestRegressor has the same problem with the ExtraTreesRegressor."
      ]
    },
    {
      "metadata": {
        "execution": {
          "iopub.execute_input": "2021-01-24T11:14:36.496086Z",
          "iopub.status.busy": "2021-01-24T11:14:36.495073Z",
          "iopub.status.idle": "2021-01-24T11:14:36.498297Z",
          "shell.execute_reply": "2021-01-24T11:14:36.49779Z"
        },
        "papermill": {
          "duration": 0.116691,
          "end_time": "2021-01-24T11:14:36.498406",
          "exception": false,
          "start_time": "2021-01-24T11:14:36.381715",
          "status": "completed"
        },
        "tags": [],
        "trusted": false,
        "id": "oejNgbqRxAQu"
      },
      "cell_type": "code",
      "source": [
        "best_params_random = {'max_depth': 8, 'max_features': 0.5, 'max_samples': 0.8, 'n_estimators': 1000}"
      ],
      "execution_count": null,
      "outputs": []
    },
    {
      "metadata": {
        "papermill": {
          "duration": 0.134272,
          "end_time": "2021-01-24T11:14:36.744309",
          "exception": false,
          "start_time": "2021-01-24T11:14:36.610037",
          "status": "completed"
        },
        "tags": [],
        "id": "72Nbqo_9xAQu"
      },
      "cell_type": "markdown",
      "source": [
        "### Finding the diminishing returns point\n",
        "\n",
        "For a given data set there will be a point for a given a set of parameters after which gradient boosted algorithms will stop\n",
        "experiencing substantial amount of decrease in loss with increase in number of estimators, if you still train the model after\n",
        "that point you may experience some decrease in loss but the model will overfit the training data and you will not achieve\n",
        "generalized result in final test set.\n",
        "\n",
        "in the function below we will first grid search the learning rate with default n_estimators as provided in function params.\n",
        "then we will use the best learning rate hence found to find the best max_depth param.\n",
        "\n",
        "we have already set **subsample = 0.5**, this is because for gradient boosting having subsample from 0.4 - 0.6 is usually is always\n",
        "better than no subsampling.\n",
        "\n",
        "this will give us a idea about gradient boosting as applied to our present dataset and will allow us to avoid overfitting\n",
        "and achieve the best possible loss before we hit the point of diminishing returns"
      ]
    },
    {
      "metadata": {
        "papermill": {
          "duration": 0.108793,
          "end_time": "2021-01-24T11:14:36.994788",
          "exception": false,
          "start_time": "2021-01-24T11:14:36.885995",
          "status": "completed"
        },
        "tags": [],
        "id": "vaqi4E9KxAQu"
      },
      "cell_type": "markdown",
      "source": [
        "### GradientBoostingRegressor"
      ]
    },
    {
      "metadata": {
        "execution": {
          "iopub.execute_input": "2021-01-24T11:14:37.221424Z",
          "iopub.status.busy": "2021-01-24T11:14:37.220348Z",
          "iopub.status.idle": "2021-01-24T11:31:08.808386Z",
          "shell.execute_reply": "2021-01-24T11:31:08.808904Z"
        },
        "papermill": {
          "duration": 991.704786,
          "end_time": "2021-01-24T11:31:08.809083",
          "exception": false,
          "start_time": "2021-01-24T11:14:37.104297",
          "status": "completed"
        },
        "tags": [],
        "trusted": false,
        "id": "BLKlTlq4xAQu"
      },
      "cell_type": "code",
      "source": [
        "parameter_plot(GradientBoostingRegressor, X_train_fe, y_train, hyper_param=('max_depth', [3, 4, 5, 6, 7]))"
      ],
      "execution_count": null,
      "outputs": []
    },
    {
      "metadata": {
        "papermill": {
          "duration": 0.111092,
          "end_time": "2021-01-24T11:31:09.034193",
          "exception": false,
          "start_time": "2021-01-24T11:31:08.923101",
          "status": "completed"
        },
        "tags": [],
        "id": "6SB2WSMQxAQu"
      },
      "cell_type": "markdown",
      "source": [
        "from the plot above we can see that the higher learning rates reach the point of diminishing returns quickly and after that as observed in the case of 0.03 and 0.05, loss starts to increase. 0.1 is behaving erratically!!\n",
        "so the learning rate for our model should be searched in range 0.015 - 0.025 and i would search with trees ranging from 350 - 650"
      ]
    },
    {
      "metadata": {
        "papermill": {
          "duration": 0.118409,
          "end_time": "2021-01-24T11:31:09.263784",
          "exception": false,
          "start_time": "2021-01-24T11:31:09.145375",
          "status": "completed"
        },
        "tags": [],
        "id": "Arem-1xLxAQu"
      },
      "cell_type": "markdown",
      "source": [
        "Once you decide on what learning rate to choose, pass it to the function and it will be get caught by kwargs and passed to model in gridsearch.  "
      ]
    },
    {
      "metadata": {
        "execution": {
          "iopub.execute_input": "2021-01-24T11:31:09.522843Z",
          "iopub.status.busy": "2021-01-24T11:31:09.521541Z",
          "iopub.status.idle": "2021-01-24T11:37:31.593243Z",
          "shell.execute_reply": "2021-01-24T11:37:31.592531Z"
        },
        "papermill": {
          "duration": 382.201815,
          "end_time": "2021-01-24T11:37:31.59336",
          "exception": false,
          "start_time": "2021-01-24T11:31:09.391545",
          "status": "completed"
        },
        "scrolled": false,
        "tags": [],
        "trusted": false,
        "id": "yiZBQqIXxAQu"
      },
      "cell_type": "code",
      "source": [
        "parameter_plot(GradientBoostingRegressor, X_train_fe, y_train,\n",
        "               n_estimators=[100, 250, 400, 600, 1000],\n",
        "               hyper_param=('learning_rate', [0.01, 0.02, 0.04, 0.07, 0.1]),\n",
        "               max_depth=3)"
      ],
      "execution_count": null,
      "outputs": []
    },
    {
      "metadata": {
        "papermill": {
          "duration": 0.115413,
          "end_time": "2021-01-24T11:37:31.824639",
          "exception": false,
          "start_time": "2021-01-24T11:37:31.709226",
          "status": "completed"
        },
        "tags": [],
        "id": "Sz7WXSrpxAQu"
      },
      "cell_type": "markdown",
      "source": [
        "Grid searching depth 3 and 4 would be best..."
      ]
    },
    {
      "metadata": {
        "papermill": {
          "duration": 0.116451,
          "end_time": "2021-01-24T11:37:32.056424",
          "exception": false,
          "start_time": "2021-01-24T11:37:31.939973",
          "status": "completed"
        },
        "tags": [],
        "id": "3XoVKwGbxAQu"
      },
      "cell_type": "markdown",
      "source": [
        "The above exercise was done so that we could understand our gradient boosting models dealing with the data set at hand... now we can narrow down our search with facing least overfitting"
      ]
    },
    {
      "metadata": {
        "execution": {
          "iopub.execute_input": "2021-01-24T11:37:32.292637Z",
          "iopub.status.busy": "2021-01-24T11:37:32.291642Z",
          "iopub.status.idle": "2021-01-24T11:37:32.294552Z",
          "shell.execute_reply": "2021-01-24T11:37:32.293902Z"
        },
        "papermill": {
          "duration": 0.12319,
          "end_time": "2021-01-24T11:37:32.294712",
          "exception": false,
          "start_time": "2021-01-24T11:37:32.171522",
          "status": "completed"
        },
        "tags": [],
        "trusted": false,
        "id": "ZvBRCh7VxAQu"
      },
      "cell_type": "code",
      "source": [
        "param_grid_gradient = {'n_estimators':[250, 400, 600],\n",
        "                       'learning_rate':[0.035, 0.05],\n",
        "                       'subsample':[0.5, 0.7],\n",
        "                       'max_depth':[3],\n",
        "                       'max_features':[0.5, 0.7]\n",
        "                       }"
      ],
      "execution_count": null,
      "outputs": []
    },
    {
      "metadata": {
        "execution": {
          "iopub.execute_input": "2021-01-24T11:37:32.527681Z",
          "iopub.status.busy": "2021-01-24T11:37:32.527Z",
          "iopub.status.idle": "2021-01-24T11:37:32.532444Z",
          "shell.execute_reply": "2021-01-24T11:37:32.533119Z"
        },
        "papermill": {
          "duration": 0.123815,
          "end_time": "2021-01-24T11:37:32.533249",
          "exception": false,
          "start_time": "2021-01-24T11:37:32.409434",
          "status": "completed"
        },
        "tags": [],
        "trusted": false,
        "id": "a2eagEkDxAQu"
      },
      "cell_type": "code",
      "source": [
        "grid_gradient = GridSearchCV(GradientBoostingRegressor(), param_grid_gradient,\n",
        "                        cv=RepeatedKFold(n_splits=10, n_repeats=2, random_state=42),\n",
        "                              scoring='neg_root_mean_squared_error', verbose=2, n_jobs=-1)"
      ],
      "execution_count": null,
      "outputs": []
    },
    {
      "metadata": {
        "_kg_hide-output": true,
        "execution": {
          "iopub.execute_input": "2021-01-24T11:37:32.766023Z",
          "iopub.status.busy": "2021-01-24T11:37:32.765396Z",
          "iopub.status.idle": "2021-01-24T11:43:07.251845Z",
          "shell.execute_reply": "2021-01-24T11:43:07.252358Z"
        },
        "papermill": {
          "duration": 334.604599,
          "end_time": "2021-01-24T11:43:07.252499",
          "exception": false,
          "start_time": "2021-01-24T11:37:32.6479",
          "status": "completed"
        },
        "tags": [],
        "trusted": false,
        "id": "uyd13kTdxAQu"
      },
      "cell_type": "code",
      "source": [
        "grid_gradient.fit(X_train_fe, y_train)"
      ],
      "execution_count": null,
      "outputs": []
    },
    {
      "metadata": {
        "_kg_hide-output": true,
        "execution": {
          "iopub.execute_input": "2021-01-24T11:43:07.502449Z",
          "iopub.status.busy": "2021-01-24T11:43:07.501811Z",
          "iopub.status.idle": "2021-01-24T11:43:07.51341Z",
          "shell.execute_reply": "2021-01-24T11:43:07.512742Z"
        },
        "papermill": {
          "duration": 0.140287,
          "end_time": "2021-01-24T11:43:07.51352",
          "exception": false,
          "start_time": "2021-01-24T11:43:07.373233",
          "status": "completed"
        },
        "tags": [],
        "trusted": false,
        "id": "qXDLr5YnxAQv"
      },
      "cell_type": "code",
      "source": [
        "results(grid_gradient.cv_results_, n=40)"
      ],
      "execution_count": null,
      "outputs": []
    },
    {
      "metadata": {
        "execution": {
          "iopub.execute_input": "2021-01-24T11:43:07.766976Z",
          "iopub.status.busy": "2021-01-24T11:43:07.765899Z",
          "iopub.status.idle": "2021-01-24T11:44:02.28844Z",
          "shell.execute_reply": "2021-01-24T11:44:02.289001Z"
        },
        "papermill": {
          "duration": 54.653595,
          "end_time": "2021-01-24T11:44:02.289157",
          "exception": false,
          "start_time": "2021-01-24T11:43:07.635562",
          "status": "completed"
        },
        "tags": [],
        "trusted": false,
        "id": "C36wL9X4xAQv"
      },
      "cell_type": "code",
      "source": [
        "regularized_params = ('Regularized Model', {'learning_rate': 0.035, 'max_depth': 3, 'max_features': 0.5,\n",
        "                                            'n_estimators': 400, 'subsample': 0.7} )\n",
        "best_params = ('Best Model from Grid Search', {'learning_rate': 0.035, 'max_depth': 3, 'max_features': 0.5,\n",
        "                                               'n_estimators': 600, 'subsample': 0.5})\n",
        "learning_curve_plotter(GradientBoostingRegressor, X_train_fe, y_train, regularized_params, best_params)"
      ],
      "execution_count": null,
      "outputs": []
    },
    {
      "metadata": {
        "papermill": {
          "duration": 0.121729,
          "end_time": "2021-01-24T11:44:02.530973",
          "exception": false,
          "start_time": "2021-01-24T11:44:02.409244",
          "status": "completed"
        },
        "tags": [],
        "id": "W6JH-uIGxAQv"
      },
      "cell_type": "markdown",
      "source": [
        "Again, overfitting is present in both models, but in regularized model it is not as severe as in the Best model."
      ]
    },
    {
      "metadata": {
        "execution": {
          "iopub.execute_input": "2021-01-24T11:44:02.774475Z",
          "iopub.status.busy": "2021-01-24T11:44:02.773343Z",
          "iopub.status.idle": "2021-01-24T11:44:02.778396Z",
          "shell.execute_reply": "2021-01-24T11:44:02.778957Z"
        },
        "papermill": {
          "duration": 0.128585,
          "end_time": "2021-01-24T11:44:02.779102",
          "exception": false,
          "start_time": "2021-01-24T11:44:02.650517",
          "status": "completed"
        },
        "tags": [],
        "trusted": false,
        "id": "W_Ndw5XKxAQv"
      },
      "cell_type": "code",
      "source": [
        "best_params_gradient = {'learning_rate': 0.035, 'max_depth': 3, 'max_features': 0.5,\n",
        "                                            'n_estimators': 400, 'subsample': 0.7}"
      ],
      "execution_count": null,
      "outputs": []
    },
    {
      "metadata": {
        "papermill": {
          "duration": 0.124843,
          "end_time": "2021-01-24T11:44:03.025472",
          "exception": false,
          "start_time": "2021-01-24T11:44:02.900629",
          "status": "completed"
        },
        "tags": [],
        "id": "_vxQKJJ_xAQv"
      },
      "cell_type": "markdown",
      "source": [
        "### XGBRegressor"
      ]
    },
    {
      "metadata": {
        "id": "1BmmUzBcxAQv"
      },
      "cell_type": "markdown",
      "source": [
        "To work with Optuna you have to follow the following guideline:\n",
        "* Make a objective function, this function will return the value wish to optimize.. in our case it will be the RMSLE loss.\n",
        "* create a **study** using **`optuna.create_study(direction='minimize')`**, will use direction=minimize because we wish to minimize the loss which is RMSLE.\n",
        "* Finally enjoy looking at optuna optimizing your loss!!\n",
        "\n",
        "Thats is it, optuna makes it so simple to optimize the parameters."
      ]
    },
    {
      "metadata": {
        "trusted": false,
        "id": "KPdz-RKUxAQv"
      },
      "cell_type": "code",
      "source": [
        "def objective(trial, X, y):\n",
        "\n",
        "    params = {'n_estimators':2000,\n",
        "              # trail.suggest_unifrom() allows to pick out any value between the given range, values will be continuous and\n",
        "              # not just integers.\n",
        "              'learning_rate':trial.suggest_uniform('learning_rate', 0.005, 0.01),\n",
        "\n",
        "              # trial.suggest_categorical() allows only the passed categorical values to be suggested.\n",
        "              'subsample':trial.suggest_categorical('subsample', [0.4, 0.5, 0.6, 0.7, 0.8, 0.9, 1.0]),\n",
        "\n",
        "              # trial.suggest_int() will suggest integer values within the integer range.\n",
        "              'max_depth':trial.suggest_int('max_depth', 3, 11),\n",
        "\n",
        "              'colsample_bylevel':trial.suggest_categorical('colsample_bylevel', [0.4, 0.5, 0.6, 0.7, 0.8, 0.9, 1.0]),\n",
        "\n",
        "              # trail.suggest_loguniform() is used when the range of values have different scales.\n",
        "              'reg_lambda':trial.suggest_loguniform('reg_lambda', 1e-3, 100),\n",
        "              'reg_alpha':trial.suggest_loguniform('reg_alpha', 1e-3, 100),\n",
        "              'n_jobs':-1}\n",
        "\n",
        "    model = XGBRegressor(**params)\n",
        "\n",
        "    split = KFold(n_splits=5)\n",
        "    train_scores = []\n",
        "    test_scores = []\n",
        "    for train_idx, val_idx in split.split(X_train_fe):\n",
        "        X_tr = X_train_fe.iloc[train_idx]\n",
        "        X_val = X_train_fe.iloc[val_idx]\n",
        "        y_tr = y_train.iloc[train_idx]\n",
        "        y_val = y_train.iloc[val_idx]\n",
        "\n",
        "        model.fit(X_tr, y_tr, eval_set=[(X_val, y_val)],\n",
        "                  eval_metric=['rmse'],\n",
        "                  early_stopping_rounds=30, verbose=0,\n",
        "                  # optuna allows us to pass pruning callback to xgboost callbacks, so any trial which does not seem to be\n",
        "                  # better or not qualify a given threshold of loss reduciton after some iterations will get pruned, that is\n",
        "                  # stopped in between hence saving time, we will see it in action below.\n",
        "                  callbacks=[optuna.integration.XGBoostPruningCallback(trial, observation_key=\"validation_0-rmse\")]\n",
        "                 )\n",
        "\n",
        "        train_score = np.round(np.sqrt(mean_squared_error(y_tr, model.predict(X_tr))), 4)\n",
        "        test_score = np.round(np.sqrt(mean_squared_error(y_val, model.predict(X_val))), 4)\n",
        "        train_scores.append(train_score)\n",
        "        test_scores.append(test_score)\n",
        "\n",
        "\n",
        "    print(f'train score : {train_scores}')\n",
        "    print(f'test score : {test_scores}')\n",
        "    train_score = np.round(np.mean(train_scores), 4)\n",
        "    test_score = np.round(np.mean(test_scores), 4)\n",
        "\n",
        "    print(f'TRAIN RMSE : {train_score} || TEST RMSE : {test_score}')\n",
        "\n",
        "    # you can make this function as bespoke as possible... you can return any kind of modified value using the return function\n",
        "    # optuna will try to optimize it!!\n",
        "\n",
        "    return test_score"
      ],
      "execution_count": null,
      "outputs": []
    },
    {
      "metadata": {
        "scrolled": true,
        "_kg_hide-output": true,
        "trusted": false,
        "id": "YHbMZWPBxAQv"
      },
      "cell_type": "code",
      "source": [
        "optimize = partial(objective, X=X_train_fe, y=y_train)\n",
        "\n",
        "study = optuna.create_study(direction='minimize')\n",
        "study.optimize(optimize, n_trials=100) # we have passed 300 trials which are like steps optuna can take to get to the\n",
        "                                       # optimized value."
      ],
      "execution_count": null,
      "outputs": []
    },
    {
      "metadata": {
        "id": "gDyr9Kh5xAQv"
      },
      "cell_type": "markdown",
      "source": [
        "### Optuna plots"
      ]
    },
    {
      "metadata": {
        "trusted": false,
        "id": "TV-eKyQNxAQv"
      },
      "cell_type": "code",
      "source": [
        "optuna.visualization.plot_optimization_history(study)"
      ],
      "execution_count": null,
      "outputs": []
    },
    {
      "metadata": {
        "id": "s3fUsA7ixAQv"
      },
      "cell_type": "markdown",
      "source": [
        "This plot lets us visualize a summary of the trials which optuna went through."
      ]
    },
    {
      "metadata": {
        "scrolled": false,
        "trusted": false,
        "id": "e7-_0cPcxAQv"
      },
      "cell_type": "code",
      "source": [
        "optuna.visualization.plot_slice(study)"
      ],
      "execution_count": null,
      "outputs": []
    },
    {
      "metadata": {
        "id": "1xFYyIsnxAQv"
      },
      "cell_type": "markdown",
      "source": [
        "Using this plot we can easily visualize which parameters range optuna found useful for optimization.. in case of learning_rate we can see that optuna concentrates more on the right half which is evident from the cluster of dots in the right half of the plot."
      ]
    },
    {
      "metadata": {
        "id": "gHJ_146wxAQv"
      },
      "cell_type": "markdown",
      "source": [
        "### Fine tuning 'gamma'"
      ]
    },
    {
      "metadata": {
        "id": "28l6gPeQxAQv"
      },
      "cell_type": "markdown",
      "source": [
        "gamma governs the minimum impurity reduction required to split the node. It is 0 by default which will make the algorithm keep on splitting nodes arbitrarily even with miniscule reduction in impurity. This cause birth of leaves that are fitted on the noise of training data... what we want to do is restrict this and improve generalization. lets fine tune gamma using a plot."
      ]
    },
    {
      "metadata": {
        "_kg_hide-input": true,
        "trusted": false,
        "id": "HQ8aEPRAxAQw"
      },
      "cell_type": "code",
      "source": [
        "plt.style.use('fivethirtyeight')\n",
        "training_scores = []\n",
        "validation_scores = []\n",
        "test_score_matrix = []\n",
        "params = study.best_params\n",
        "params['n_estimators'] = 10000\n",
        "params['n_jobs'] = -1\n",
        "for gamma in 0.001*np.arange(0, 100, 1):\n",
        "    params['gamma'] = gamma\n",
        "    model = XGBRegressor(**params)\n",
        "    train_scores = []\n",
        "    test_scores = []\n",
        "    split = KFold(n_splits=5)\n",
        "    for train_idx, val_idx in split.split(X_train_fe):\n",
        "        X_tr = X_train_fe.iloc[train_idx]\n",
        "        X_val = X_train_fe.iloc[val_idx]\n",
        "        y_tr = y_train.iloc[train_idx]\n",
        "        y_val = y_train.iloc[val_idx]\n",
        "\n",
        "        model.fit(X_tr, y_tr, eval_set=[(X_val, y_val)],\n",
        "                  eval_metric=['rmse'],\n",
        "                  early_stopping_rounds=30, verbose=0)\n",
        "                  #callbacks=[optuna.integration.XGBoostPruningCallback(trial, observation_key=\"validation_0-rmse\")])\n",
        "\n",
        "        train_score = np.round(np.sqrt(mean_squared_error(y_tr, model.predict(X_tr))), 4)\n",
        "        test_score = np.round(np.sqrt(mean_squared_error(y_val, model.predict(X_val))), 4)\n",
        "        train_scores.append(train_score)\n",
        "        test_scores.append(test_score)\n",
        "    test_score_matrix.append(test_scores)\n",
        "\n",
        "    print(f'working on gamma : {gamma}')\n",
        "    print(f'train scores : {train_scores}')\n",
        "    print(f'test scores : {test_scores}')\n",
        "    print(f'Mean OOF RMSLE : {np.mean(test_scores)}')\n",
        "    train_score = np.mean(train_scores)\n",
        "    test_score = np.mean(test_scores)\n",
        "\n",
        "    training_scores.append(train_score)\n",
        "    validation_scores.append(test_score)\n",
        "\n",
        "plt.figure(figsize=(15, 8))\n",
        "plt.plot(training_scores, 'r-', label='Train-Gamma-Effect')\n",
        "plt.plot(validation_scores, 'b-', label='Test-Gamma-Effect')\n",
        "plt.legend()\n",
        "plt.grid()\n",
        "plt.show()"
      ],
      "execution_count": null,
      "outputs": []
    },
    {
      "metadata": {
        "id": "IHDw_hMlxAQw"
      },
      "cell_type": "markdown",
      "source": [
        "We can see that as the gamma value increases the overfitting decreases.... if the dataset had many more instances, we could have seen that increasing gamma initially improves loss and then it agains starts to increase... using gamma is important as it prunes leafs that are causing model to fit on the noise of the training data set."
      ]
    },
    {
      "metadata": {
        "execution": {
          "iopub.execute_input": "2021-01-24T11:56:39.405112Z",
          "iopub.status.busy": "2021-01-24T11:56:39.404385Z",
          "iopub.status.idle": "2021-01-24T11:56:39.408252Z",
          "shell.execute_reply": "2021-01-24T11:56:39.407429Z"
        },
        "papermill": {
          "duration": 0.142742,
          "end_time": "2021-01-24T11:56:39.408377",
          "exception": false,
          "start_time": "2021-01-24T11:56:39.265635",
          "status": "completed"
        },
        "tags": [],
        "trusted": false,
        "id": "IL6GPU2MxAQw"
      },
      "cell_type": "code",
      "source": [
        "params = study.best_params\n",
        "params['n_estimators'] = 1300\n",
        "params['gamma'] = 0.05\n",
        "best_params_xgb = params"
      ],
      "execution_count": null,
      "outputs": []
    },
    {
      "metadata": {
        "papermill": {
          "duration": 0.131786,
          "end_time": "2021-01-24T11:56:39.674028",
          "exception": false,
          "start_time": "2021-01-24T11:56:39.542242",
          "status": "completed"
        },
        "tags": [],
        "id": "6ZyGX2hZxAQw"
      },
      "cell_type": "markdown",
      "source": [
        "## Stacking"
      ]
    },
    {
      "metadata": {
        "execution": {
          "iopub.execute_input": "2021-01-24T11:56:39.945383Z",
          "iopub.status.busy": "2021-01-24T11:56:39.944457Z",
          "iopub.status.idle": "2021-01-24T11:56:39.94774Z",
          "shell.execute_reply": "2021-01-24T11:56:39.94712Z"
        },
        "papermill": {
          "duration": 0.141176,
          "end_time": "2021-01-24T11:56:39.947861",
          "exception": false,
          "start_time": "2021-01-24T11:56:39.806685",
          "status": "completed"
        },
        "tags": [],
        "trusted": false,
        "id": "MkkP6HtUxAQw"
      },
      "cell_type": "code",
      "source": [
        "def model_evaluation(model):\n",
        "    cv = RepeatedKFold(n_splits=8, n_repeats=2)\n",
        "    scores = cross_val_score(model, X_train_fe, y_train, cv=cv, n_jobs=-1, scoring='neg_mean_squared_error')\n",
        "    return np.sqrt(np.abs(scores))"
      ],
      "execution_count": null,
      "outputs": []
    },
    {
      "metadata": {
        "execution": {
          "iopub.execute_input": "2021-01-24T11:56:40.221065Z",
          "iopub.status.busy": "2021-01-24T11:56:40.220132Z",
          "iopub.status.idle": "2021-01-24T11:56:40.222434Z",
          "shell.execute_reply": "2021-01-24T11:56:40.222979Z"
        },
        "papermill": {
          "duration": 0.143322,
          "end_time": "2021-01-24T11:56:40.223118",
          "exception": false,
          "start_time": "2021-01-24T11:56:40.079796",
          "status": "completed"
        },
        "tags": [],
        "trusted": false,
        "id": "e1hpfqipxAQw"
      },
      "cell_type": "code",
      "source": [
        "lasso = Lasso(**best_params_lasso)\n",
        "ridge = Ridge(**best_params_ridge)\n",
        "elastic = ElasticNet(**best_params_elastic)\n",
        "svr = SVR(**best_params_svr)\n",
        "extra = ExtraTreesRegressor(**best_params_extra)\n",
        "random = RandomForestRegressor(**best_params_random)\n",
        "gradient = GradientBoostingRegressor(**best_params_gradient)\n",
        "xgb = XGBRegressor(**best_params_xgb)\n",
        "\n",
        "\n",
        "\n",
        "model_list1 = [('lasso', lasso),\n",
        "          ('svr', svr),\n",
        "          ('extra', extra),\n",
        "          ('elastic', elastic),\n",
        "          ('ridge', ridge),\n",
        "          ('random', random),\n",
        "          ('gradient', gradient),\n",
        "          ('xgb', xgb),\n",
        "           ]"
      ],
      "execution_count": null,
      "outputs": []
    },
    {
      "metadata": {
        "execution": {
          "iopub.execute_input": "2021-01-24T11:56:40.521203Z",
          "iopub.status.busy": "2021-01-24T11:56:40.520321Z",
          "iopub.status.idle": "2021-01-24T11:56:40.523516Z",
          "shell.execute_reply": "2021-01-24T11:56:40.52298Z"
        },
        "papermill": {
          "duration": 0.163868,
          "end_time": "2021-01-24T11:56:40.523675",
          "exception": false,
          "start_time": "2021-01-24T11:56:40.359807",
          "status": "completed"
        },
        "tags": [],
        "trusted": false,
        "id": "ccv2SSEnxAQw"
      },
      "cell_type": "code",
      "source": [
        "stack_reg = StackingRegressor(estimators=model_list1, cv=8, n_jobs=-1)"
      ],
      "execution_count": null,
      "outputs": []
    },
    {
      "metadata": {
        "_kg_hide-input": true,
        "execution": {
          "iopub.execute_input": "2021-01-24T11:56:40.796984Z",
          "iopub.status.busy": "2021-01-24T11:56:40.795896Z",
          "iopub.status.idle": "2021-01-24T12:10:53.182495Z",
          "shell.execute_reply": "2021-01-24T12:10:53.183058Z"
        },
        "papermill": {
          "duration": 852.528162,
          "end_time": "2021-01-24T12:10:53.183213",
          "exception": false,
          "start_time": "2021-01-24T11:56:40.655051",
          "status": "completed"
        },
        "scrolled": false,
        "tags": [],
        "trusted": false,
        "id": "RxFS7tdXxAQw"
      },
      "cell_type": "code",
      "source": [
        "models = {'lasso': lasso,\n",
        "           'ridge': ridge,\n",
        "           'elastic': elastic,\n",
        "           'svr': svr,\n",
        "           'extra' : extra,\n",
        "           'random':random,\n",
        "           'gradient': gradient,\n",
        "           'xgb': xgb,\n",
        "           'stack_reg':stack_reg\n",
        "         }\n",
        "\n",
        "\n",
        "scores = []\n",
        "names = []\n",
        "\n",
        "for name, model in models.items():\n",
        "    score = model_evaluation(model)\n",
        "    scores.append(score)\n",
        "    names.append(name)\n",
        "\n",
        "plt.figure(figsize=(16, 8))\n",
        "plt.boxplot(scores, labels=names, showmeans=True)\n",
        "plt.show()"
      ],
      "execution_count": null,
      "outputs": []
    },
    {
      "metadata": {
        "papermill": {
          "duration": 0.133195,
          "end_time": "2021-01-24T12:10:53.45056",
          "exception": false,
          "start_time": "2021-01-24T12:10:53.317365",
          "status": "completed"
        },
        "tags": [],
        "id": "2roxIAuSxAQw"
      },
      "cell_type": "markdown",
      "source": [
        "We can appreciate how the stacking has its spread lowest among all the other models!!"
      ]
    },
    {
      "metadata": {
        "execution": {
          "iopub.execute_input": "2021-01-24T12:10:53.726632Z",
          "iopub.status.busy": "2021-01-24T12:10:53.725896Z",
          "iopub.status.idle": "2021-01-24T12:12:04.358056Z",
          "shell.execute_reply": "2021-01-24T12:12:04.358631Z"
        },
        "papermill": {
          "duration": 70.770958,
          "end_time": "2021-01-24T12:12:04.358835",
          "exception": false,
          "start_time": "2021-01-24T12:10:53.587877",
          "status": "completed"
        },
        "tags": [],
        "trusted": false,
        "id": "BtTqeFOHxAQw"
      },
      "cell_type": "code",
      "source": [
        "stack_reg.fit(X_train_fe, y_train)"
      ],
      "execution_count": null,
      "outputs": []
    },
    {
      "metadata": {
        "execution": {
          "iopub.execute_input": "2021-01-24T12:12:04.672074Z",
          "iopub.status.busy": "2021-01-24T12:12:04.671095Z",
          "iopub.status.idle": "2021-01-24T12:12:05.391778Z",
          "shell.execute_reply": "2021-01-24T12:12:05.391013Z"
        },
        "papermill": {
          "duration": 0.864443,
          "end_time": "2021-01-24T12:12:05.391937",
          "exception": false,
          "start_time": "2021-01-24T12:12:04.527494",
          "status": "completed"
        },
        "tags": [],
        "trusted": false,
        "id": "3ICSO5AaxAQw"
      },
      "cell_type": "code",
      "source": [
        "submission = pd.DataFrame(stack_reg.predict(X_test_fe), columns=['SalePrice'])"
      ],
      "execution_count": null,
      "outputs": []
    },
    {
      "metadata": {
        "execution": {
          "iopub.execute_input": "2021-01-24T12:12:05.717453Z",
          "iopub.status.busy": "2021-01-24T12:12:05.716469Z",
          "iopub.status.idle": "2021-01-24T12:12:05.719679Z",
          "shell.execute_reply": "2021-01-24T12:12:05.719094Z"
        },
        "papermill": {
          "duration": 0.153203,
          "end_time": "2021-01-24T12:12:05.719842",
          "exception": false,
          "start_time": "2021-01-24T12:12:05.566639",
          "status": "completed"
        },
        "tags": [],
        "trusted": false,
        "id": "q5J5_tyIxAQw"
      },
      "cell_type": "code",
      "source": [
        "submission = np.expm1(submission)"
      ],
      "execution_count": null,
      "outputs": []
    },
    {
      "metadata": {
        "execution": {
          "iopub.execute_input": "2021-01-24T12:12:06.002497Z",
          "iopub.status.busy": "2021-01-24T12:12:06.001722Z",
          "iopub.status.idle": "2021-01-24T12:12:06.005419Z",
          "shell.execute_reply": "2021-01-24T12:12:06.004735Z"
        },
        "papermill": {
          "duration": 0.14788,
          "end_time": "2021-01-24T12:12:06.005531",
          "exception": false,
          "start_time": "2021-01-24T12:12:05.857651",
          "status": "completed"
        },
        "tags": [],
        "trusted": false,
        "id": "ZX2QFYewxAQw"
      },
      "cell_type": "code",
      "source": [
        "submission.insert(loc=0, column='id', value=[i for i in range(1461, 2920)])"
      ],
      "execution_count": null,
      "outputs": []
    },
    {
      "metadata": {
        "execution": {
          "iopub.execute_input": "2021-01-24T12:12:06.283749Z",
          "iopub.status.busy": "2021-01-24T12:12:06.283035Z",
          "iopub.status.idle": "2021-01-24T12:12:06.582627Z",
          "shell.execute_reply": "2021-01-24T12:12:06.581899Z"
        },
        "papermill": {
          "duration": 0.441929,
          "end_time": "2021-01-24T12:12:06.582757",
          "exception": false,
          "start_time": "2021-01-24T12:12:06.140828",
          "status": "completed"
        },
        "tags": [],
        "trusted": false,
        "id": "xl-U-WDuxAQw"
      },
      "cell_type": "code",
      "source": [
        "submission.to_csv('submission.csv', index=False)"
      ],
      "execution_count": null,
      "outputs": []
    },
    {
      "metadata": {
        "execution": {
          "iopub.execute_input": "2021-01-24T12:12:06.868092Z",
          "iopub.status.busy": "2021-01-24T12:12:06.867263Z",
          "iopub.status.idle": "2021-01-24T12:12:06.886135Z",
          "shell.execute_reply": "2021-01-24T12:12:06.885449Z"
        },
        "papermill": {
          "duration": 0.166557,
          "end_time": "2021-01-24T12:12:06.886246",
          "exception": false,
          "start_time": "2021-01-24T12:12:06.719689",
          "status": "completed"
        },
        "tags": [],
        "trusted": false,
        "id": "Ja976FUWxAQw"
      },
      "cell_type": "code",
      "source": [
        "pd.read_csv('submission.csv')"
      ],
      "execution_count": null,
      "outputs": []
    },
    {
      "metadata": {
        "papermill": {
          "duration": 0.137537,
          "end_time": "2021-01-24T12:12:07.16319",
          "exception": false,
          "start_time": "2021-01-24T12:12:07.025653",
          "status": "completed"
        },
        "tags": [],
        "id": "6qkVLB4GxAQx"
      },
      "cell_type": "markdown",
      "source": [
        "**If you found the kernel useful, upvote!**\n",
        "\n",
        "**If you have forked it but not upvoted yet, show support and upvote!! :)**\n",
        "\n",
        "**Please leave in the comments any suggestions and constructive criticism!!**"
      ]
    },
    {
      "metadata": {
        "papermill": {
          "duration": 0.136346,
          "end_time": "2021-01-24T12:12:07.437039",
          "exception": false,
          "start_time": "2021-01-24T12:12:07.300693",
          "status": "completed"
        },
        "tags": [],
        "trusted": false,
        "id": "mEpOGrZ0xAQx"
      },
      "cell_type": "code",
      "source": [],
      "execution_count": null,
      "outputs": []
    },
    {
      "metadata": {
        "trusted": true,
        "id": "ZRxCIo6gxAQx"
      },
      "cell_type": "code",
      "source": [],
      "execution_count": null,
      "outputs": []
    }
  ],
  "metadata": {
    "kernelspec": {
      "language": "python",
      "display_name": "Python 3",
      "name": "python3"
    },
    "language_info": {
      "pygments_lexer": "ipython3",
      "nbconvert_exporter": "python",
      "version": "3.6.4",
      "file_extension": ".py",
      "codemirror_mode": {
        "name": "ipython",
        "version": 3
      },
      "name": "python",
      "mimetype": "text/x-python"
    },
    "colab": {
      "name": "HyperParameter Tuning with Optuna and GridSearch",
      "provenance": []
    }
  },
  "nbformat": 4,
  "nbformat_minor": 0
}