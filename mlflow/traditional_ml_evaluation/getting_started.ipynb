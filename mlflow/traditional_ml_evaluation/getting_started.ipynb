{
 "cells": [
  {
   "cell_type": "markdown",
   "metadata": {},
   "source": [
    "# Evaluating ML models"
   ]
  },
  {
   "cell_type": "code",
   "execution_count": 1,
   "metadata": {},
   "outputs": [],
   "source": [
    "import mlflow \n",
    "\n",
    "from sklearn.datasets import make_classification\n",
    "from sklearn.model_selection import train_test_split\n",
    "from sklearn.ensemble import RandomForestClassifier\n",
    "\n",
    "import pandas as pd"
   ]
  },
  {
   "cell_type": "code",
   "execution_count": 2,
   "metadata": {},
   "outputs": [
    {
     "data": {
      "text/plain": [
       "<Experiment: artifact_location='file:///c:/Users/manue/projects/mlflow_for_ml_dev/traditional_ml_evaluation/mlruns/919999149587451714', creation_time=1723858156380, experiment_id='919999149587451714', last_update_time=1723858156380, lifecycle_stage='active', name='classic_evaluation', tags={}>"
      ]
     },
     "execution_count": 2,
     "metadata": {},
     "output_type": "execute_result"
    }
   ],
   "source": [
    "experiment_name = \"classic_evaluation\"\n",
    "mlflow.set_experiment(experiment_name)"
   ]
  },
  {
   "cell_type": "markdown",
   "metadata": {},
   "source": [
    "## Example Dataset"
   ]
  },
  {
   "cell_type": "code",
   "execution_count": 3,
   "metadata": {},
   "outputs": [
    {
     "name": "stdout",
     "output_type": "stream",
     "text": [
      "     feature_1  feature_2  feature_3  feature_4  feature_5\n",
      "29   -1.358062   0.388926  -2.219300   0.629189   0.502890\n",
      "535  -1.692785   0.161613  -0.451659   0.630933   1.416180\n",
      "695   3.291478  -0.557601  -0.580053  -1.342261  -2.159247\n",
      "557  -2.076136   1.416809  -0.181224   1.351993  -1.239513\n",
      "836  -1.348164   0.336725   0.038238   0.601181   0.619803\n"
     ]
    }
   ],
   "source": [
    "x , y = make_classification(n_samples=1000, n_features=5, n_classes=2, random_state=42)\n",
    "\n",
    "x_df = pd.DataFrame(x, columns=[f'feature_{i+1}' for i in range(x.shape[1])])\n",
    "y_df = pd.DataFrame(y, columns=['target'])\n",
    "\n",
    "x_train, x_test, y_train, y_test = train_test_split(x_df, y_df, test_size=0.2, random_state=42)\n",
    "\n",
    "\n",
    "print(x_train.head())"
   ]
  },
  {
   "cell_type": "code",
   "execution_count": 4,
   "metadata": {},
   "outputs": [
    {
     "name": "stderr",
     "output_type": "stream",
     "text": [
      "c:\\Users\\manue\\projects\\mlflow_for_ml_dev\\.venv\\Lib\\site-packages\\sklearn\\base.py:1473: DataConversionWarning: A column-vector y was passed when a 1d array was expected. Please change the shape of y to (n_samples,), for example using ravel().\n",
      "  return fit_method(estimator, *args, **kwargs)\n"
     ]
    }
   ],
   "source": [
    "# instantiate the model\n",
    "rfc = RandomForestClassifier(n_estimators=1)\n",
    "\n",
    "# fit the model\n",
    "rfc.fit(x_train, y_train)\n",
    "\n",
    "# make predictions\n",
    "predictions = rfc.predict(x_test)"
   ]
  },
  {
   "cell_type": "code",
   "execution_count": 5,
   "metadata": {},
   "outputs": [
    {
     "name": "stdout",
     "output_type": "stream",
     "text": [
      "   target  predictions\n",
      "0       1            1\n",
      "1       1            1\n",
      "2       1            1\n",
      "3       1            1\n",
      "4       0            0\n"
     ]
    }
   ],
   "source": [
    "eval_df = pd.DataFrame({\n",
    "    \"target\": y_test.to_numpy().flatten(),\n",
    "    \"predictions\": predictions\n",
    "})\n",
    "print(eval_df.head())"
   ]
  },
  {
   "cell_type": "markdown",
   "metadata": {},
   "source": [
    "### Evaluating the model using the evaluation dataframe"
   ]
  },
  {
   "cell_type": "code",
   "execution_count": 6,
   "metadata": {},
   "outputs": [
    {
     "name": "stderr",
     "output_type": "stream",
     "text": [
      "c:\\Users\\manue\\projects\\mlflow_for_ml_dev\\.venv\\Lib\\site-packages\\mlflow\\types\\utils.py:406: UserWarning: Hint: Inferred schema contains integer column(s). Integer columns in Python cannot represent missing values. If your input data contains missing values at inference time, it will be encoded as floats and will cause a schema enforcement error. The best way to avoid this problem is to infer the model schema based on a realistic data sample (training dataset) that includes missing values. Alternatively, you can declare integer columns as doubles (float64) whenever these columns may have missing values. See `Handling Integers With Missing Values <https://www.mlflow.org/docs/latest/models.html#handling-integers-with-missing-values>`_ for more details.\n",
      "  warnings.warn(\n",
      "2024/08/18 16:07:15 INFO mlflow.models.evaluation.default_evaluator: The evaluation dataset is inferred as binary dataset, positive label is 1, negative label is 0.\n",
      "2024/08/18 16:07:15 INFO mlflow.models.evaluation.default_evaluator: Testing metrics on first row...\n",
      "2024/08/18 16:07:16 INFO mlflow.models.evaluation.default_evaluator: Shap explainer ExactExplainer is used.\n",
      "2024/08/18 16:07:16 WARNING mlflow.models.evaluation.default_evaluator: Shap evaluation failed. Reason: IndexError('list index out of range'). Set logging level to DEBUG to see the full traceback.\n"
     ]
    },
    {
     "data": {
      "text/plain": [
       "<Figure size 1050x700 with 0 Axes>"
      ]
     },
     "metadata": {},
     "output_type": "display_data"
    }
   ],
   "source": [
    "result = mlflow.evaluate(\n",
    "    data = eval_df,\n",
    "    model_type  = \"classifier\",\n",
    "    targets= \"target\",\n",
    "    predictions=\"predictions\"\n",
    ")"
   ]
  },
  {
   "cell_type": "markdown",
   "metadata": {},
   "source": [
    "### Evaluating the model providing the estimator.\n",
    "\n",
    "1. Provide the model as a function"
   ]
  },
  {
   "cell_type": "code",
   "execution_count": 7,
   "metadata": {},
   "outputs": [],
   "source": [
    "def random_forest_clf(model_input):\n",
    "    return rfc.predict(model_input)"
   ]
  },
  {
   "cell_type": "code",
   "execution_count": 8,
   "metadata": {},
   "outputs": [],
   "source": [
    "eval_df_for_model = x_test.copy()\n",
    "eval_df_for_model['target'] = y_test"
   ]
  },
  {
   "cell_type": "code",
   "execution_count": 9,
   "metadata": {},
   "outputs": [
    {
     "data": {
      "text/html": [
       "<div>\n",
       "<style scoped>\n",
       "    .dataframe tbody tr th:only-of-type {\n",
       "        vertical-align: middle;\n",
       "    }\n",
       "\n",
       "    .dataframe tbody tr th {\n",
       "        vertical-align: top;\n",
       "    }\n",
       "\n",
       "    .dataframe thead th {\n",
       "        text-align: right;\n",
       "    }\n",
       "</style>\n",
       "<table border=\"1\" class=\"dataframe\">\n",
       "  <thead>\n",
       "    <tr style=\"text-align: right;\">\n",
       "      <th></th>\n",
       "      <th>feature_1</th>\n",
       "      <th>feature_2</th>\n",
       "      <th>feature_3</th>\n",
       "      <th>feature_4</th>\n",
       "      <th>feature_5</th>\n",
       "      <th>target</th>\n",
       "    </tr>\n",
       "  </thead>\n",
       "  <tbody>\n",
       "    <tr>\n",
       "      <th>521</th>\n",
       "      <td>1.250932</td>\n",
       "      <td>-1.064291</td>\n",
       "      <td>-2.238231</td>\n",
       "      <td>-0.914547</td>\n",
       "      <td>1.261286</td>\n",
       "      <td>1</td>\n",
       "    </tr>\n",
       "    <tr>\n",
       "      <th>737</th>\n",
       "      <td>-0.196283</td>\n",
       "      <td>0.190820</td>\n",
       "      <td>-0.243384</td>\n",
       "      <td>0.154804</td>\n",
       "      <td>-0.256094</td>\n",
       "      <td>1</td>\n",
       "    </tr>\n",
       "    <tr>\n",
       "      <th>740</th>\n",
       "      <td>2.659138</td>\n",
       "      <td>-0.265773</td>\n",
       "      <td>1.072978</td>\n",
       "      <td>-0.996758</td>\n",
       "      <td>-2.195564</td>\n",
       "      <td>1</td>\n",
       "    </tr>\n",
       "    <tr>\n",
       "      <th>660</th>\n",
       "      <td>0.087778</td>\n",
       "      <td>-0.021011</td>\n",
       "      <td>-0.667780</td>\n",
       "      <td>-0.038709</td>\n",
       "      <td>-0.042586</td>\n",
       "      <td>1</td>\n",
       "    </tr>\n",
       "    <tr>\n",
       "      <th>411</th>\n",
       "      <td>-0.662457</td>\n",
       "      <td>0.741043</td>\n",
       "      <td>-0.358340</td>\n",
       "      <td>0.568499</td>\n",
       "      <td>-1.101298</td>\n",
       "      <td>0</td>\n",
       "    </tr>\n",
       "  </tbody>\n",
       "</table>\n",
       "</div>"
      ],
      "text/plain": [
       "     feature_1  feature_2  feature_3  feature_4  feature_5  target\n",
       "521   1.250932  -1.064291  -2.238231  -0.914547   1.261286       1\n",
       "737  -0.196283   0.190820  -0.243384   0.154804  -0.256094       1\n",
       "740   2.659138  -0.265773   1.072978  -0.996758  -2.195564       1\n",
       "660   0.087778  -0.021011  -0.667780  -0.038709  -0.042586       1\n",
       "411  -0.662457   0.741043  -0.358340   0.568499  -1.101298       0"
      ]
     },
     "execution_count": 9,
     "metadata": {},
     "output_type": "execute_result"
    }
   ],
   "source": [
    "eval_df_for_model.head()"
   ]
  },
  {
   "cell_type": "code",
   "execution_count": 10,
   "metadata": {},
   "outputs": [
    {
     "name": "stderr",
     "output_type": "stream",
     "text": [
      "c:\\Users\\manue\\projects\\mlflow_for_ml_dev\\.venv\\Lib\\site-packages\\mlflow\\types\\utils.py:406: UserWarning: Hint: Inferred schema contains integer column(s). Integer columns in Python cannot represent missing values. If your input data contains missing values at inference time, it will be encoded as floats and will cause a schema enforcement error. The best way to avoid this problem is to infer the model schema based on a realistic data sample (training dataset) that includes missing values. Alternatively, you can declare integer columns as doubles (float64) whenever these columns may have missing values. See `Handling Integers With Missing Values <https://www.mlflow.org/docs/latest/models.html#handling-integers-with-missing-values>`_ for more details.\n",
      "  warnings.warn(\n",
      "2024/08/18 16:07:37 INFO mlflow.models.evaluation.default_evaluator: Computing model predictions.\n",
      "2024/08/18 16:07:37 INFO mlflow.models.evaluation.default_evaluator: The evaluation dataset is inferred as binary dataset, positive label is 1, negative label is 0.\n",
      "2024/08/18 16:07:37 INFO mlflow.models.evaluation.default_evaluator: Testing metrics on first row...\n",
      "2024/08/18 16:07:37 INFO mlflow.models.evaluation.default_evaluator: Shap explainer ExactExplainer is used.\n",
      "c:\\Users\\manue\\projects\\mlflow_for_ml_dev\\.venv\\Lib\\site-packages\\mlflow\\shap\\__init__.py:437: UserWarning: Unable to serialize underlying model using MLflow, will use SHAP serialization\n",
      "  warnings.warn(\n",
      "2024/08/18 16:07:48 WARNING mlflow.models.model: Input example should be provided to infer model signature if the model signature is not provided when logging the model.\n"
     ]
    }
   ],
   "source": [
    "result = mlflow.evaluate(\n",
    "    model = random_forest_clf,\n",
    "    data = eval_df_for_model,\n",
    "    model_type  = \"classifier\",\n",
    "    targets= \"target\",\n",
    "    predictions=\"predictions\"\n",
    ")"
   ]
  },
  {
   "cell_type": "code",
   "execution_count": 14,
   "metadata": {},
   "outputs": [
    {
     "data": {
      "text/plain": [
       "{'true_negatives': 86,\n",
       " 'false_positives': 11,\n",
       " 'false_negatives': 13,\n",
       " 'true_positives': 90,\n",
       " 'example_count': 200,\n",
       " 'accuracy_score': 0.88,\n",
       " 'recall_score': 0.8737864077669902,\n",
       " 'precision_score': 0.8910891089108911,\n",
       " 'f1_score': 0.8823529411764706}"
      ]
     },
     "execution_count": 14,
     "metadata": {},
     "output_type": "execute_result"
    }
   ],
   "source": [
    "result.metrics"
   ]
  },
  {
   "cell_type": "markdown",
   "metadata": {},
   "source": [
    "## Adding extra metrics"
   ]
  },
  {
   "cell_type": "code",
   "execution_count": 15,
   "metadata": {},
   "outputs": [],
   "source": [
    "from mlflow.metrics import make_metric\n",
    "from sklearn.metrics import f1_score"
   ]
  },
  {
   "cell_type": "code",
   "execution_count": 17,
   "metadata": {},
   "outputs": [],
   "source": [
    "def custom_accuracy(df, __builtin_metrics):\n",
    "    targets = df[\"target\"]\n",
    "    predictions = df[\"prediction\"]\n",
    "    return sum(targets == predictions) / len(targets)\n",
    "\n",
    "def custom_f1_score(df, __builtin_metrics):\n",
    "    targets = df[\"target\"]\n",
    "    predictions = df[\"prediction\"]\n",
    "    return f1_score(targets, predictions, average=\"weighted\")"
   ]
  },
  {
   "cell_type": "code",
   "execution_count": 18,
   "metadata": {},
   "outputs": [],
   "source": [
    "custom_metric_accuracy = make_metric(\n",
    "    eval_fn = custom_accuracy,\n",
    "    name = \"custom_accuracy\",\n",
    "    greater_is_better=True,\n",
    ")\n",
    "\n",
    "custom_metric_f1_score = make_metric(\n",
    "    eval_fn = custom_f1_score,\n",
    "    name = \"custom_f1_score\",\n",
    "    greater_is_better=True,\n",
    ")"
   ]
  },
  {
   "cell_type": "code",
   "execution_count": 19,
   "metadata": {},
   "outputs": [
    {
     "name": "stderr",
     "output_type": "stream",
     "text": [
      "c:\\Users\\manue\\projects\\mlflow_for_ml_dev\\.venv\\Lib\\site-packages\\mlflow\\types\\utils.py:406: UserWarning: Hint: Inferred schema contains integer column(s). Integer columns in Python cannot represent missing values. If your input data contains missing values at inference time, it will be encoded as floats and will cause a schema enforcement error. The best way to avoid this problem is to infer the model schema based on a realistic data sample (training dataset) that includes missing values. Alternatively, you can declare integer columns as doubles (float64) whenever these columns may have missing values. See `Handling Integers With Missing Values <https://www.mlflow.org/docs/latest/models.html#handling-integers-with-missing-values>`_ for more details.\n",
      "  warnings.warn(\n",
      "2024/08/18 16:10:37 INFO mlflow.models.evaluation.default_evaluator: Computing model predictions.\n",
      "2024/08/18 16:10:37 INFO mlflow.models.evaluation.default_evaluator: The evaluation dataset is inferred as binary dataset, positive label is 1, negative label is 0.\n",
      "2024/08/18 16:10:37 INFO mlflow.models.evaluation.default_evaluator: Testing metrics on first row...\n",
      "2024/08/18 16:10:37 INFO mlflow.models.evaluation.default_evaluator: Shap explainer ExactExplainer is used.\n",
      "c:\\Users\\manue\\projects\\mlflow_for_ml_dev\\.venv\\Lib\\site-packages\\mlflow\\shap\\__init__.py:437: UserWarning: Unable to serialize underlying model using MLflow, will use SHAP serialization\n",
      "  warnings.warn(\n",
      "c:\\Users\\manue\\projects\\mlflow_for_ml_dev\\.venv\\Lib\\site-packages\\_distutils_hack\\__init__.py:11: UserWarning: Distutils was imported before Setuptools, but importing Setuptools also replaces the `distutils` module in `sys.modules`. This may lead to undesirable behaviors or errors. To avoid these issues, avoid using distutils directly, ensure that setuptools is installed in the traditional way (e.g. not an editable install), and/or make sure that setuptools is always imported before distutils.\n",
      "  warnings.warn(\n",
      "c:\\Users\\manue\\projects\\mlflow_for_ml_dev\\.venv\\Lib\\site-packages\\_distutils_hack\\__init__.py:26: UserWarning: Setuptools is replacing distutils.\n",
      "  warnings.warn(\"Setuptools is replacing distutils.\")\n",
      "2024/08/18 16:10:43 WARNING mlflow.models.model: Input example should be provided to infer model signature if the model signature is not provided when logging the model.\n"
     ]
    }
   ],
   "source": [
    "result = mlflow.evaluate(\n",
    "    model = random_forest_clf,\n",
    "    data = eval_df_for_model,\n",
    "    model_type  = \"classifier\",\n",
    "    targets=\"target\",\n",
    "    predictions=\"predictions\",\n",
    "    extra_metrics=[custom_metric_accuracy, custom_metric_f1_score]\n",
    ")\n"
   ]
  },
  {
   "cell_type": "code",
   "execution_count": 20,
   "metadata": {},
   "outputs": [
    {
     "data": {
      "text/plain": [
       "{'confusion_matrix': ImageEvaluationArtifact(uri='file:///c:/Users/manue/projects/mlflow_for_ml_dev/traditional_ml_evaluation/mlruns/919999149587451714/2e01853f0cda4216b61129f7839eb881/artifacts/confusion_matrix.png'),\n",
       " 'shap_beeswarm_plot': ImageEvaluationArtifact(uri='file:///c:/Users/manue/projects/mlflow_for_ml_dev/traditional_ml_evaluation/mlruns/919999149587451714/2e01853f0cda4216b61129f7839eb881/artifacts/shap_beeswarm_plot.png'),\n",
       " 'shap_summary_plot': ImageEvaluationArtifact(uri='file:///c:/Users/manue/projects/mlflow_for_ml_dev/traditional_ml_evaluation/mlruns/919999149587451714/2e01853f0cda4216b61129f7839eb881/artifacts/shap_summary_plot.png'),\n",
       " 'shap_feature_importance_plot': ImageEvaluationArtifact(uri='file:///c:/Users/manue/projects/mlflow_for_ml_dev/traditional_ml_evaluation/mlruns/919999149587451714/2e01853f0cda4216b61129f7839eb881/artifacts/shap_feature_importance_plot.png')}"
      ]
     },
     "execution_count": 20,
     "metadata": {},
     "output_type": "execute_result"
    }
   ],
   "source": [
    "result.artifacts"
   ]
  },
  {
   "cell_type": "markdown",
   "metadata": {},
   "source": [
    "## Adding Custom Artifacts"
   ]
  },
  {
   "cell_type": "code",
   "execution_count": 35,
   "metadata": {},
   "outputs": [],
   "source": [
    "from sklearn.metrics import PrecisionRecallDisplay\n",
    "import matplotlib.pyplot as plt\n",
    "\n",
    "# Custom precision recal curve\n",
    "def custom_precision_recall_curve(df, _builtin_metrics, _artifacts_dir):\n",
    "    targets = df[\"target\"]\n",
    "    predictions = df[\"prediction\"]\n",
    "    pr_display = PrecisionRecallDisplay.from_predictions(targets, predictions)\n",
    "    return {\"precision_recall_curve\": pr_display.figure_}\n"
   ]
  },
  {
   "cell_type": "code",
   "execution_count": 36,
   "metadata": {},
   "outputs": [
    {
     "name": "stderr",
     "output_type": "stream",
     "text": [
      "c:\\Users\\manue\\projects\\mlflow_for_ml_dev\\.venv\\Lib\\site-packages\\mlflow\\types\\utils.py:406: UserWarning: Hint: Inferred schema contains integer column(s). Integer columns in Python cannot represent missing values. If your input data contains missing values at inference time, it will be encoded as floats and will cause a schema enforcement error. The best way to avoid this problem is to infer the model schema based on a realistic data sample (training dataset) that includes missing values. Alternatively, you can declare integer columns as doubles (float64) whenever these columns may have missing values. See `Handling Integers With Missing Values <https://www.mlflow.org/docs/latest/models.html#handling-integers-with-missing-values>`_ for more details.\n",
      "  warnings.warn(\n",
      "2024/08/18 16:12:43 INFO mlflow.models.evaluation.default_evaluator: The evaluation dataset is inferred as binary dataset, positive label is 1, negative label is 0.\n",
      "2024/08/18 16:12:43 INFO mlflow.models.evaluation.default_evaluator: Testing metrics on first row...\n",
      "2024/08/18 16:12:44 INFO mlflow.models.evaluation.default_evaluator: Shap explainer ExactExplainer is used.\n",
      "2024/08/18 16:12:44 WARNING mlflow.models.evaluation.default_evaluator: Shap evaluation failed. Reason: IndexError('list index out of range'). Set logging level to DEBUG to see the full traceback.\n"
     ]
    }
   ],
   "source": [
    "result = mlflow.evaluate(\n",
    "        data = eval_df,\n",
    "        model_type  = \"classifier\",\n",
    "        targets=\"target\",\n",
    "        predictions=\"predictions\",\n",
    "        extra_metrics=[custom_metric_accuracy, custom_metric_f1_score],\n",
    "        custom_artifacts=[custom_precision_recall_curve]\n",
    ")"
   ]
  },
  {
   "cell_type": "code",
   "execution_count": 37,
   "metadata": {},
   "outputs": [
    {
     "data": {
      "text/plain": [
       "{'precision_recall_curve': ImageEvaluationArtifact(uri='file:///c:/Users/manue/projects/mlflow_for_ml_dev/traditional_ml_evaluation/mlruns/919999149587451714/a36801e417c3435b9dae664480796d66/artifacts/precision_recall_curve.png'),\n",
       " 'confusion_matrix': ImageEvaluationArtifact(uri='file:///c:/Users/manue/projects/mlflow_for_ml_dev/traditional_ml_evaluation/mlruns/919999149587451714/a36801e417c3435b9dae664480796d66/artifacts/confusion_matrix.png')}"
      ]
     },
     "execution_count": 37,
     "metadata": {},
     "output_type": "execute_result"
    }
   ],
   "source": [
    "result.artifacts"
   ]
  },
  {
   "cell_type": "code",
   "execution_count": 38,
   "metadata": {},
   "outputs": [
    {
     "name": "stderr",
     "output_type": "stream",
     "text": [
      "c:\\Users\\manue\\projects\\mlflow_for_ml_dev\\.venv\\Lib\\site-packages\\mlflow\\types\\utils.py:406: UserWarning: Hint: Inferred schema contains integer column(s). Integer columns in Python cannot represent missing values. If your input data contains missing values at inference time, it will be encoded as floats and will cause a schema enforcement error. The best way to avoid this problem is to infer the model schema based on a realistic data sample (training dataset) that includes missing values. Alternatively, you can declare integer columns as doubles (float64) whenever these columns may have missing values. See `Handling Integers With Missing Values <https://www.mlflow.org/docs/latest/models.html#handling-integers-with-missing-values>`_ for more details.\n",
      "  warnings.warn(\n",
      "2024/08/18 16:12:48 INFO mlflow.models.evaluation.default_evaluator: Computing model predictions.\n",
      "2024/08/18 16:12:48 INFO mlflow.models.evaluation.default_evaluator: The evaluation dataset is inferred as binary dataset, positive label is 1, negative label is 0.\n",
      "2024/08/18 16:12:48 INFO mlflow.models.evaluation.default_evaluator: Testing metrics on first row...\n",
      "2024/08/18 16:12:49 INFO mlflow.models.evaluation.default_evaluator: Shap explainer ExactExplainer is used.\n",
      "c:\\Users\\manue\\projects\\mlflow_for_ml_dev\\.venv\\Lib\\site-packages\\mlflow\\shap\\__init__.py:437: UserWarning: Unable to serialize underlying model using MLflow, will use SHAP serialization\n",
      "  warnings.warn(\n",
      "c:\\Users\\manue\\projects\\mlflow_for_ml_dev\\.venv\\Lib\\site-packages\\_distutils_hack\\__init__.py:11: UserWarning: Distutils was imported before Setuptools, but importing Setuptools also replaces the `distutils` module in `sys.modules`. This may lead to undesirable behaviors or errors. To avoid these issues, avoid using distutils directly, ensure that setuptools is installed in the traditional way (e.g. not an editable install), and/or make sure that setuptools is always imported before distutils.\n",
      "  warnings.warn(\n",
      "c:\\Users\\manue\\projects\\mlflow_for_ml_dev\\.venv\\Lib\\site-packages\\_distutils_hack\\__init__.py:26: UserWarning: Setuptools is replacing distutils.\n",
      "  warnings.warn(\"Setuptools is replacing distutils.\")\n",
      "2024/08/18 16:12:54 WARNING mlflow.models.model: Input example should be provided to infer model signature if the model signature is not provided when logging the model.\n"
     ]
    }
   ],
   "source": [
    "result = mlflow.evaluate(\n",
    "    model = random_forest_clf,\n",
    "    data = eval_df_for_model,\n",
    "    model_type  = \"classifier\",\n",
    "    targets=\"target\",\n",
    "    predictions=\"predictions\",\n",
    "    extra_metrics=[custom_metric_accuracy, custom_metric_f1_score],\n",
    "    custom_artifacts=[custom_precision_recall_curve]\n",
    ")"
   ]
  },
  {
   "cell_type": "code",
   "execution_count": 39,
   "metadata": {},
   "outputs": [
    {
     "data": {
      "text/plain": [
       "{'precision_recall_curve': ImageEvaluationArtifact(uri='file:///c:/Users/manue/projects/mlflow_for_ml_dev/traditional_ml_evaluation/mlruns/919999149587451714/c748e2cf7f8e49e2a14340e85efc6118/artifacts/precision_recall_curve.png'),\n",
       " 'confusion_matrix': ImageEvaluationArtifact(uri='file:///c:/Users/manue/projects/mlflow_for_ml_dev/traditional_ml_evaluation/mlruns/919999149587451714/c748e2cf7f8e49e2a14340e85efc6118/artifacts/confusion_matrix.png'),\n",
       " 'shap_beeswarm_plot': ImageEvaluationArtifact(uri='file:///c:/Users/manue/projects/mlflow_for_ml_dev/traditional_ml_evaluation/mlruns/919999149587451714/c748e2cf7f8e49e2a14340e85efc6118/artifacts/shap_beeswarm_plot.png'),\n",
       " 'shap_summary_plot': ImageEvaluationArtifact(uri='file:///c:/Users/manue/projects/mlflow_for_ml_dev/traditional_ml_evaluation/mlruns/919999149587451714/c748e2cf7f8e49e2a14340e85efc6118/artifacts/shap_summary_plot.png'),\n",
       " 'shap_feature_importance_plot': ImageEvaluationArtifact(uri='file:///c:/Users/manue/projects/mlflow_for_ml_dev/traditional_ml_evaluation/mlruns/919999149587451714/c748e2cf7f8e49e2a14340e85efc6118/artifacts/shap_feature_importance_plot.png')}"
      ]
     },
     "execution_count": 39,
     "metadata": {},
     "output_type": "execute_result"
    }
   ],
   "source": [
    "result.artifacts"
   ]
  },
  {
   "cell_type": "code",
   "execution_count": 40,
   "metadata": {},
   "outputs": [],
   "source": [
    "\n"
   ]
  }
 ],
 "metadata": {
  "kernelspec": {
   "display_name": ".venv",
   "language": "python",
   "name": "python3"
  },
  "language_info": {
   "codemirror_mode": {
    "name": "ipython",
    "version": 3
   },
   "file_extension": ".py",
   "mimetype": "text/x-python",
   "name": "python",
   "nbconvert_exporter": "python",
   "pygments_lexer": "ipython3",
   "version": "3.11.8"
  }
 },
 "nbformat": 4,
 "nbformat_minor": 2
}
